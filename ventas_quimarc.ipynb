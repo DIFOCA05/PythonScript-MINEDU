{
 "cells": [
  {
   "cell_type": "code",
   "execution_count": 92,
   "metadata": {},
   "outputs": [],
   "source": [
    "from multiprocessing import connection\n",
    "import pyodbc\n",
    "import pandas as pd\n",
    "\n",
    "fecha=str(\"2022-09-29\")\n",
    "vendedor=\"L. TEMOCHE\"\n",
    "\n",
    "sheet_url = \"https://docs.google.com/spreadsheets/d/1V_-lLd6FnPYqK4mWwIDeyQ5J2JZCAkJS/edit#gid=1291102654\"\n",
    "url_1 = sheet_url.replace('/edit#gid=', '/export?format=csv&gid=')\n",
    "df = pd.read_csv(url_1)\n",
    "\n",
    "sheet_url = \"https://docs.google.com/spreadsheets/d/1V_-lLd6FnPYqK4mWwIDeyQ5J2JZCAkJS/edit#gid=829339269\"\n",
    "url_1 = sheet_url.replace('/edit#gid=', '/export?format=csv&gid=')\n",
    "dfx = pd.read_csv(url_1)"
   ]
  },
  {
   "cell_type": "code",
   "execution_count": 93,
   "metadata": {},
   "outputs": [],
   "source": [
    "df = df.dropna(subset=[\"op\"])\n",
    "df[\"fecha\"]=fecha\n",
    "df[\"vendedor\"]=vendedor\n",
    "df[\"op\"]=df[\"op\"].astype(int)\n",
    "df[\"op\"]=df[\"op\"].astype(str)\n",
    "df[\"cod_cliente\"]=df[\"cod_cliente\"].astype(int)\n",
    "df[\"cod_cliente\"]=df[\"cod_cliente\"].astype(str)"
   ]
  },
  {
   "cell_type": "code",
   "execution_count": 94,
   "metadata": {},
   "outputs": [],
   "source": [
    "delete_sql = \"delete from ventas_op where fecha = '\"+fecha+\"'\"\n",
    "\n",
    "try:\n",
    "    con = pyodbc.connect('DRIVER={SQL Server};SERVER=190.117.232.8;DATABASE=QUIMARC;UID=Quimarc;PWD=Quim@rc1*')\n",
    "    cur=con.cursor()\n",
    "    cur.execute(delete_sql)\n",
    "    con.commit()\n",
    "    con.close() #close the connection\n",
    "except Exception as e:\n",
    "    con.close()\n",
    "    print(str(e))"
   ]
  },
  {
   "cell_type": "code",
   "execution_count": 95,
   "metadata": {},
   "outputs": [],
   "source": [
    "try:\n",
    "    con = pyodbc.connect('DRIVER={SQL Server};SERVER=190.117.232.8;DATABASE=QUIMARC;UID=Quimarc;PWD=Quim@rc1*')\n",
    "    cur=con.cursor()\n",
    "    \n",
    "    for (rows,rs) in df.iterrows():\n",
    "        x1 = fecha\n",
    "        x2 = rs[12]\n",
    "        x3 = rs[4]\n",
    "        x4 = rs[10]\n",
    "        x5 = rs[6]\n",
    "        query = \"insert into ventas_op (fecha, vendedor, op, cod_cliente, guia_ruc) values ('\"+x1+\"', '\"+x2+\"', '\"+x3+\"', '\"+x4+\"', '\"+x5+\"')\"\n",
    "        cur.execute(query)\n",
    "    con.commit()\n",
    "    con.close() #close the connection\n",
    "except Exception as e:\n",
    "    con.close()\n",
    "    print(str(e))"
   ]
  },
  {
   "cell_type": "code",
   "execution_count": 99,
   "metadata": {},
   "outputs": [],
   "source": [
    "dfx = dfx.dropna(subset=[\"CANTIDAD\"])\n",
    "dfx[\"OP\"]=dfx[\"OP\"].astype(int)\n",
    "dfx[\"OP\"]=dfx[\"OP\"].astype(str)\n",
    "dfx[\"PRODUCTO\"]=dfx[\"PRODUCTO\"].astype(int)\n",
    "dfx[\"PRODUCTO\"]=dfx[\"PRODUCTO\"].astype(str)"
   ]
  },
  {
   "cell_type": "code",
   "execution_count": 103,
   "metadata": {},
   "outputs": [
    {
     "data": {
      "text/plain": [
       "array(['527300', '527400', '527500', '527600', '527700', '527800'],\n",
       "      dtype=object)"
      ]
     },
     "execution_count": 103,
     "metadata": {},
     "output_type": "execute_result"
    }
   ],
   "source": [
    "dfx[\"OP\"].unique()\n",
    "\n",
    "dfx1 = pd.DataFrame(dfx[\"OP\"].unique())\n",
    "dfx1.reset_index(inplace=True)"
   ]
  }
 ],
 "metadata": {
  "kernelspec": {
   "display_name": "Python 3.10.7 64-bit",
   "language": "python",
   "name": "python3"
  },
  "language_info": {
   "codemirror_mode": {
    "name": "ipython",
    "version": 3
   },
   "file_extension": ".py",
   "mimetype": "text/x-python",
   "name": "python",
   "nbconvert_exporter": "python",
   "pygments_lexer": "ipython3",
   "version": "3.10.7"
  },
  "orig_nbformat": 4,
  "vscode": {
   "interpreter": {
    "hash": "a75cba287430c04df4429d9879428dc35a189f246dd6e5de7437299dc4974f3d"
   }
  }
 },
 "nbformat": 4,
 "nbformat_minor": 2
}
