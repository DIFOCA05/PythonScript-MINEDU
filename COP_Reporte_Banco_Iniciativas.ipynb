{
 "cells": [
  {
   "cell_type": "code",
   "execution_count": 25,
   "metadata": {},
   "outputs": [],
   "source": [
    "#Reporte Excel de Banco de Iniciativas\n",
    "\n",
    "excel = \"C:/Users/difoca05/OneDrive - Ministerio de Educación/CoP - Banco de Iniciativas/BANCO DE INICIATIVAS.xlsx\"\n",
    "año = '2022'\n",
    "periodo_banco = '11. NOV'\n",
    "periodo_ruta = '11. NOV'"
   ]
  },
  {
   "cell_type": "code",
   "execution_count": 26,
   "metadata": {},
   "outputs": [],
   "source": [
    "import pandas as pd\n",
    "import numpy as np\n",
    "import mysql.connector as connection\n",
    "import openpyxl\n",
    "\n",
    "host=\"localhost\"\n",
    "database ='difoca'\n",
    "user=\"root\"\n",
    "passwd=\"root1\"\n",
    "\n",
    "p1 = periodo_banco[-3:]\n",
    "p2 = periodo_ruta[-3:]"
   ]
  },
  {
   "cell_type": "code",
   "execution_count": 27,
   "metadata": {},
   "outputs": [
    {
     "name": "stderr",
     "output_type": "stream",
     "text": [
      "c:\\Users\\difoca05\\AppData\\Local\\Programs\\Python\\Python310\\lib\\site-packages\\pandas\\io\\sql.py:762: UserWarning: pandas only support SQLAlchemy connectable(engine/connection) ordatabase string URI or sqlite3 DBAPI2 connectionother DBAPI2 objects are not tested, please consider using SQLAlchemy\n",
      "  warnings.warn(\n"
     ]
    }
   ],
   "source": [
    "try:\n",
    "    con = connection.connect(host=\"localhost\", database ='difoca',user=\"root\", passwd=\"root1\",use_pure=True)\n",
    "    cursor = con.cursor()\n",
    "    cursor.callproc('p_cop_banco', [año,periodo_banco, periodo_ruta ])\n",
    "    for i in cursor.stored_results():\n",
    "        results = i.fetchall()\n",
    "    query = \"select * from cop_equipo_tecnico x left join ma_iged y on x.cod_iged = y.cod_iged left join cop_banco_iniciativas z on x.cod_ini = z.cod_ini\"\n",
    "    df = pd.DataFrame(results, columns=['id', 'COD_INI', 'INICIATIVA', 'LINEA_TEMATICA', 'EJE_TEMATICO', 'TIPO_MODALIDAD', 'MODALIDAD', 'RESUMEN', 'TEMA', 'CATEGORIA', 'FUENTE', 'AÑO_IMPLEMENTACION', 'AÑO', 'PERIODO', 'ESTADIO', 'VIGENCIA', 'COD_IGED', 'TIPO_IGED', 'NOMBRE_IGED', 'NOMBRE_IGED_ESCALE', 'REGION', 'AMBITO', 'MACRO_REGION', 'TIPO_UGEL_2020', 'REGION_MAPA_1', 'REGION_MAPA_2', 'ROW1', 'MAX', 'RUTA_FORTALECIMIENTO'])\n",
    "    df1 = pd.read_sql(query,con)\n",
    "    con.close()\n",
    "except Exception as e:\n",
    "    con.close()\n",
    "    print(str(e))\n",
    "\n",
    "\n",
    "df.drop(['NOMBRE_IGED_ESCALE','TIPO_UGEL_2020', 'REGION_MAPA_1', 'REGION_MAPA_2', 'ROW1', 'MAX'], axis = 'columns', inplace=True)"
   ]
  },
  {
   "cell_type": "code",
   "execution_count": null,
   "metadata": {},
   "outputs": [],
   "source": []
  },
  {
   "cell_type": "code",
   "execution_count": 28,
   "metadata": {},
   "outputs": [],
   "source": [
    "df.fillna(\"\", inplace=True)\n",
    "df[\"RUTA_FORTALECIMIENTO\"]=np.where(df[\"RUTA_FORTALECIMIENTO\"]==\"\", \"NO\", \"SI\")"
   ]
  },
  {
   "cell_type": "code",
   "execution_count": 29,
   "metadata": {},
   "outputs": [],
   "source": [
    "\n",
    "df1.drop(['NOMBRE_IGED2','NOMBRE_IGED_ESCALE','id_tipo_iged','id_dre_gre','id_ugel', 'NOMBRE_IGED3','Tipo_UGEL_2020', 'Tipo_UGEL_2019', 'region_mapa1', 'region_mapa2', 'Tipo_UGEL_2021'], axis = 'columns', inplace=True)"
   ]
  },
  {
   "cell_type": "code",
   "execution_count": 30,
   "metadata": {},
   "outputs": [],
   "source": [
    "df.to_excel(excel, sheet_name='BANCO DE INICIATIVAS')\n",
    "with pd.ExcelWriter(excel, mode=\"a\",engine=\"openpyxl\",if_sheet_exists=\"overlay\", engine_kwargs={\"keep_vba\": False}) as writer:\n",
    "    df1.to_excel(writer,sheet_name=\"EQUIPO TECNICO\", startrow=0 , startcol= 0, index=False, header=True)\n",
    "\n",
    "wb = openpyxl.load_workbook(excel, read_only=False, keep_vba=False)\n",
    "\n",
    "ws1 = wb.create_sheet(\"ACTUALIZADO AL\")\n",
    "\n",
    "ws=wb[\"ACTUALIZADO AL\"]\n",
    "\n",
    "ws['A1'] = \"REPORTE DE BANCO DE INICIATIVAS\"\n",
    "ws['A3'] = \"AÑO\"\n",
    "ws['A4'] = \"MES DE CORTE DEL BANCO DE INICIATIVAS\"\n",
    "ws['A5'] = \"MES DE CORTE DE LA RUTA DE FORTALECIMIENTO\"\n",
    "\n",
    "ws['B3'] = año\n",
    "ws['B4'] = p1\n",
    "ws['B5'] = p2\n",
    "\n",
    "\n",
    "wb.save(excel)  "
   ]
  }
 ],
 "metadata": {
  "kernelspec": {
   "display_name": "Python 3.10.7 64-bit",
   "language": "python",
   "name": "python3"
  },
  "language_info": {
   "codemirror_mode": {
    "name": "ipython",
    "version": 3
   },
   "file_extension": ".py",
   "mimetype": "text/x-python",
   "name": "python",
   "nbconvert_exporter": "python",
   "pygments_lexer": "ipython3",
   "version": "3.10.7"
  },
  "orig_nbformat": 4,
  "vscode": {
   "interpreter": {
    "hash": "a75cba287430c04df4429d9879428dc35a189f246dd6e5de7437299dc4974f3d"
   }
  }
 },
 "nbformat": 4,
 "nbformat_minor": 2
}
