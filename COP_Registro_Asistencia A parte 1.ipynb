{
 "cells": [
  {
   "cell_type": "markdown",
   "metadata": {},
   "source": [
    "**REGISTRO DE ASISTENCIA A parte 1 - WEBINAR + INTERCAMBIO + TALLER**\n",
    "\n",
    "1. Indicar archivo Excel y Hoja"
   ]
  },
  {
   "cell_type": "code",
   "execution_count": 45,
   "metadata": {},
   "outputs": [],
   "source": [
    "excel = \"C:/Users/difoca05/OneDrive - Ministerio de Educación/CoP - Registro de Asistencia/REGISTRO ASISTENCIA VC 2022 11 03 16H INTERCAMBIO COP (respuestas).xlsx\"\n",
    "hoja =  \"Respuestas de formulario 1\""
   ]
  },
  {
   "cell_type": "markdown",
   "metadata": {},
   "source": [
    "2. Indicar archivo Excel Reporte de Asistencia"
   ]
  },
  {
   "cell_type": "code",
   "execution_count": 46,
   "metadata": {},
   "outputs": [],
   "source": [
    "excel_formato = 'C:/Users/difoca05/OneDrive - Ministerio de Educación/CoP - Registro de Asistencia/Registro de Asistencia.xlsx'"
   ]
  },
  {
   "cell_type": "code",
   "execution_count": 47,
   "metadata": {},
   "outputs": [],
   "source": [
    "#Extracción de Data\n",
    "\n",
    "import pandas as pd\n",
    "import numpy as np\n",
    "import warnings\n",
    "warnings.filterwarnings('ignore')\n",
    "\n",
    "\n",
    "df = pd.read_excel(excel, hoja)\n",
    "df = df.fillna(\"\")\n",
    "df[\"DNI\"]= df['DNI'].astype(str).str.zfill(8)\n",
    "df= df.drop_duplicates(\"DNI\")"
   ]
  },
  {
   "cell_type": "code",
   "execution_count": 48,
   "metadata": {},
   "outputs": [],
   "source": [
    "#Transformación de Data\n",
    "df[\"nivel_puesto\"]=df[\"Nivel del Puesto\"].map(str)+df[\"Nivel del Puesto.1\"].map(str)\n",
    "df[\"nombre_puesto\"]=df[\"Nombre del Puesto (Analista)\"].map(str)+df[\"Nombre del Puesto (Asesor)\"].map(str)+df[\"Nombre del Puesto (Auxiliar/Asistente)\"].map(str)+df[\"Nombre del Puesto (Coordinador)\"].map(str)+df[\"Nombre del Puesto (Directivo)\"].map(str)+df[\"Nombre del Puesto (Especialista)\"].map(str)+df[\"Nombre de Puesto (Secretaría)\"].map(str)+df[\"Nombre de Puesto (Técnico)\"].map(str)+df[\"Nombre del puesto\"].map(str)+df[\"Nombre del Puesto.1\"].map(str)+df[\"Nombre del puesto\"].map(str)+df[\"Nombre del Puesto.2\"].map(str)+df[\"Nombre del Puesto.3\"].map(str)+df[\"Nombre del puesto.1\"].map(str)+df[\"Nombre del Puesto.4\"].map(str)+df[\"Nombre del Puesto.5\"].map(str)+df[\"Nombre de Puesto (Otros)\"].map(str)+df[\"Si seleccionó OTRO cargo, ingrese su cargo\"].map(str)\n",
    "df[\"ugel\"]=df[\"Seleccione la UGEL\"].map(str)+df[\"Seleccione la UGEL.1\"].map(str)+df[\"Seleccione la UGEL.2\"].map(str)+df[\"Seleccione la UGEL.3\"].map(str)+df[\"Seleccione la UGEL.4\"].map(str)+df[\"Seleccione la UGEL.5\"].map(str)+df[\"Seleccione la UGEL.6\"].map(str)+df[\"Seleccione la UGEL.7\"].map(str)+df[\"Seleccione la UGEL.8\"].map(str)+df[\"Seleccione la UGEL.9\"].map(str)+df[\"Seleccione la UGEL.10\"].map(str)+df[\"Seleccione la UGEL.11\"].map(str)+df[\"Seleccione la UGEL.12\"].map(str)+df[\"Seleccione la UGEL.13\"].map(str)+df[\"Seleccione la UGEL.14\"].map(str)+df[\"Seleccione la UGEL.15\"].map(str)+df[\"Seleccione la UGEL.16\"].map(str)+df[\"Seleccione la UGEL.17\"].map(str)+df[\"Seleccione la UGEL.18\"].map(str)+df[\"Seleccione la UGEL.19\"].map(str)+df[\"Seleccione la UGEL.20\"].map(str)+df[\"Seleccione la UGEL.21\"].map(str)+df[\"Seleccione la UGEL.22\"].map(str)+df[\"Seleccione la UGEL.23\"].map(str)+df[\"Seleccione la UGEL.24\"].map(str)+df[\"Seleccione la UGEL.25\"].map(str)\n",
    "        \n",
    "df[\"region\"]=df[\"REGIÓN\"].map(str)+df[\"Región\"].map(str)+df[\"Región.1\"].map(str)\n",
    "col = [\"Marca temporal\", \"DNI\", \"Nombres y Apellidos\", \"Teléfono\", \"Correo electrónico\",\"Régimen Laboral\", \"region\", \"Tipo de institución en la que labora\", \"nivel_puesto\",\"nombre_puesto\",\"ugel\"]\n",
    "        \n",
    "df1 = df[col]\n",
    "\n",
    "df1[\"fecha_x\"] = pd.to_datetime(df1[\"Marca temporal\"]).dt.date\n",
    "df1['fecha_x'] = df1['fecha_x'].astype(str)\n",
    "df1[\"llave1\"]=df1[\"region\"].astype(str)+df1[\"ugel\"].astype(str)"
   ]
  },
  {
   "cell_type": "code",
   "execution_count": 49,
   "metadata": {},
   "outputs": [],
   "source": [
    "#Transformación de Data (Merge)\n",
    "df_iged = pd.read_excel(\"C:/Users/difoca05/OneDrive - Ministerio de Educación/Documentos/Maestros/cod_iged2.xlsx\", \"Hoja1\")\n",
    "df_iged[\"CODIGO\"]= df_iged['CODIGO'].astype(str).str.zfill(6)"
   ]
  },
  {
   "cell_type": "code",
   "execution_count": 50,
   "metadata": {},
   "outputs": [],
   "source": [
    "#Transformación de Data (Merge)\n",
    "df_iged = pd.read_excel(\"C:/Users/difoca05/OneDrive - Ministerio de Educación/Documentos/Maestros/cod_iged2.xlsx\", \"Hoja1\")\n",
    "df_iged[\"CODIGO\"]= df_iged['CODIGO'].astype(str).str.zfill(6)\n",
    "\n",
    "df_formato = df1.merge(df_iged, on=\"llave1\", how=\"left\")\n",
    "\n",
    "df_formato[\"Teléfono\"]= df_formato['Teléfono'].astype(str)\n",
    "\n",
    "\n",
    "\n",
    "df_formato=df_formato[df_formato[\"Tipo de institución en la que labora\"]!=\"OTROS\"]"
   ]
  },
  {
   "cell_type": "code",
   "execution_count": 51,
   "metadata": {},
   "outputs": [],
   "source": [
    "df_formato2=df_formato\n",
    "\n",
    "df_formato2[\"genero\"]=\"0\"\n",
    "df_formato2[\"nombres\"]=\"0\"\n",
    "df_formato2[\"apell_pat\"]=\"0\"\n",
    "df_formato2[\"apell_mat\"]=\"0\"\n",
    "df_formato2[\"fecha_nac\"]=\"0\"\n",
    "df_formato2[\"tipo_puest\"]=\"0\""
   ]
  },
  {
   "cell_type": "code",
   "execution_count": 52,
   "metadata": {},
   "outputs": [],
   "source": [
    "import Conexion_mysql as cnx\n",
    "\n",
    "dfy=cnx.sql_df(\"ma_usuarios_cop\")\n",
    "dfy[\"DNI\"]=dfy[\"nro_doc\"]"
   ]
  },
  {
   "cell_type": "code",
   "execution_count": 53,
   "metadata": {},
   "outputs": [],
   "source": [
    "df_formato3 = df_formato2.merge(dfy, on=\"DNI\", how=\"left\")"
   ]
  },
  {
   "cell_type": "code",
   "execution_count": 54,
   "metadata": {},
   "outputs": [],
   "source": [
    "df_formato3[\"apellido_materno\"]=df_formato3[\"apellido_materno\"].fillna(0)"
   ]
  },
  {
   "cell_type": "code",
   "execution_count": 55,
   "metadata": {},
   "outputs": [],
   "source": [
    "df4=df_formato3[df_formato3[\"apellido_materno\"]==0]"
   ]
  },
  {
   "cell_type": "code",
   "execution_count": 56,
   "metadata": {},
   "outputs": [],
   "source": [
    "df4[\"tipo_doc\"]=1\n",
    "df4[\"genero\"]=0\n",
    "df4[\"apellido_paterno\"]=0\n",
    "df4[\"apellido_materno\"]=0\n",
    "df4[\"nombres\"]=0\n",
    "df4[\"fecha_nac\"]=0\n",
    "\n",
    "df5=df4[[\"tipo_doc\", \"DNI\", \"Correo electrónico\", \"genero\",\"nombres\", \"apellido_paterno\",\"apellido_materno\",\"fecha_nac\",\"Teléfono\", \"nivel_puesto_x\", \"nombre_puesto\", \"tipo_puest\", \"Régimen Laboral\", \"CODIGO\"]]"
   ]
  },
  {
   "cell_type": "code",
   "execution_count": 57,
   "metadata": {},
   "outputs": [],
   "source": [
    "#Carga de Data en Excel\n",
    "df_formato.to_excel(excel_formato,sheet_name=\"Registro de Asistencia A\")"
   ]
  },
  {
   "cell_type": "code",
   "execution_count": 58,
   "metadata": {},
   "outputs": [],
   "source": [
    "with pd.ExcelWriter(excel_formato, mode=\"a\",engine=\"openpyxl\",if_sheet_exists=\"overlay\", engine_kwargs={\"keep_vba\": False}) as writer:\n",
    "    df5.to_excel(writer,sheet_name=\"asistentes nuevos\", startrow=0 , startcol= 0, index=False, header=True)"
   ]
  }
 ],
 "metadata": {
  "kernelspec": {
   "display_name": "Python 3.10.7 64-bit",
   "language": "python",
   "name": "python3"
  },
  "language_info": {
   "codemirror_mode": {
    "name": "ipython",
    "version": 3
   },
   "file_extension": ".py",
   "mimetype": "text/x-python",
   "name": "python",
   "nbconvert_exporter": "python",
   "pygments_lexer": "ipython3",
   "version": "3.10.7"
  },
  "orig_nbformat": 4,
  "vscode": {
   "interpreter": {
    "hash": "a75cba287430c04df4429d9879428dc35a189f246dd6e5de7437299dc4974f3d"
   }
  }
 },
 "nbformat": 4,
 "nbformat_minor": 2
}
