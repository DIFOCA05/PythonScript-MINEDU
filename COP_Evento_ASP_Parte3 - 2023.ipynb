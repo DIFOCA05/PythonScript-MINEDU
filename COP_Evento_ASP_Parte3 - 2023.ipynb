{
 "cells": [
  {
   "attachments": {},
   "cell_type": "markdown",
   "metadata": {},
   "source": [
    "INGRESAR ASISTENCIA DE EVENTO"
   ]
  },
  {
   "cell_type": "code",
   "execution_count": 25,
   "metadata": {},
   "outputs": [
    {
     "data": {
      "text/html": [
       "<div>\n",
       "<style scoped>\n",
       "    .dataframe tbody tr th:only-of-type {\n",
       "        vertical-align: middle;\n",
       "    }\n",
       "\n",
       "    .dataframe tbody tr th {\n",
       "        vertical-align: top;\n",
       "    }\n",
       "\n",
       "    .dataframe thead th {\n",
       "        text-align: right;\n",
       "    }\n",
       "</style>\n",
       "<table border=\"1\" class=\"dataframe\">\n",
       "  <thead>\n",
       "    <tr style=\"text-align: right;\">\n",
       "      <th></th>\n",
       "      <th>id_actividad</th>\n",
       "      <th>fecha_asist</th>\n",
       "      <th>dni</th>\n",
       "      <th>kpi</th>\n",
       "      <th>Marca temporal</th>\n",
       "      <th>Nombres y apellidos</th>\n",
       "      <th>DNI</th>\n",
       "      <th>Teléfono</th>\n",
       "      <th>Correo electrónico</th>\n",
       "      <th>UGEL/DRE/Otro</th>\n",
       "      <th>Cargo</th>\n",
       "    </tr>\n",
       "  </thead>\n",
       "  <tbody>\n",
       "    <tr>\n",
       "      <th>0</th>\n",
       "      <td>ASP23.014</td>\n",
       "      <td>2023-02-20</td>\n",
       "      <td>46029491</td>\n",
       "      <td>1</td>\n",
       "      <td>2023-02-20 17:07:38.686</td>\n",
       "      <td>MARIO FELICIANO LANDIO APAZA</td>\n",
       "      <td>46029491</td>\n",
       "      <td>977272610</td>\n",
       "      <td>teacher.marlandio@gmail.com</td>\n",
       "      <td>GRE CUSCO</td>\n",
       "      <td>Especialista de Convivencia Escolar Regional</td>\n",
       "    </tr>\n",
       "    <tr>\n",
       "      <th>1</th>\n",
       "      <td>ASP23.014</td>\n",
       "      <td>2023-02-20</td>\n",
       "      <td>23873616</td>\n",
       "      <td>1</td>\n",
       "      <td>2023-02-20 17:30:33.529</td>\n",
       "      <td>Santa Lucia Chacón Villasante</td>\n",
       "      <td>23873616</td>\n",
       "      <td>928540832</td>\n",
       "      <td>pasonki61@gmail.com</td>\n",
       "      <td>GRE CUSCO</td>\n",
       "      <td>Especialista tutoría</td>\n",
       "    </tr>\n",
       "  </tbody>\n",
       "</table>\n",
       "</div>"
      ],
      "text/plain": [
       "  id_actividad fecha_asist       dni kpi          Marca temporal  \\\n",
       "0    ASP23.014  2023-02-20  46029491   1 2023-02-20 17:07:38.686   \n",
       "1    ASP23.014  2023-02-20  23873616   1 2023-02-20 17:30:33.529   \n",
       "\n",
       "              Nombres y apellidos       DNI   Teléfono  \\\n",
       "0    MARIO FELICIANO LANDIO APAZA  46029491  977272610   \n",
       "1  Santa Lucia Chacón Villasante   23873616  928540832   \n",
       "\n",
       "            Correo electrónico UGEL/DRE/Otro  \\\n",
       "0  teacher.marlandio@gmail.com     GRE CUSCO   \n",
       "1          pasonki61@gmail.com     GRE CUSCO   \n",
       "\n",
       "                                          Cargo  \n",
       "0  Especialista de Convivencia Escolar Regional  \n",
       "1                         Especialista tutoría   "
      ]
     },
     "execution_count": 25,
     "metadata": {},
     "output_type": "execute_result"
    }
   ],
   "source": [
    "import pandas as pd\n",
    "import numpy as np\n",
    "import mysql.connector as connection\n",
    "\n",
    "host=\"localhost\"\n",
    "database ='difoca'\n",
    "user=\"root\"\n",
    "passwd=\"root1\"\n",
    "\n",
    "#******************\n",
    "año ='2023'\n",
    "evento = \"ASESORIA PERSONALIZADA\"\n",
    "cod_ASP = 'ASP23.014'\n",
    "carpeta_cop = \"C:/Users/difoca05/OneDrive - Ministerio de Educación/COMUNIDAD DE PRACTICA (COP)/2023/EVENTOS/ASESORIA PERSONALIZADA/ASISTENCIAS\"\n",
    "df1 = pd.read_excel(carpeta_cop+\"/Asistencia_\"+cod_ASP+\".xlsx\", sheet_name='Respuestas de formulario 1')\n",
    "\n",
    "df1[\"fecha_asist\"] = pd.to_datetime(df1[\"fecha_asist\"]).dt.date\n",
    "df1['fecha_asist'] = df1['fecha_asist'].astype(str)\n",
    "\n",
    "\n",
    "df1[\"dni\"].fillna('', inplace=True)\n",
    "df1 = df1.drop(df1[df1[\"dni\"]==\"\"].index)\n",
    "df1[\"dni\"]= df1['dni'].astype(str).str.zfill(8)\n",
    "\n",
    "df1[\"kpi\"].fillna('0', inplace=True)\n",
    "df1[\"kpi\"] = df1[\"kpi\"].astype(str)\n",
    "\n",
    "df1"
   ]
  },
  {
   "cell_type": "code",
   "execution_count": 26,
   "metadata": {},
   "outputs": [],
   "source": [
    "try:\n",
    "    con = connection.connect(host=host, database =database,user=user, passwd=passwd,use_pure=True)\n",
    "    cur=con.cursor()\n",
    "    query = \"delete from cop_evento_asist_2023 where año = '\"+año+\"' and id_actividad = '\"+cod_ASP+\"'\"\n",
    "    cur.execute(query)\n",
    "    con.commit()\n",
    "    con.close()\n",
    "except Exception as e:\n",
    "    con.close()\n",
    "    print(str(e))"
   ]
  },
  {
   "cell_type": "code",
   "execution_count": 27,
   "metadata": {},
   "outputs": [],
   "source": [
    "con = connection.connect(host=host, database =database,user=user, passwd=passwd,use_pure=True)\n",
    "cur=con.cursor()\n",
    "\n",
    "for (rows,rs) in df1.iterrows():\n",
    "        x1 = cod_ASP #cod_ASP\n",
    "        x2 = año #año\n",
    "        x3 = rs[1] #fecha_Asiste\n",
    "        x4 = rs[2] #dni\n",
    "        x5 = rs[3] #kpi\n",
    "        query = \"insert into cop_evento_asist_2023 (id_actividad, año, fecha_asist, dni, kpi) VALUES  ('\"+x1+\"', '\"+x2+\"', '\"+x3+\"', '\"+x4+\"', '\"+x5+\"')\"\n",
    "        cur.execute(query)\n",
    "con.commit()\n",
    "con.close()"
   ]
  }
 ],
 "metadata": {
  "kernelspec": {
   "display_name": "Python 3.10.7 64-bit",
   "language": "python",
   "name": "python3"
  },
  "language_info": {
   "codemirror_mode": {
    "name": "ipython",
    "version": 3
   },
   "file_extension": ".py",
   "mimetype": "text/x-python",
   "name": "python",
   "nbconvert_exporter": "python",
   "pygments_lexer": "ipython3",
   "version": "3.10.7"
  },
  "orig_nbformat": 4,
  "vscode": {
   "interpreter": {
    "hash": "a75cba287430c04df4429d9879428dc35a189f246dd6e5de7437299dc4974f3d"
   }
  }
 },
 "nbformat": 4,
 "nbformat_minor": 2
}
