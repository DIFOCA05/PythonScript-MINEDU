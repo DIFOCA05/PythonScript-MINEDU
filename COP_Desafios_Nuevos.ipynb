{
 "cells": [
  {
   "cell_type": "markdown",
   "metadata": {},
   "source": [
    "**BANCO DE INICIATIVAS - AGREGAR NUEVA INICIATIVA**"
   ]
  },
  {
   "cell_type": "markdown",
   "metadata": {},
   "source": [
    "1. Indicar el excel (utilizar el formato correspondiente CoP Desafíos), año y el mes correspondiente"
   ]
  },
  {
   "cell_type": "code",
   "execution_count": 7,
   "metadata": {},
   "outputs": [],
   "source": [
    "año = '2022'\n",
    "mes = '11'\n",
    "\n",
    "excel = 'C:/Users/difoca05/OneDrive - Ministerio de Educación/CoP - Banco de Iniciativas/insumos/CoP_Desafios.xlsx'"
   ]
  },
  {
   "cell_type": "code",
   "execution_count": 8,
   "metadata": {},
   "outputs": [
    {
     "data": {
      "text/plain": [
       "'2022-11-01'"
      ]
     },
     "execution_count": 8,
     "metadata": {},
     "output_type": "execute_result"
    }
   ],
   "source": [
    "#Iteración del año / mes\n",
    "import pandas as pd\n",
    "if año == '2022':\n",
    "    id_actividad = 34\n",
    "elif año == '2023':\n",
    "    id_actividad = 105\n",
    "else:\n",
    "    id_actividad = 106    \n",
    "\n",
    "fecha_asist = año+\"-\"+mes+\"-01\"\n",
    "fecha_asist"
   ]
  },
  {
   "cell_type": "code",
   "execution_count": 9,
   "metadata": {},
   "outputs": [
    {
     "name": "stderr",
     "output_type": "stream",
     "text": [
      "C:\\Users\\difoca05\\AppData\\Local\\Temp\\ipykernel_27568\\176539489.py:8: SettingWithCopyWarning: \n",
      "A value is trying to be set on a copy of a slice from a DataFrame.\n",
      "Try using .loc[row_indexer,col_indexer] = value instead\n",
      "\n",
      "See the caveats in the documentation: https://pandas.pydata.org/pandas-docs/stable/user_guide/indexing.html#returning-a-view-versus-a-copy\n",
      "  df1[\"id_act\"]=id_actividad\n",
      "C:\\Users\\difoca05\\AppData\\Local\\Temp\\ipykernel_27568\\176539489.py:9: SettingWithCopyWarning: \n",
      "A value is trying to be set on a copy of a slice from a DataFrame.\n",
      "Try using .loc[row_indexer,col_indexer] = value instead\n",
      "\n",
      "See the caveats in the documentation: https://pandas.pydata.org/pandas-docs/stable/user_guide/indexing.html#returning-a-view-versus-a-copy\n",
      "  df1[\"fecha\"]=fecha_asist\n",
      "C:\\Users\\difoca05\\AppData\\Local\\Temp\\ipykernel_27568\\176539489.py:11: SettingWithCopyWarning: \n",
      "A value is trying to be set on a copy of a slice from a DataFrame.\n",
      "Try using .loc[row_indexer,col_indexer] = value instead\n",
      "\n",
      "See the caveats in the documentation: https://pandas.pydata.org/pandas-docs/stable/user_guide/indexing.html#returning-a-view-versus-a-copy\n",
      "  df1[\"nro_desafio\"]=\"D\"+df1[\"N° DESAFÍO\"].str[-1:]\n",
      "C:\\Users\\difoca05\\AppData\\Local\\Temp\\ipykernel_27568\\176539489.py:12: SettingWithCopyWarning: \n",
      "A value is trying to be set on a copy of a slice from a DataFrame.\n",
      "Try using .loc[row_indexer,col_indexer] = value instead\n",
      "\n",
      "See the caveats in the documentation: https://pandas.pydata.org/pandas-docs/stable/user_guide/indexing.html#returning-a-view-versus-a-copy\n",
      "  df1[\"DNI\"]=df1['DNI'].astype(str).str.zfill(8)\n"
     ]
    }
   ],
   "source": [
    "#Creación del DataFrame\n",
    "df = pd.read_excel(excel)\n",
    "df[\"AÑO\"]=df[\"FECHA\"].dt.year\n",
    "df[\"MES\"]=df[\"FECHA\"].dt.month\n",
    "\n",
    "df1=df[(df[\"AÑO\"]==int(año))&(df[\"MES\"]==int(mes))]\n",
    "\n",
    "df1[\"id_act\"]=id_actividad\n",
    "df1[\"fecha\"]=fecha_asist\n",
    "\n",
    "df1[\"nro_desafio\"]=\"D\"+df1[\"N° DESAFÍO\"].str[-1:]\n",
    "df1[\"DNI\"]=df1['DNI'].astype(str).str.zfill(8)"
   ]
  },
  {
   "cell_type": "code",
   "execution_count": 10,
   "metadata": {},
   "outputs": [
    {
     "data": {
      "text/plain": [
       "0     77\n",
       "1     78\n",
       "2     79\n",
       "3     80\n",
       "4     81\n",
       "5     82\n",
       "6     83\n",
       "7     84\n",
       "8     85\n",
       "9     86\n",
       "10    87\n",
       "11    88\n",
       "12    89\n",
       "13    90\n",
       "14    91\n",
       "Name: index, dtype: int64"
      ]
     },
     "execution_count": 10,
     "metadata": {},
     "output_type": "execute_result"
    }
   ],
   "source": [
    "#Creación del DataFrame2\n",
    "df2=df1[[\"id_act\", \"fecha\", \"DNI\", \"ESTADO\", \"nro_desafio\"]]\n",
    "df2.reset_index(inplace=True)\n",
    "df2.pop(\"index\")"
   ]
  },
  {
   "cell_type": "code",
   "execution_count": 11,
   "metadata": {},
   "outputs": [],
   "source": [
    "#conexion a la bd\n",
    "import mysql.connector as connection\n",
    "\n",
    "host=\"localhost\"\n",
    "database ='difoca'\n",
    "user=\"root\"\n",
    "passwd=\"root1\"\n"
   ]
  },
  {
   "cell_type": "code",
   "execution_count": 12,
   "metadata": {},
   "outputs": [],
   "source": [
    "#insert into\n",
    "vals = \"','\".join([str(xi) for xi in df2.values.tolist()])\n",
    "con = connection.connect(host=host, database =database,user=user, passwd=passwd,use_pure=True)\n",
    "cur=con.cursor()\n",
    "for (index,rs) in df2.iterrows():\n",
    "        vals = \"','\".join([str(xi) for xi in df2.values.tolist()[index]])\n",
    "        sql = \"INSERT INTO cop_evento_asistencia (ID_ACTIVIDAD, FECHA_ASIST, DNI, ESTADO_DESAFIO, NRO_DESAFIO) VALUES ('\" + vals + \"');\"\n",
    "        cur.execute(sql)\n",
    "con.commit()\n",
    "con.close()"
   ]
  }
 ],
 "metadata": {
  "kernelspec": {
   "display_name": "Python 3.10.7 64-bit",
   "language": "python",
   "name": "python3"
  },
  "language_info": {
   "codemirror_mode": {
    "name": "ipython",
    "version": 3
   },
   "file_extension": ".py",
   "mimetype": "text/x-python",
   "name": "python",
   "nbconvert_exporter": "python",
   "pygments_lexer": "ipython3",
   "version": "3.10.7"
  },
  "orig_nbformat": 4,
  "vscode": {
   "interpreter": {
    "hash": "a75cba287430c04df4429d9879428dc35a189f246dd6e5de7437299dc4974f3d"
   }
  }
 },
 "nbformat": 4,
 "nbformat_minor": 2
}
