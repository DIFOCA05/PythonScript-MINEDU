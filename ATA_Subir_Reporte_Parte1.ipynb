{
 "cells": [
  {
   "cell_type": "code",
   "execution_count": 9,
   "metadata": {},
   "outputs": [
    {
     "name": "stdout",
     "output_type": "stream",
     "text": [
      "******************************************************\n",
      "Cantidad de Archivos Excel\n",
      "asistencia xlsx:  1 , encuesta xlsx:  1\n"
     ]
    }
   ],
   "source": [
    "import pandas as pd\n",
    "import numpy as np\n",
    "import glob\n",
    "import os\n",
    "\n",
    "ata = \"ATA.195\"\n",
    "carpeta_ata = \"C:/Users/difoca05/OneDrive - Ministerio de Educación/ASISTENCIA TECNICA (ATA)/2022/\"+ata\n",
    "\n",
    "files_asistencia = glob.glob(carpeta_ata + \"/Registro de Asistencia*.xlsx\")\n",
    "files_encuesta = glob.glob(carpeta_ata + \"/Encuesta de Satisfacci*.xlsx\")\n",
    "df_iged = pd.read_excel(\"C:/Users/difoca05/OneDrive - Ministerio de Educación/Documentos/Maestros/cod_iged.xlsx\")\n",
    "\n",
    "print(\"******************************************************\")\n",
    "print(\"Cantidad de Archivos Excel\")\n",
    "print(\"asistencia xlsx: \", len(files_asistencia), \", encuesta xlsx: \",len(files_encuesta))"
   ]
  },
  {
   "cell_type": "code",
   "execution_count": 10,
   "metadata": {},
   "outputs": [],
   "source": [
    "#Consolidar los excel\n",
    "asistencia_list = []\n",
    "for x in files_asistencia:\n",
    "    dfx = pd.read_excel(x)\n",
    "    nombre = os.path.basename(x)\n",
    "    dfx[\"excel\"]=nombre\n",
    "    asistencia_list.append(dfx)\n",
    "df1 = pd.concat(asistencia_list,ignore_index=True)\n",
    "df1.fillna('', inplace=True)\n",
    "df1[\"DNI\"]=df1[\"DNI\"].astype(int)\n",
    "df1[\"DNI\"]= df1['DNI'].astype(str).str.zfill(8)\n",
    "\n",
    "encuesta_list = []\n",
    "for y in files_encuesta:\n",
    "    dfy = pd.read_excel(y)\n",
    "    nombre = os.path.basename(y)\n",
    "    dfy[\"excel\"]=nombre\n",
    "    encuesta_list.append(dfy)\n",
    "df2 = pd.concat(encuesta_list,ignore_index=True)\n",
    "df2.fillna('', inplace=True)\n",
    "df2[\"DNI\"]=df2[\"DNI\"].astype(int)\n",
    "df2[\"DNI\"]= df2['DNI'].astype(str).str.zfill(8)"
   ]
  },
  {
   "cell_type": "code",
   "execution_count": 11,
   "metadata": {},
   "outputs": [
    {
     "name": "stdout",
     "output_type": "stream",
     "text": [
      "******************************************************\n",
      "Análisis de DNIs duplicados\n",
      "asist ini:  164 , asist fin:  158 , delta:  6 , %:  0.96\n",
      "encst ini:  77 , encst fin:  73 , delta:  4 , %:  0.95\n"
     ]
    }
   ],
   "source": [
    "#Eliminar duplicados Asistencia\n",
    "df11= df1.drop_duplicates(\"DNI\")\n",
    "df21= df2.drop_duplicates(\"DNI\")\n",
    "print(\"******************************************************\")\n",
    "print(\"Análisis de DNIs duplicados\")\n",
    "print(\"asist ini: \",df1.shape[0],\", asist fin: \",df11.shape[0], \", delta: \",df1.shape[0]-df11.shape[0], \", %: \",round(df11.shape[0]/df1.shape[0],2))\n",
    "print(\"encst ini: \",df2.shape[0],\", encst fin: \",df21.shape[0], \", delta: \",df2.shape[0]-df21.shape[0], \", %: \",round(df21.shape[0]/df2.shape[0],2))"
   ]
  },
  {
   "cell_type": "code",
   "execution_count": 12,
   "metadata": {},
   "outputs": [],
   "source": [
    "#Combinar columnas\n",
    "df1=df11\n",
    "df2=df21\n",
    "\n",
    "\n",
    "\n",
    "df1[\"IGED\"]=df1[\"DRE/GRE\"].map(str)+df1[\"Seleccione la UGEL\"].map(str)+df1[\"Seleccione la UGEL.1\"].map(str)+df1[\"Seleccione la UGEL.2\"].map(str)+df1[\"Seleccione la UGEL.3\"].map(str)+df1[\"Seleccione la UGEL.4\"].map(str)+df1[\"Seleccione la UGEL.5\"].map(str)+df1[\"Seleccione la UGEL.6\"].map(str)+df1[\"Seleccione la UGEL.7\"].map(str)+df1[\"Seleccione la UGEL.8\"].map(str)+df1[\"Seleccione la UGEL.9\"].map(str)+df1[\"Seleccione la UGEL.10\"].map(str)+df1[\"Seleccione la UGEL.11\"].map(str)+df1[\"Seleccione la UGEL.12\"].map(str)+df1[\"Seleccione la UGEL.13\"].map(str)+df1[\"Seleccione la UGEL.14\"].map(str)+df1[\"Seleccione la UGEL.15\"].map(str)+df1[\"Seleccione la UGEL.16\"].map(str)+df1[\"Seleccione la UGEL.17\"].map(str)+df1[\"Seleccione la UGEL.18\"].map(str)+df1[\"Seleccione la UGEL.19\"].map(str)+df1[\"Seleccione la UGEL.20\"].map(str)+df1[\"Seleccione la UGEL.21\"].map(str)+df1[\"Seleccione la UGEL.22\"].map(str)+df1[\"Seleccione la UGEL.23\"].map(str)+df1[\"Seleccione la UGEL.24\"].map(str)+df1[\"Seleccione la UGEL.25\"].map(str)\n",
    "\n",
    "df1[\"CARGO1\"]=df1[\"Cargo\"].map(str)+df1[\"Cargo.1\"].map(str)\n",
    "df1[\"REGION1\"]=df1[\"Región\"].map(str)+df1[\"Región.1\"].map(str)\n",
    "df1[\"NOM_INST\"]=df1[\"Nombre de la Institución\"].map(str)\n",
    "# df1[\"CARGO1\"]=df1[\"Cargo\"].map(str)+df1[\"Cargo.1\"].map(str)+df1[\"Cargo.2\"].map(str)\n",
    "# df1[\"REGION1\"]=df1[\"Región\"].map(str)+df1[\"Región.1\"].map(str)+df1[\"Región.2\"].map(str)\n",
    "# df1[\"NOM_INST\"]=df1[\"Nombre de la Institución\"].map(str)+df1[\"Nombre de la Institución.1\"].map(str)\n",
    "\n",
    "df1[\"REGIONX\"] = np.where(df1[\"Tipo de institución en la que labora\"] == \"DRE/GRE\" , df1['IGED'].str[4:100], df1[\"REGION1\"])\n",
    "df1= df1.rename(columns={'Si seleccionó OTRO cargo, ingrese su cargo':'CARGO_OTRO'})\n",
    "\n",
    "\n",
    "df2[\"IGED\"]=df2[\"DRE/GRE\"].map(str)+df2[\"Seleccione la UGEL\"].map(str)+df2[\"Seleccione la UGEL.1\"].map(str)+df2[\"Seleccione la UGEL.2\"].map(str)+df2[\"Seleccione la UGEL.3\"].map(str)+df2[\"Seleccione la UGEL.4\"].map(str)+df2[\"Seleccione la UGEL.5\"].map(str)+df2[\"Seleccione la UGEL.6\"].map(str)+df2[\"Seleccione la UGEL.7\"].map(str)+df2[\"Seleccione la UGEL.8\"].map(str)+df2[\"Seleccione la UGEL.9\"].map(str)+df2[\"Seleccione la UGEL.10\"].map(str)+df2[\"Seleccione la UGEL.11\"].map(str)+df2[\"Seleccione la UGEL.12\"].map(str)+df2[\"Seleccione la UGEL.13\"].map(str)+df2[\"Seleccione la UGEL.14\"].map(str)+df2[\"Seleccione la UGEL.15\"].map(str)+df2[\"Seleccione la UGEL.16\"].map(str)+df2[\"Seleccione la UGEL.17\"].map(str)+df2[\"Seleccione la UGEL.18\"].map(str)+df2[\"Seleccione la UGEL.19\"].map(str)+df2[\"Seleccione la UGEL.20\"].map(str)+df2[\"Seleccione la UGEL.21\"].map(str)+df2[\"Seleccione la UGEL.22\"].map(str)+df2[\"Seleccione la UGEL.23\"].map(str)+df2[\"Seleccione la UGEL.24\"].map(str)+df2[\"Seleccione la UGEL.25\"].map(str)\n",
    "\n",
    "df2[\"CARGO1\"]=df2[\"Cargo\"].map(str)+df2[\"Cargo.1\"].map(str)\n",
    "df2[\"REGION1\"]=df2[\"Región\"].map(str)+df2[\"Región.1\"].map(str)\n",
    "df2[\"NOM_INST\"]=df2[\"Nombre de la Institución\"].map(str)\n",
    "# df2[\"CARGO1\"]=df2[\"Cargo\"].map(str)+df2[\"Cargo.1\"].map(str)+df2[\"Cargo.2\"].map(str)\n",
    "# df2[\"REGION1\"]=df2[\"Región\"].map(str)+df2[\"Región.1\"].map(str)+df2[\"Región.2\"].map(str)\n",
    "# df2[\"NOM_INST\"]=df2[\"Nombre de la Institución\"].map(str)+df2[\"Nombre de la Institución.1\"].map(str)\n",
    "\n",
    "df2[\"REGIONX\"] = np.where(df2[\"Tipo de institución en la que labora\"] == \"DRE/GRE\" , df2['IGED'].str[4:100], df2[\"REGION1\"])\n",
    "df2= df2.rename(columns={'Si seleccionó OTRO cargo, ingrese su cargo':'CARGO_OTRO'})\n",
    "df2= df2.rename(columns={'Sobre la implementación de la Asistencia Técnica: [¿Las expectativas sobre la temática se cumplieron?]':'p1'})\n",
    "df2= df2.rename(columns={'Sobre la implementación de la Asistencia Técnica: [¿Los temas se desarrollaron de modo comprensible?]':'p2'})\n",
    "df2= df2.rename(columns={'Sobre la implementación de la Asistencia Técnica: [¿Los contenidos brindaron la información necesaria?]':'p3'})\n",
    "df2= df2.rename(columns={'Sobre la implementación de la Asistencia Técnica: [¿Los expositores evidenciaron dominio del tema?]':'p4'})\n",
    "df2= df2.rename(columns={'Sobre la implementación de la Asistencia Técnica: [¿Los expositores atendieron adecuadamente las preguntas?]':'p5'})\n",
    "\n",
    "df1=df1[[\"Marca temporal\", \"DNI\", \"Nombres y Apellidos\", \"Correo electrónico\", \"Celular\", \"Tipo de institución en la que labora\", \"IGED\", \"Área en la que labora\",\"CARGO1\", \"REGIONX\", \"CARGO_OTRO\", \"NOM_INST\", \"excel\"]]\n",
    "df2=df2[[\"Marca temporal\", \"DNI\", \"Nombres y Apellidos\", \"Tipo de institución en la que labora\", \"IGED\", \"Área en la que labora\",\"CARGO1\", \"REGIONX\", \"CARGO_OTRO\", \"NOM_INST\", \"excel\", \"p1\", \"p2\", \"p3\", \"p4\", \"p5\"]]"
   ]
  },
  {
   "cell_type": "code",
   "execution_count": 13,
   "metadata": {},
   "outputs": [],
   "source": [
    "#agregar codigo IGED\n",
    "\n",
    "\n",
    "df1 = df1.merge(df_iged, on=\"IGED\", how=\"left\")\n",
    "df1.fillna('0', inplace=True)\n",
    "df1[\"COD_IGED\"]=df1[\"COD_IGED\"].astype(int)\n",
    "df1[\"COD_IGED\"]= df1['COD_IGED'].astype(str).str.zfill(6)\n",
    "df1[\"COD_IGED\"] = np.where(df1[\"COD_IGED\"] == \"000000\" , \"\", df1[\"COD_IGED\"])\n",
    "\n",
    "df2 = df2.merge(df_iged, on=\"IGED\", how=\"left\")\n",
    "df2.fillna('0', inplace=True)\n",
    "df2[\"COD_IGED\"]=df2[\"COD_IGED\"].astype(int)\n",
    "df2[\"COD_IGED\"]= df2['COD_IGED'].astype(str).str.zfill(6)\n",
    "df2[\"COD_IGED\"] = np.where(df2[\"COD_IGED\"] == \"000000\" , \"\", df2[\"COD_IGED\"])\n",
    "\n",
    "\n"
   ]
  },
  {
   "cell_type": "code",
   "execution_count": 14,
   "metadata": {},
   "outputs": [],
   "source": [
    "#merge asistencia y encuesta\n",
    "df3 = df1.merge(df2, on=\"DNI\", how=\"outer\")\n",
    "df3.fillna('', inplace=True)\n",
    "\n",
    "df3[\"fecha\"] = np.where(df3[\"Nombres y Apellidos_x\"] == \"\", df3[\"Marca temporal_y\"],df3[\"Marca temporal_x\"])\n",
    "df3[\"nombre\"] = np.where(df3[\"Nombres y Apellidos_x\"] == \"\", df3[\"Nombres y Apellidos_y\"],df3[\"Nombres y Apellidos_x\"])\n",
    "df3[\"tipo_inst\"] = np.where(df3[\"Nombres y Apellidos_x\"] == \"\", df3[\"Tipo de institución en la que labora_y\"],df3[\"Tipo de institución en la que labora_x\"])\n",
    "df3[\"iged_nombre\"] = np.where(df3[\"Nombres y Apellidos_x\"] == \"\", df3[\"IGED_y\"],df3[\"IGED_x\"])\n",
    "df3[\"area\"] = np.where(df3[\"Nombres y Apellidos_x\"] == \"\", df3[\"Área en la que labora_y\"],df3[\"Área en la que labora_x\"])\n",
    "df3[\"cargo\"] = np.where(df3[\"Nombres y Apellidos_x\"] == \"\", df3[\"CARGO1_y\"],df3[\"CARGO1_x\"])\n",
    "df3[\"region\"] = np.where(df3[\"Nombres y Apellidos_x\"] == \"\", df3[\"REGIONX_y\"],df3[\"REGIONX_x\"])\n",
    "df3[\"otro_cargo\"] = np.where(df3[\"Nombres y Apellidos_x\"] == \"\", df3[\"CARGO_OTRO_y\"],df3[\"CARGO_OTRO_x\"])\n",
    "df3[\"inst\"] = np.where(df3[\"Nombres y Apellidos_x\"] == \"\", df3[\"NOM_INST_y\"],df3[\"NOM_INST_x\"])\n",
    "df3[\"xlsx\"] = np.where(df3[\"Nombres y Apellidos_x\"] == \"\", df3[\"excel_y\"],df3[\"excel_x\"])\n",
    "df3[\"iged_cod\"] = np.where(df3[\"Nombres y Apellidos_x\"] == \"\", df3[\"COD_IGED_y\"],df3[\"COD_IGED_x\"])\n",
    "df3[\"sesion\"] = \"S1\"\n",
    "df3[\"categoria\"] = \"0\"\n",
    "df3[\"pobj\"] = 0\n",
    "\n",
    "df3 = df3[[\"fecha\", \"DNI\", \"nombre\", \"Correo electrónico\", \"Celular\",\"tipo_inst\",\"iged_nombre\", \"area\", \"cargo\", \"region\", \"otro_cargo\", \"inst\", \"xlsx\", \"iged_cod\", \"p1\", \"p2\", \"p3\", \"p4\", \"p5\", \"sesion\", \"categoria\",\"pobj\"]]"
   ]
  },
  {
   "cell_type": "code",
   "execution_count": 15,
   "metadata": {},
   "outputs": [
    {
     "name": "stderr",
     "output_type": "stream",
     "text": [
      "c:\\Users\\difoca05\\AppData\\Local\\Programs\\Python\\Python310\\lib\\site-packages\\pandas\\io\\sql.py:762: UserWarning: pandas only support SQLAlchemy connectable(engine/connection) ordatabase string URI or sqlite3 DBAPI2 connectionother DBAPI2 objects are not tested, please consider using SQLAlchemy\n",
      "  warnings.warn(\n"
     ]
    }
   ],
   "source": [
    "#Conexion al sql y traer ma_iged\n",
    "import mysql.connector as connection\n",
    "try:\n",
    "    con = connection.connect(host=\"localhost\", database ='difoca',user=\"root\", passwd=\"root1\",use_pure=True)\n",
    "    query = \"select COD_IGED, TIPO_IGED, REGION, NOMBRE_IGED from ma_iged order by REGION asc\"\n",
    "    df_ma_iged = pd.read_sql(query,con)\n",
    "    con.close()\n",
    "except Exception as e:\n",
    "    con.close()\n",
    "    print(str(e))\n",
    "\n",
    "df_ma_iged[\"ATA\"] = ata\n",
    "df_ma_iged[\"KPI\"] = 0"
   ]
  },
  {
   "cell_type": "code",
   "execution_count": 16,
   "metadata": {},
   "outputs": [
    {
     "data": {
      "text/plain": [
       "(167, 22)"
      ]
     },
     "execution_count": 16,
     "metadata": {},
     "output_type": "execute_result"
    }
   ],
   "source": [
    "#Crear el excel\n",
    "import openpyxl\n",
    "df3.to_excel(carpeta_ata+\"/\"+ata+\".xlsx\", index=False, sheet_name='base_datos')\n",
    "\n",
    "with pd.ExcelWriter(carpeta_ata+\"/\"+ata+\".xlsx\", mode=\"a\",engine=\"openpyxl\",if_sheet_exists=\"overlay\") as writer:\n",
    "    df_ma_iged.to_excel(writer, sheet_name='iged_convocados' ,index=False)\n",
    "\n",
    "df3.shape"
   ]
  }
 ],
 "metadata": {
  "kernelspec": {
   "display_name": "Python 3.10.7 64-bit",
   "language": "python",
   "name": "python3"
  },
  "language_info": {
   "codemirror_mode": {
    "name": "ipython",
    "version": 3
   },
   "file_extension": ".py",
   "mimetype": "text/x-python",
   "name": "python",
   "nbconvert_exporter": "python",
   "pygments_lexer": "ipython3",
   "version": "3.10.7 (tags/v3.10.7:6cc6b13, Sep  5 2022, 14:08:36) [MSC v.1933 64 bit (AMD64)]"
  },
  "orig_nbformat": 4,
  "vscode": {
   "interpreter": {
    "hash": "a75cba287430c04df4429d9879428dc35a189f246dd6e5de7437299dc4974f3d"
   }
  }
 },
 "nbformat": 4,
 "nbformat_minor": 2
}
