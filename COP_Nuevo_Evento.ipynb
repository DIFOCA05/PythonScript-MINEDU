{
 "cells": [
  {
   "cell_type": "code",
   "execution_count": 16,
   "metadata": {},
   "outputs": [],
   "source": [
    "fecha_evento = '2022-11-03'\n",
    "\n"
   ]
  },
  {
   "cell_type": "code",
   "execution_count": 17,
   "metadata": {},
   "outputs": [
    {
     "data": {
      "text/html": [
       "<div>\n",
       "<style scoped>\n",
       "    .dataframe tbody tr th:only-of-type {\n",
       "        vertical-align: middle;\n",
       "    }\n",
       "\n",
       "    .dataframe tbody tr th {\n",
       "        vertical-align: top;\n",
       "    }\n",
       "\n",
       "    .dataframe thead th {\n",
       "        text-align: right;\n",
       "    }\n",
       "</style>\n",
       "<table border=\"1\" class=\"dataframe\">\n",
       "  <thead>\n",
       "    <tr style=\"text-align: right;\">\n",
       "      <th></th>\n",
       "      <th>ACTIVIDAD</th>\n",
       "      <th>NOMBRE_ACTIVIDAD</th>\n",
       "      <th>FECHA</th>\n",
       "      <th>SEGUIMIENTO_ACTIVIDAD</th>\n",
       "      <th>ID_ACTIVIDAD</th>\n",
       "      <th>nro_conectados</th>\n",
       "    </tr>\n",
       "  </thead>\n",
       "  <tbody>\n",
       "  </tbody>\n",
       "</table>\n",
       "</div>"
      ],
      "text/plain": [
       "Empty DataFrame\n",
       "Columns: [ACTIVIDAD, NOMBRE_ACTIVIDAD, FECHA, SEGUIMIENTO_ACTIVIDAD, ID_ACTIVIDAD, nro_conectados]\n",
       "Index: []"
      ]
     },
     "execution_count": 17,
     "metadata": {},
     "output_type": "execute_result"
    }
   ],
   "source": [
    "import Conexion_mysql as cnx\n",
    "\n",
    "dfx1=cnx.sql_df(\"cop_cronograma_actividades\")\n",
    "dfx1[\"FECHA\"]=dfx1[\"FECHA\"].astype(str)\n",
    "dfx1[dfx1[\"FECHA\"]==fecha_evento]"
   ]
  },
  {
   "cell_type": "code",
   "execution_count": 18,
   "metadata": {},
   "outputs": [],
   "source": [
    "actividad = \"EVENTO INTERCAMBIO\"\n",
    "nombre_actividad = \"Gestión Local para la mejora del servicio educativo\"\n",
    "nro_conectados = \"89\"\n",
    "id_activdiad=dfx1[\"ID_ACTIVIDAD\"].max()+1\n",
    "id_activdiad=id_activdiad.astype(str)"
   ]
  },
  {
   "cell_type": "code",
   "execution_count": 19,
   "metadata": {},
   "outputs": [
    {
     "data": {
      "text/plain": [
       "'109'"
      ]
     },
     "execution_count": 19,
     "metadata": {},
     "output_type": "execute_result"
    }
   ],
   "source": [
    "id_activdiad"
   ]
  },
  {
   "cell_type": "code",
   "execution_count": 20,
   "metadata": {},
   "outputs": [],
   "source": [
    "#insert into\n",
    "\n",
    "query = \"insert into cop_cronograma_actividades values ('\" + actividad.upper() + \"', '\" + nombre_actividad.upper() + \"', '\" + fecha_evento+ \"', '', '\" + id_activdiad + \"', '\" + nro_conectados + \"')\"\n",
    "cnx.query(query)\n"
   ]
  }
 ],
 "metadata": {
  "kernelspec": {
   "display_name": "Python 3.10.7 64-bit",
   "language": "python",
   "name": "python3"
  },
  "language_info": {
   "codemirror_mode": {
    "name": "ipython",
    "version": 3
   },
   "file_extension": ".py",
   "mimetype": "text/x-python",
   "name": "python",
   "nbconvert_exporter": "python",
   "pygments_lexer": "ipython3",
   "version": "3.10.7"
  },
  "orig_nbformat": 4,
  "vscode": {
   "interpreter": {
    "hash": "a75cba287430c04df4429d9879428dc35a189f246dd6e5de7437299dc4974f3d"
   }
  }
 },
 "nbformat": 4,
 "nbformat_minor": 2
}
