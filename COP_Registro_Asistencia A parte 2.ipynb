{
 "cells": [
  {
   "cell_type": "markdown",
   "metadata": {},
   "source": [
    "**REGISTRO DE ASISTENCIA A parte 2 - WEBINAR + INTERCAMBIO + TALLER**\n",
    "\n",
    "1. Indicar archivo Excel y Hoja"
   ]
  },
  {
   "cell_type": "code",
   "execution_count": 46,
   "metadata": {},
   "outputs": [],
   "source": [
    "excel = \"C:/Users/difoca05/OneDrive - Ministerio de Educación/CoP - Registro de Asistencia/Registro de Asistencia 03_11_22.xlsx\"\n",
    "hoja1 =  \"Registro de Asistencia A\"\n",
    "hoja2 =  \"asistentes nuevos\"\n",
    "\n",
    "cod_evento = '109'\n"
   ]
  },
  {
   "cell_type": "code",
   "execution_count": 47,
   "metadata": {},
   "outputs": [],
   "source": [
    "#Extracción de Data\n",
    "\n",
    "import pandas as pd\n",
    "import numpy as np\n",
    "\n",
    "df1 = pd.read_excel(excel, hoja1)\n",
    "df1[\"DNI\"]= df1['DNI'].astype(str).str.zfill(8)\n",
    "df1[\"id_act\"]=cod_evento\n"
   ]
  },
  {
   "cell_type": "code",
   "execution_count": 52,
   "metadata": {},
   "outputs": [],
   "source": [
    "dfx1=df1[[\"id_act\",\"fecha_x\", \"DNI\"]]\n",
    "dfx1=dfx1.astype(str)"
   ]
  },
  {
   "cell_type": "code",
   "execution_count": 69,
   "metadata": {},
   "outputs": [],
   "source": [
    "#insert into\n",
    "sqlx1 = ''\n",
    "tabla='cop_evento_asistencia'\n",
    "for (index,rs) in dfx1.iterrows():\n",
    "    vals = \"','\".join([str(xi) for xi in dfx1.values.tolist()[index]])\n",
    "    text = \"('\" + vals + \"'), \"\n",
    "    sqlx1 = sqlx1 + text\n",
    "sqlx1 = sqlx1[:-2]\n",
    "sqlx1 = \"insert into cop_evento_asistencia (ID_ACTIVIDAD, FECHA_ASIST, DNI) values \" + sqlx1"
   ]
  },
  {
   "cell_type": "code",
   "execution_count": 72,
   "metadata": {},
   "outputs": [],
   "source": [
    "import Conexion_mysql as cnx\n",
    "cnx.query(\"delete from cop_evento_asistencia where ID_ACTIVIDAD = '\" + cod_evento + \"'\")\n",
    "cnx.query(sqlx1)"
   ]
  },
  {
   "cell_type": "code",
   "execution_count": 76,
   "metadata": {},
   "outputs": [],
   "source": [
    "df2 = pd.read_excel(excel, hoja2)\n",
    "df2[\"DNI\"]= df1['DNI'].astype(str).str.zfill(8)\n",
    "df2[\"CODIGO\"]= df1['CODIGO'].astype(str).str.zfill(6)\n",
    "\n",
    "dfy=df2.astype(str)"
   ]
  },
  {
   "cell_type": "code",
   "execution_count": 90,
   "metadata": {},
   "outputs": [],
   "source": [
    "dfyy = pd.DataFrame(data=dfy[\"DNI\"], columns=['DNI'])\n"
   ]
  },
  {
   "cell_type": "code",
   "execution_count": 93,
   "metadata": {},
   "outputs": [],
   "source": [
    "sqly1 = ''\n",
    "for (index,rs) in dfyy.iterrows():\n",
    "    vals = \"','\".join([str(xi) for xi in dfyy.values.tolist()[index]])\n",
    "    text = \"'\" + vals + \"',\"\n",
    "    sqly1 = sqly1 + text\n",
    "sqly1 = sqly1[:-1]\n"
   ]
  },
  {
   "cell_type": "code",
   "execution_count": 101,
   "metadata": {},
   "outputs": [
    {
     "data": {
      "text/plain": [
       "\"('1','25780801','hoylen10@gmail.com','F','HOYLEN','LINARES','PANDURO','1961-06-15','977256384','Otros','DIRECTOR DE RED EDUCATIVA - TABALOSOS','OTROS','Ley de Reforma Magisterial','150104'),('1','00925755','johnkennedy_91@hotmail.com','M','JOHN KENNEDY','GONZALES','LOZANO','1991-08-05','918279145','Otros','Coordinador Administrativo de RER','ESPECIALISTA','Decreto Leg. N 1057 (CAS)','220004'),('1','32042521','frajocastival@hotmail.com','M','FRAN JOEL','CASTILLO','VALVERDE','1991-11-19','938951982','Coordinador','COORDINADOR DE PERSONAL','ESPECIALISTA','Decreto Leg. N 1057 (CAS)','020006'),('1','26628257','cubas1111@hotmail.com','F','EDELMIRA','CUBAS','CABANILLAS','1989-06-30','950408846','Otros','Especialista CARED','ESPECIALISTA','Ley de Reforma Magisterial','060000'),('1','31035749','namay70_@hotmail.com','F','RENE','NAMAY','RAMIREZ','1970-05-19','917828689','Especialista','ESPECIALISTA EN EDUCACIÓN BÁSICA REGULAR - NIVEL PRIMARIA','ESPECIALISTA EN EDUCACIÓN','Ley de Reforma Magisterial','030005'),('1','43702943','explore-2011@hotmail.com','F','DALMITH','VELA','RIOJA','1982-06-09','943914997','Otros','Directora de Red Educativa','ESPECIALISTA','Ley de Reforma Magisterial','120010'),('1','71217507','sylvestrehidalgo@gmail.com','M','HELENIO SYLVESTRE','HIDALGO','RAMIREZ','1983-03-18','942420242','Otros','COORDINADOR RER','ESPECIALISTA','Decreto Leg. N 1057 (CAS)','220004'),('1','29435614','grandez1105@gmail.com','M','ROGER ALONSO','GRÁNDEZ','VALERA','1988-11-05','986491461','Otros','CARER','ESPECIALISTA','Decreto Leg. N 1057 (CAS)','040005'),('1','17610952','jhontuestachuquizta@gmail.com','M','JHON','TUESTA','CHUQUIZUTA','1974-05-16','942777627','Otros','DIRECTOR DE RED EDUCATIVA BARRANQUITA','ESPECIALISTA','Ley de Reforma Magisterial','140001'),('1','00907781','mariochahualayme@gmail.com','M','MARIO','CHAHUA','LAYME','1959-01-18','986085531','Otros','Jefe de AGP','DIRECTIVO','Ley de Reforma Magisterial','220004'),('1','47441612','lolaalegria1977@gmail.com','F','LOLA','ALEGRIA','SANDOVAL','1977-05-25','966302359','Otros','CARED PRIMARIA ','ESPECIALISTA','Ley de Reforma Magisterial','220004'),('1','27569901','chrisestuar1@gmail.com','M','CHRISTIAN ESTUARDO','DÍAZ','MORI','1986-12-29','968889395','Otros','Coordinador Administrativo de Redes Educativas Rurales','ESPECIALISTA','Decreto Leg. N 1057 (CAS)','060007'),('1','01063784','dtito@ugelmoho.edu.pe','M','DAVID','TITO','PORTO','1985-10-26','956372426','Otros','CARER','ESPECIALISTA','Otros','220004'),('1','31672292','gabriel5364@hotmail.com','F','RAQUEL','REATEGUI','RAMIREZ','1971-08-09','948607315','Otros','Directora de red ','ESPECIALISTA','Ley de Reforma Magisterial','020001'),('1','45922204','mercedes_13_1987@hotmail.com','F','MERCEDES AURELIA','TINEO','SANCHEZ','1987-06-13','9308459','Especialista','ESPECIALISTA EN EDUCACION','ESPECIALISTA EN EDUCACIÓN','Decreto Leg. N 276,Decreto Leg. N 728','220004'),('1','00891050','gmav1967@gmail.com','M','GILBER','MACEDO','VÁSQUEZ','1967-11-19','955929659','Coordinador','COORDINADOR DE PERSONAL','ESPECIALISTA','Decreto Leg. N 1057 (CAS)','220004'),('1','41327453','cegope2508@gmail.com','F','ALEJANDRINA FRANCISCA','HUETE','CERNA DE SALAS','1959-06-25','942759530','Otros','DIRECTORA DE RED','ESPECIALISTA','Ley de Reforma Magisterial','220004')\""
      ]
     },
     "execution_count": 101,
     "metadata": {},
     "output_type": "execute_result"
    }
   ],
   "source": [
    "sqly2 = ''\n",
    "for (index,rs) in dfy.iterrows():\n",
    "    vals = \"','\".join([str(xi) for xi in dfy.values.tolist()[index]])\n",
    "    text = \"('\" + vals + \"'),\"\n",
    "    sqly2 = sqly2 + text\n",
    "sqly2 = sqly2[:-1]\n"
   ]
  },
  {
   "cell_type": "code",
   "execution_count": 102,
   "metadata": {},
   "outputs": [],
   "source": [
    "query_y2 = \"insert into ma_usuarios_cop (tipo_doc, nro_doc, email, genero, nombres, apellido_paterno, apellido_materno, fecha_nac, celular, nivel_puesto, desc_puesto, tipo_puesto, regimen_laboral, cod_iged) values \"+sqly2"
   ]
  },
  {
   "cell_type": "code",
   "execution_count": 96,
   "metadata": {},
   "outputs": [],
   "source": [
    "query_y = \"delete from ma_usuarios_cop where NRO_DOC IN (\" + sqly1 + \")\""
   ]
  },
  {
   "cell_type": "code",
   "execution_count": 97,
   "metadata": {},
   "outputs": [],
   "source": [
    "cnx.query(query_y)\n",
    "cnx.query(query_y2)"
   ]
  }
 ],
 "metadata": {
  "kernelspec": {
   "display_name": "Python 3.10.7 64-bit",
   "language": "python",
   "name": "python3"
  },
  "language_info": {
   "codemirror_mode": {
    "name": "ipython",
    "version": 3
   },
   "file_extension": ".py",
   "mimetype": "text/x-python",
   "name": "python",
   "nbconvert_exporter": "python",
   "pygments_lexer": "ipython3",
   "version": "3.10.7"
  },
  "orig_nbformat": 4,
  "vscode": {
   "interpreter": {
    "hash": "a75cba287430c04df4429d9879428dc35a189f246dd6e5de7437299dc4974f3d"
   }
  }
 },
 "nbformat": 4,
 "nbformat_minor": 2
}
