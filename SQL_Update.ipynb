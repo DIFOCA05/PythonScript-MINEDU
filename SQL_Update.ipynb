{
 "cells": [
  {
   "cell_type": "code",
   "execution_count": 17,
   "metadata": {},
   "outputs": [],
   "source": [
    "import pandas as pd\n",
    "import numpy as np\n",
    "import mysql.connector as connection\n",
    "\n",
    "host=\"localhost\"\n",
    "database ='difoca'\n",
    "user=\"root\"\n",
    "passwd=\"root1\"\n",
    "\n",
    "carpeta = \"C:/Users/difoca05/OneDrive - Ministerio de Educación/Escritorio/ANDY ANTONIO/02.FEBRERO/20.02\"\n",
    "excel = 'Libro2'\n",
    "hoja =\"cop_banco_iniciativas_iged\"\n",
    "bd_sql='cop_banco_iniciativas_iged'\n",
    "encabezado_llave='año'\n",
    "llave='2022'\n",
    "values='(cod_ini, cod_iged, año, periodo)'\n",
    "\n",
    "df1 = pd.read_excel(carpeta+\"/\"+excel+\".xlsx\", sheet_name=hoja) \n",
    "\n",
    "df1.fillna('', inplace=True)\n",
    "\n",
    "df1[\"cod_ini\"]=df1[\"cod_ini\"].astype(str)\n",
    "\n",
    "df1[\"cod_iged\"] = df1[\"cod_iged\"].astype(int)\n",
    "df1[\"cod_iged\"] = df1['cod_iged'].astype(str).str.zfill(6)\n",
    "df1[\"cod_iged\"] = np.where(df1[\"cod_iged\"] == \"000000\" , \"\", df1[\"cod_iged\"])\n",
    "\n",
    "#df1[\"dni\"]=df1[\"dni\"].astype(int)\n",
    "#df1[\"dni\"]= df1['dni'].astype(str).str.zfill(8)\n",
    "\n",
    "df1[\"año\"]=df1[\"año\"].astype(str)\n",
    "df1[\"periodo\"]=df1[\"periodo\"].astype(str)\n",
    "#df1[\"test_01\"]=df1[\"test_01\"].astype(str)\n",
    "#df1[\"promedio\"]=df1[\"promedio\"].astype(float)\n",
    "#df1[\"promedio\"]=df1[\"promedio\"].astype(str)\n",
    "\n",
    "\n",
    "#df1[\"Marca temporal\"] = pd.to_datetime(df1[\"Marca temporal\"]).dt.date\n",
    "#df1['Marca temporal'] = df1['Marca temporal'].astype(str)"
   ]
  },
  {
   "cell_type": "code",
   "execution_count": 18,
   "metadata": {},
   "outputs": [],
   "source": [
    "try:\n",
    "    con = connection.connect(host=host, database =database,user=user, passwd=passwd,use_pure=True)\n",
    "    cur=con.cursor()\n",
    "    #query = \"delete from \"+bd_sql+\" where \"+encabezado_llave+\" = '\"+llave+\"'\"\n",
    "    query = \"truncate \"+bd_sql\n",
    "    cur.execute(query)\n",
    "    con.commit()\n",
    "    con.close()\n",
    "except Exception as e:\n",
    "    con.close()\n",
    "    print(str(e))"
   ]
  },
  {
   "cell_type": "code",
   "execution_count": 19,
   "metadata": {},
   "outputs": [],
   "source": [
    "try:\n",
    "    con = connection.connect(host=host, database =database,user=user, passwd=passwd,use_pure=True)\n",
    "    cur=con.cursor()\n",
    "\n",
    "    for (rows,rs) in df1.iterrows():\n",
    "        x1 = rs[1]\n",
    "        x2 = rs[2]\n",
    "        x3 = rs[3]\n",
    "        x4 = rs[4]\n",
    "        query = \"insert into \"+bd_sql+\" \"+values+\" VALUES ('\"+x1+\"', '\"+x2+\"', '\"+x3+\"', '\"+x4+\"')\"\n",
    "        cur.execute(query)\n",
    "    con.commit()\n",
    "    con.close()\n",
    "except Exception as e:\n",
    "    con.close()\n",
    "    print(str(e))"
   ]
  }
 ],
 "metadata": {
  "kernelspec": {
   "display_name": "Python 3.10.7 64-bit",
   "language": "python",
   "name": "python3"
  },
  "language_info": {
   "codemirror_mode": {
    "name": "ipython",
    "version": 3
   },
   "file_extension": ".py",
   "mimetype": "text/x-python",
   "name": "python",
   "nbconvert_exporter": "python",
   "pygments_lexer": "ipython3",
   "version": "3.10.7"
  },
  "orig_nbformat": 4,
  "vscode": {
   "interpreter": {
    "hash": "a75cba287430c04df4429d9879428dc35a189f246dd6e5de7437299dc4974f3d"
   }
  }
 },
 "nbformat": 4,
 "nbformat_minor": 2
}
