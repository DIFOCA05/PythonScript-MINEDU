{
 "cells": [
  {
   "cell_type": "code",
   "execution_count": 1,
   "metadata": {},
   "outputs": [],
   "source": [
    "import pandas as pd\n",
    "import numpy as np\n",
    "import mysql.connector as connection\n",
    "\n",
    "host=\"localhost\"\n",
    "database ='difoca'\n",
    "user=\"root\"\n",
    "passwd=\"root1\"\n",
    "\n",
    "cop = \"BANCO_DE_INICIATIVAS_\"\n",
    "carpeta_cop = \"C:/Users/difoca05/OneDrive - Ministerio de Educación/COMUNIDAD DE PRACTICA (COP)\"\n",
    "maestro='MAESTRO_INI'\n",
    "\n",
    "df1 = pd.read_excel(carpeta_cop+\"/\"+cop+maestro+\".xlsx\", sheet_name='cop_banco_iniciativas')\n",
    "\n",
    "df1.fillna('', inplace=True)\n",
    "\n",
    "df1[\"cod_ini\"]= df1['cod_ini'].astype(str)\n",
    "df1[\"nombre_ini\"]= df1['nombre_ini'].astype(str)\n",
    "df1[\"des_linea_tematica\"]= df1['des_linea_tematica'].astype(str)\n",
    "df1[\"des_eje_tematico\"]= df1['des_eje_tematico'].astype(str)\n",
    "df1[\"des_tipo_modalidad\"]= df1['des_tipo_modalidad'].astype(str)\n",
    "df1[\"des_modalidad\"]= df1['des_modalidad'].astype(str)\n",
    "df1[\"resumen_ini\"]= df1['resumen_ini'].astype(str)\n",
    "df1[\"tema_ini\"]= df1['tema_ini'].astype(str)\n",
    "df1[\"categoria_ini\"]= df1['categoria_ini'].astype(str)\n",
    "df1[\"fuente\"]= df1['fuente'].astype(str)\n",
    "\n",
    "df1[\"año_implementacion\"]= df1[\"año_implementacion\"].astype(int)\n",
    "df1[\"año_implementacion\"]= df1['año_implementacion'].astype(str)\n",
    "\n",
    "df1[\"observacion\"]= df1['observacion'].astype(str)\n",
    "df1[\"gobierno_local\"]= df1['gobierno_local'].astype(str)\n",
    "df1[\"link_ficha_cop\"]= df1['link_ficha_cop'].astype(str)\n",
    "\n"
   ]
  },
  {
   "cell_type": "code",
   "execution_count": 2,
   "metadata": {},
   "outputs": [],
   "source": [
    "try:\n",
    "    con = connection.connect(host=host, database =database,user=user, passwd=passwd,use_pure=True)\n",
    "    cur=con.cursor()\n",
    "    query = \"delete from cop_banco_iniciativas\"\n",
    "    cur.execute(query)\n",
    "    con.commit()\n",
    "    con.close()\n",
    "except Exception as e:\n",
    "    con.close()\n",
    "    print(str(e))"
   ]
  },
  {
   "cell_type": "code",
   "execution_count": 3,
   "metadata": {},
   "outputs": [],
   "source": [
    "con = connection.connect(host=host, database =database,user=user, passwd=passwd,use_pure=True)\n",
    "cur=con.cursor()\n",
    "\n",
    "for (rows,rs) in df1.iterrows():\n",
    "        x1 = rs[0] #cod_ini\n",
    "        x2 = rs[1] #nombre_ini\n",
    "        x3 = rs[2] #des_linea_tematica\n",
    "        x4 = rs[3] #des_eje_tematico\n",
    "        x5 = rs[4] #des_tipo_modalidad\n",
    "        x6 = rs[5] #des_modalidad\n",
    "        x7 = rs[6] #resumen_ini\n",
    "        x8 = rs[7] #tema_ini\n",
    "        x9 = rs[8] #categoria_ini\n",
    "        x10 = rs[9] #fuente\n",
    "        x11 = rs[10] #año_implementacion\n",
    "        x12 = rs[11] #observacion\n",
    "        x13 = rs[12] #gobierno_local\n",
    "        x14 = rs[13] #link_ficha_cop\n",
    "        query = \"insert into cop_banco_iniciativas (cod_ini, nombre_ini, des_linea_tematica, des_eje_tematico, des_tipo_modalidad, des_modalidad, resumen_ini, tema_ini, categoria_ini, fuente, año_implementacion, observacion, gobierno_local, link_ficha_cop) VALUES  ('\"+x1+\"', '\"+x2+\"', '\"+x3+\"', '\"+x4+\"', '\"+x5+\"', '\"+x6+\"', '\"+x7+\"', '\"+x8+\"', '\"+x9+\"', '\"+x10+\"', '\"+x11+\"', '\"+x12+\"', '\"+x13+\"', '\"+x14+\"')\"\n",
    "        cur.execute(query)\n",
    "con.commit()\n",
    "con.close()"
   ]
  }
 ],
 "metadata": {
  "kernelspec": {
   "display_name": "Python 3.10.7 64-bit",
   "language": "python",
   "name": "python3"
  },
  "language_info": {
   "codemirror_mode": {
    "name": "ipython",
    "version": 3
   },
   "file_extension": ".py",
   "mimetype": "text/x-python",
   "name": "python",
   "nbconvert_exporter": "python",
   "pygments_lexer": "ipython3",
   "version": "3.10.7"
  },
  "orig_nbformat": 4,
  "vscode": {
   "interpreter": {
    "hash": "a75cba287430c04df4429d9879428dc35a189f246dd6e5de7437299dc4974f3d"
   }
  }
 },
 "nbformat": 4,
 "nbformat_minor": 2
}
