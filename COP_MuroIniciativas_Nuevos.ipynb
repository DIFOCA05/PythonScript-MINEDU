{
 "cells": [
  {
   "cell_type": "markdown",
   "metadata": {},
   "source": [
    "**MURO DE INICIATIVAS - AGREGAR NUEVOS REGISTROS**\n",
    "\n",
    "\n",
    "1. Indicar el Excel, la Hoja y el año"
   ]
  },
  {
   "cell_type": "code",
   "execution_count": 1,
   "metadata": {},
   "outputs": [],
   "source": [
    "excel = \"C:/Users/difoca05/OneDrive - Ministerio de Educación/CoP - Banco de Iniciativas/insumos/muro_iniciat.xlsx\"\n",
    "hoja = \"Seguimiento a la participación \"\n",
    "\n",
    "año='2022'"
   ]
  },
  {
   "cell_type": "code",
   "execution_count": 2,
   "metadata": {},
   "outputs": [],
   "source": [
    "if año == '2022':\n",
    "    id_actividad = 25\n",
    "elif año == '2023':\n",
    "    id_actividad = 107\n",
    "else:\n",
    "    id_actividad = 108    "
   ]
  },
  {
   "cell_type": "code",
   "execution_count": 3,
   "metadata": {},
   "outputs": [
    {
     "data": {
      "text/html": [
       "<div>\n",
       "<style scoped>\n",
       "    .dataframe tbody tr th:only-of-type {\n",
       "        vertical-align: middle;\n",
       "    }\n",
       "\n",
       "    .dataframe tbody tr th {\n",
       "        vertical-align: top;\n",
       "    }\n",
       "\n",
       "    .dataframe thead th {\n",
       "        text-align: right;\n",
       "    }\n",
       "</style>\n",
       "<table border=\"1\" class=\"dataframe\">\n",
       "  <thead>\n",
       "    <tr style=\"text-align: right;\">\n",
       "      <th></th>\n",
       "      <th>N°</th>\n",
       "      <th>Apellidos y Nombres</th>\n",
       "      <th>DNI</th>\n",
       "      <th>COMPARTE EN MURO</th>\n",
       "      <th>COMENTA EN MURO</th>\n",
       "      <th>FECHA</th>\n",
       "    </tr>\n",
       "  </thead>\n",
       "  <tbody>\n",
       "    <tr>\n",
       "      <th>0</th>\n",
       "      <td>1</td>\n",
       "      <td>VASQUEZ VILLANUEVA, ROSA</td>\n",
       "      <td>26688908</td>\n",
       "      <td>1</td>\n",
       "      <td>0</td>\n",
       "      <td>2022-11-08</td>\n",
       "    </tr>\n",
       "    <tr>\n",
       "      <th>1</th>\n",
       "      <td>4</td>\n",
       "      <td>TELLO ZAMORA, MICHAEL ANTONY</td>\n",
       "      <td>907781</td>\n",
       "      <td>1</td>\n",
       "      <td>0</td>\n",
       "      <td>2022-11-15</td>\n",
       "    </tr>\n",
       "    <tr>\n",
       "      <th>2</th>\n",
       "      <td>5</td>\n",
       "      <td>QUISPE ORTIZ DE ORUE, SUSANA</td>\n",
       "      <td>24364341</td>\n",
       "      <td>1</td>\n",
       "      <td>0</td>\n",
       "      <td>2022-11-15</td>\n",
       "    </tr>\n",
       "    <tr>\n",
       "      <th>3</th>\n",
       "      <td>6</td>\n",
       "      <td>QUISPE GAMBOA, JUAN PABLO</td>\n",
       "      <td>10504394</td>\n",
       "      <td>1</td>\n",
       "      <td>0</td>\n",
       "      <td>2022-11-15</td>\n",
       "    </tr>\n",
       "    <tr>\n",
       "      <th>4</th>\n",
       "      <td>7</td>\n",
       "      <td>JUAREZ ARBOLEDA, JOSE PASCUAL</td>\n",
       "      <td>10035652</td>\n",
       "      <td>1</td>\n",
       "      <td>0</td>\n",
       "      <td>2022-11-17</td>\n",
       "    </tr>\n",
       "    <tr>\n",
       "      <th>5</th>\n",
       "      <td>8</td>\n",
       "      <td>APAZA CASTILLO, HILDA NICOLASA</td>\n",
       "      <td>1317990</td>\n",
       "      <td>1</td>\n",
       "      <td>0</td>\n",
       "      <td>2022-11-18</td>\n",
       "    </tr>\n",
       "    <tr>\n",
       "      <th>6</th>\n",
       "      <td>9</td>\n",
       "      <td>QUISPE PALOMINO, YANETH</td>\n",
       "      <td>9258893</td>\n",
       "      <td>0</td>\n",
       "      <td>1</td>\n",
       "      <td>2022-11-18</td>\n",
       "    </tr>\n",
       "    <tr>\n",
       "      <th>7</th>\n",
       "      <td>10</td>\n",
       "      <td>MORENO ANDAHUA, CRISPULO</td>\n",
       "      <td>31823237</td>\n",
       "      <td>1</td>\n",
       "      <td>0</td>\n",
       "      <td>2022-11-18</td>\n",
       "    </tr>\n",
       "    <tr>\n",
       "      <th>8</th>\n",
       "      <td>11</td>\n",
       "      <td>CALDERON CORNEJO, MARIANA ELIZABETH</td>\n",
       "      <td>231695</td>\n",
       "      <td>2</td>\n",
       "      <td>0</td>\n",
       "      <td>2022-11-19</td>\n",
       "    </tr>\n",
       "    <tr>\n",
       "      <th>9</th>\n",
       "      <td>12</td>\n",
       "      <td>ESPINOZA DIOSES, GRETY DEL PILAR</td>\n",
       "      <td>227604</td>\n",
       "      <td>1</td>\n",
       "      <td>0</td>\n",
       "      <td>2022-11-19</td>\n",
       "    </tr>\n",
       "  </tbody>\n",
       "</table>\n",
       "</div>"
      ],
      "text/plain": [
       "   N°                  Apellidos y Nombres       DNI  COMPARTE EN MURO  \\\n",
       "0   1             VASQUEZ VILLANUEVA, ROSA  26688908                 1   \n",
       "1   4         TELLO ZAMORA, MICHAEL ANTONY    907781                 1   \n",
       "2   5         QUISPE ORTIZ DE ORUE, SUSANA  24364341                 1   \n",
       "3   6            QUISPE GAMBOA, JUAN PABLO  10504394                 1   \n",
       "4   7        JUAREZ ARBOLEDA, JOSE PASCUAL  10035652                 1   \n",
       "5   8       APAZA CASTILLO, HILDA NICOLASA   1317990                 1   \n",
       "6   9              QUISPE PALOMINO, YANETH   9258893                 0   \n",
       "7  10             MORENO ANDAHUA, CRISPULO  31823237                 1   \n",
       "8  11  CALDERON CORNEJO, MARIANA ELIZABETH    231695                 2   \n",
       "9  12     ESPINOZA DIOSES, GRETY DEL PILAR    227604                 1   \n",
       "\n",
       "   COMENTA EN MURO      FECHA  \n",
       "0                0 2022-11-08  \n",
       "1                0 2022-11-15  \n",
       "2                0 2022-11-15  \n",
       "3                0 2022-11-15  \n",
       "4                0 2022-11-17  \n",
       "5                0 2022-11-18  \n",
       "6                1 2022-11-18  \n",
       "7                0 2022-11-18  \n",
       "8                0 2022-11-19  \n",
       "9                0 2022-11-19  "
      ]
     },
     "execution_count": 3,
     "metadata": {},
     "output_type": "execute_result"
    }
   ],
   "source": [
    "import pandas as pd\n",
    "\n",
    "df=pd.read_excel(excel, sheet_name=hoja)\n",
    "df"
   ]
  },
  {
   "cell_type": "code",
   "execution_count": 4,
   "metadata": {},
   "outputs": [],
   "source": [
    "df=df.astype(str)"
   ]
  },
  {
   "cell_type": "code",
   "execution_count": 5,
   "metadata": {},
   "outputs": [],
   "source": [
    "df[\"DNI\"]= df['DNI'].astype(str).str.zfill(8)\n"
   ]
  },
  {
   "cell_type": "code",
   "execution_count": 6,
   "metadata": {},
   "outputs": [],
   "source": [
    "df[\"id_act\"]=id_actividad"
   ]
  },
  {
   "cell_type": "code",
   "execution_count": 7,
   "metadata": {},
   "outputs": [],
   "source": [
    "df1=df[[\"id_act\", \"FECHA\", \"DNI\", \"COMPARTE EN MURO\", \"COMENTA EN MURO\"]]"
   ]
  },
  {
   "cell_type": "code",
   "execution_count": 8,
   "metadata": {},
   "outputs": [
    {
     "data": {
      "text/html": [
       "<div>\n",
       "<style scoped>\n",
       "    .dataframe tbody tr th:only-of-type {\n",
       "        vertical-align: middle;\n",
       "    }\n",
       "\n",
       "    .dataframe tbody tr th {\n",
       "        vertical-align: top;\n",
       "    }\n",
       "\n",
       "    .dataframe thead th {\n",
       "        text-align: right;\n",
       "    }\n",
       "</style>\n",
       "<table border=\"1\" class=\"dataframe\">\n",
       "  <thead>\n",
       "    <tr style=\"text-align: right;\">\n",
       "      <th></th>\n",
       "      <th>id_act</th>\n",
       "      <th>FECHA</th>\n",
       "      <th>DNI</th>\n",
       "      <th>COMPARTE EN MURO</th>\n",
       "      <th>COMENTA EN MURO</th>\n",
       "    </tr>\n",
       "  </thead>\n",
       "  <tbody>\n",
       "    <tr>\n",
       "      <th>0</th>\n",
       "      <td>25</td>\n",
       "      <td>2022-11-08</td>\n",
       "      <td>26688908</td>\n",
       "      <td>1</td>\n",
       "      <td>0</td>\n",
       "    </tr>\n",
       "    <tr>\n",
       "      <th>1</th>\n",
       "      <td>25</td>\n",
       "      <td>2022-11-15</td>\n",
       "      <td>00907781</td>\n",
       "      <td>1</td>\n",
       "      <td>0</td>\n",
       "    </tr>\n",
       "    <tr>\n",
       "      <th>2</th>\n",
       "      <td>25</td>\n",
       "      <td>2022-11-15</td>\n",
       "      <td>24364341</td>\n",
       "      <td>1</td>\n",
       "      <td>0</td>\n",
       "    </tr>\n",
       "    <tr>\n",
       "      <th>3</th>\n",
       "      <td>25</td>\n",
       "      <td>2022-11-15</td>\n",
       "      <td>10504394</td>\n",
       "      <td>1</td>\n",
       "      <td>0</td>\n",
       "    </tr>\n",
       "    <tr>\n",
       "      <th>4</th>\n",
       "      <td>25</td>\n",
       "      <td>2022-11-17</td>\n",
       "      <td>10035652</td>\n",
       "      <td>1</td>\n",
       "      <td>0</td>\n",
       "    </tr>\n",
       "    <tr>\n",
       "      <th>5</th>\n",
       "      <td>25</td>\n",
       "      <td>2022-11-18</td>\n",
       "      <td>01317990</td>\n",
       "      <td>1</td>\n",
       "      <td>0</td>\n",
       "    </tr>\n",
       "    <tr>\n",
       "      <th>6</th>\n",
       "      <td>25</td>\n",
       "      <td>2022-11-18</td>\n",
       "      <td>09258893</td>\n",
       "      <td>0</td>\n",
       "      <td>1</td>\n",
       "    </tr>\n",
       "    <tr>\n",
       "      <th>7</th>\n",
       "      <td>25</td>\n",
       "      <td>2022-11-18</td>\n",
       "      <td>31823237</td>\n",
       "      <td>1</td>\n",
       "      <td>0</td>\n",
       "    </tr>\n",
       "    <tr>\n",
       "      <th>8</th>\n",
       "      <td>25</td>\n",
       "      <td>2022-11-19</td>\n",
       "      <td>00231695</td>\n",
       "      <td>2</td>\n",
       "      <td>0</td>\n",
       "    </tr>\n",
       "    <tr>\n",
       "      <th>9</th>\n",
       "      <td>25</td>\n",
       "      <td>2022-11-19</td>\n",
       "      <td>00227604</td>\n",
       "      <td>1</td>\n",
       "      <td>0</td>\n",
       "    </tr>\n",
       "  </tbody>\n",
       "</table>\n",
       "</div>"
      ],
      "text/plain": [
       "   id_act       FECHA       DNI COMPARTE EN MURO COMENTA EN MURO\n",
       "0      25  2022-11-08  26688908                1               0\n",
       "1      25  2022-11-15  00907781                1               0\n",
       "2      25  2022-11-15  24364341                1               0\n",
       "3      25  2022-11-15  10504394                1               0\n",
       "4      25  2022-11-17  10035652                1               0\n",
       "5      25  2022-11-18  01317990                1               0\n",
       "6      25  2022-11-18  09258893                0               1\n",
       "7      25  2022-11-18  31823237                1               0\n",
       "8      25  2022-11-19  00231695                2               0\n",
       "9      25  2022-11-19  00227604                1               0"
      ]
     },
     "execution_count": 8,
     "metadata": {},
     "output_type": "execute_result"
    }
   ],
   "source": [
    "df1"
   ]
  },
  {
   "cell_type": "code",
   "execution_count": 9,
   "metadata": {},
   "outputs": [],
   "source": [
    "import mysql.connector as connection\n",
    "import warnings\n",
    "warnings.filterwarnings('ignore')\n",
    "\n",
    "server = {\"h\":\"localhost\",\"d\":'difoca',\"u\":\"root\",\"p\":\"root1\"}\n"
   ]
  },
  {
   "cell_type": "code",
   "execution_count": 10,
   "metadata": {},
   "outputs": [],
   "source": [
    "sql = ''\n",
    "for (index,rs) in df1.iterrows():\n",
    "    vals = \"','\".join([str(xi) for xi in df1.values.tolist()[index]])\n",
    "    text = \"('\" + vals + \"'),\"\n",
    "    sql= sql + text\n",
    "query = sql[:-1]\n",
    "query=\"insert into cop_evento_asistencia (id_actividad, fecha_asist, dni, comparte_muro, comenta_muro) values \"+query"
   ]
  },
  {
   "cell_type": "code",
   "execution_count": 11,
   "metadata": {},
   "outputs": [
    {
     "name": "stdout",
     "output_type": "stream",
     "text": [
      "insert into cop_evento_asistencia (id_actividad, fecha_asist, dni, comparte_muro, comenta_muro) values ('25','2022-11-08','26688908','1','0'),('25','2022-11-15','00907781','1','0'),('25','2022-11-15','24364341','1','0'),('25','2022-11-15','10504394','1','0'),('25','2022-11-17','10035652','1','0'),('25','2022-11-18','01317990','1','0'),('25','2022-11-18','09258893','0','1'),('25','2022-11-18','31823237','1','0'),('25','2022-11-19','00231695','2','0'),('25','2022-11-19','00227604','1','0')\n"
     ]
    }
   ],
   "source": [
    "print(query)"
   ]
  },
  {
   "cell_type": "code",
   "execution_count": 12,
   "metadata": {},
   "outputs": [],
   "source": [
    "con = connection.connect(host=server[\"h\"], database =server[\"d\"],user=server[\"u\"], passwd=server[\"p\"],use_pure=True)\n",
    "cur=con.cursor()\n",
    "cur.execute(query)\n",
    "con.commit()\n",
    "con.close()"
   ]
  }
 ],
 "metadata": {
  "kernelspec": {
   "display_name": "Python 3.10.7 64-bit",
   "language": "python",
   "name": "python3"
  },
  "language_info": {
   "codemirror_mode": {
    "name": "ipython",
    "version": 3
   },
   "file_extension": ".py",
   "mimetype": "text/x-python",
   "name": "python",
   "nbconvert_exporter": "python",
   "pygments_lexer": "ipython3",
   "version": "3.10.7"
  },
  "orig_nbformat": 4,
  "vscode": {
   "interpreter": {
    "hash": "a75cba287430c04df4429d9879428dc35a189f246dd6e5de7437299dc4974f3d"
   }
  }
 },
 "nbformat": 4,
 "nbformat_minor": 2
}
