{
 "cells": [
  {
   "cell_type": "code",
   "execution_count": 1,
   "metadata": {},
   "outputs": [],
   "source": [
    "import pandas as pd\n",
    "import numpy as np\n",
    "import mysql.connector as connection\n",
    "\n",
    "host=\"localhost\"\n",
    "database ='difoca'\n",
    "user=\"root\"\n",
    "passwd=\"root1\"\n",
    "\n",
    "carpeta = \"C:/Users/difoca05/OneDrive - Ministerio de Educación/COMUNIDAD DE PRACTICA (COP)\"\n",
    "excel = 'BANCO_DE_INICIATIVAS_MAESTRO_INI'\n",
    "hoja =\"cop_banco_iniciativas_estadio\"\n",
    "bd_sql='cop_banco_iniciativas_estadio'\n",
    "encabezado_llave='ID_ACTIVIDAD'\n",
    "llave='98801'\n",
    "values='(cod_ini, año, periodo, estadio, vigencia, observacion)'\n",
    "\n",
    "df1 = pd.read_excel(carpeta+\"/\"+excel+\".xlsx\", sheet_name=hoja)\n",
    "\n",
    "df1[\"año\"]=df1[\"año\"].astype(int)\n",
    "df1[\"año\"]=df1[\"año\"].astype(str)\n",
    "#df1[\"DNI\"]= df1['DNI'].astype(str).str.zfill(8)\n",
    "\n",
    "#df1[\"Marca temporal\"] = pd.to_datetime(df1[\"Marca temporal\"]).dt.date\n",
    "#df1['Marca temporal'] = df1['Marca temporal'].astype(str)\n",
    "\n"
   ]
  },
  {
   "cell_type": "code",
   "execution_count": null,
   "metadata": {},
   "outputs": [],
   "source": [
    "try:\n",
    "    con = connection.connect(host=host, database =database,user=user, passwd=passwd,use_pure=True)\n",
    "    cur=con.cursor()\n",
    "    query = \"truncate table \"+bd_sql\n",
    "    #query = \"delete from \"+bd_sql+\" where \"+encabezado_llave+\" = '\"+llave+\"'\"\n",
    "    cur.execute(query)\n",
    "    con.commit()\n",
    "    con.close()\n",
    "except Exception as e:\n",
    "    con.close()\n",
    "    print(str(e))"
   ]
  },
  {
   "cell_type": "code",
   "execution_count": null,
   "metadata": {},
   "outputs": [],
   "source": [
    "try:\n",
    "    con = connection.connect(host=host, database =database,user=user, passwd=passwd,use_pure=True)\n",
    "    cur=con.cursor()\n",
    "\n",
    "    for (rows,rs) in df1.iterrows():\n",
    "        x1 = rs[1]\n",
    "        x2 = rs[2]\n",
    "        x3 = rs[3]\n",
    "        x4 = rs[4]\n",
    "        x5 = rs[5]\n",
    "        x6 = rs[6]\n",
    "        query = \"insert into \"+bd_sql+\" \"+values+\" VALUES ('\"+x1+\"', '\"+x2+\"', '\"+x3+\"', '\"+x4+\"', '\"+x5+\"', '\"+x6+\"')\"\n",
    "        cur.execute(query)\n",
    "    con.commit()\n",
    "    con.close()\n",
    "except Exception as e:\n",
    "    con.close()\n",
    "    print(str(e))"
   ]
  }
 ],
 "metadata": {
  "kernelspec": {
   "display_name": "Python 3.10.7 64-bit",
   "language": "python",
   "name": "python3"
  },
  "language_info": {
   "codemirror_mode": {
    "name": "ipython",
    "version": 3
   },
   "file_extension": ".py",
   "mimetype": "text/x-python",
   "name": "python",
   "nbconvert_exporter": "python",
   "pygments_lexer": "ipython3",
   "version": "3.10.7"
  },
  "orig_nbformat": 4,
  "vscode": {
   "interpreter": {
    "hash": "a75cba287430c04df4429d9879428dc35a189f246dd6e5de7437299dc4974f3d"
   }
  }
 },
 "nbformat": 4,
 "nbformat_minor": 2
}
