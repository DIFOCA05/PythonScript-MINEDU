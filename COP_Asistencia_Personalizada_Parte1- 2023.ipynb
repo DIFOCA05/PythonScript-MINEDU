{
 "cells": [
  {
   "attachments": {},
   "cell_type": "markdown",
   "metadata": {},
   "source": [
    "***xxx***\n",
    "\n",
    "1. xxx\n"
   ]
  },
  {
   "cell_type": "code",
   "execution_count": 69,
   "metadata": {},
   "outputs": [
    {
     "ename": "TypeError",
     "evalue": "DatetimeIndex(...) must be called with a collection of some kind, '17/11/2022' was passed",
     "output_type": "error",
     "traceback": [
      "\u001b[1;31m---------------------------------------------------------------------------\u001b[0m",
      "\u001b[1;31mTypeError\u001b[0m                                 Traceback (most recent call last)",
      "Cell \u001b[1;32mIn [69], line 23\u001b[0m\n\u001b[0;32m     18\u001b[0m fecha \u001b[39m=\u001b[39m\u001b[39m\"\u001b[39m\u001b[39m17/11/2022\u001b[39m\u001b[39m\"\u001b[39m \u001b[39m#x/x/xxxx\u001b[39;00m\n\u001b[0;32m     20\u001b[0m \u001b[39m#fecha1=fecha.astype(str).str.zfill(10)\u001b[39;00m\n\u001b[0;32m     21\u001b[0m \u001b[39m#fecha1=fecha.str.replace('/','')\u001b[39;00m\n\u001b[0;32m     22\u001b[0m \u001b[39m#fechax=pd.to_datetime(fecha,format='%d%m%Y')\u001b[39;00m\n\u001b[1;32m---> 23\u001b[0m fecha_año\u001b[39m=\u001b[39mpd\u001b[39m.\u001b[39;49mDatetimeIndex(fecha)\u001b[39m.\u001b[39myear\n\u001b[0;32m     24\u001b[0m fecha_mes\u001b[39m=\u001b[39mpd\u001b[39m.\u001b[39mDatetimeIndex(fecha)\u001b[39m.\u001b[39mmonth\n\u001b[0;32m     25\u001b[0m fecha_dia\u001b[39m=\u001b[39mpd\u001b[39m.\u001b[39mDatetimeIndex(fecha)\u001b[39m.\u001b[39mday\n",
      "File \u001b[1;32mc:\\Users\\difoca05\\AppData\\Local\\Programs\\Python\\Python310\\lib\\site-packages\\pandas\\core\\indexes\\datetimes.py:321\u001b[0m, in \u001b[0;36mDatetimeIndex.__new__\u001b[1;34m(cls, data, freq, tz, normalize, closed, ambiguous, dayfirst, yearfirst, dtype, copy, name)\u001b[0m\n\u001b[0;32m    305\u001b[0m \u001b[39mdef\u001b[39;00m \u001b[39m__new__\u001b[39m(\n\u001b[0;32m    306\u001b[0m     \u001b[39mcls\u001b[39m,\n\u001b[0;32m    307\u001b[0m     data\u001b[39m=\u001b[39m\u001b[39mNone\u001b[39;00m,\n\u001b[1;32m   (...)\u001b[0m\n\u001b[0;32m    317\u001b[0m     name: Hashable \u001b[39m=\u001b[39m \u001b[39mNone\u001b[39;00m,\n\u001b[0;32m    318\u001b[0m ) \u001b[39m-\u001b[39m\u001b[39m>\u001b[39m DatetimeIndex:\n\u001b[0;32m    320\u001b[0m     \u001b[39mif\u001b[39;00m is_scalar(data):\n\u001b[1;32m--> 321\u001b[0m         \u001b[39mraise\u001b[39;00m \u001b[39mcls\u001b[39m\u001b[39m.\u001b[39m_scalar_data_error(data)\n\u001b[0;32m    323\u001b[0m     \u001b[39m# - Cases checked above all return/raise before reaching here - #\u001b[39;00m\n\u001b[0;32m    325\u001b[0m     name \u001b[39m=\u001b[39m maybe_extract_name(name, data, \u001b[39mcls\u001b[39m)\n",
      "\u001b[1;31mTypeError\u001b[0m: DatetimeIndex(...) must be called with a collection of some kind, '17/11/2022' was passed"
     ]
    }
   ],
   "source": [
    "#Conexión al google sheet\n",
    "import pandas as pd\n",
    "import numpy as np\n",
    "import mysql.connector as connection\n",
    "import warnings\n",
    "warnings.filterwarnings('ignore')\n",
    "import sqlite3\n",
    "import datetime\n",
    "\n",
    "host=\"localhost\"\n",
    "database ='difoca'\n",
    "user=\"root\"\n",
    "passwd=\"root1\"\n",
    "\n",
    "carpeta_ases_pers = \"C:/Users/difoca05/OneDrive - Ministerio de Educación/COMUNIDAD DE PRACTICA (COP)/ASESORIA PERSONALIZADA\"\n",
    "aseoria_personalizada = \"Libro1\"\n",
    "ini = 'INI.309'\n",
    "fecha =\"17/11/2022\" #x/x/xxxx\n",
    "\n",
    "#fecha1=fecha.astype(str).str.zfill(10)\n",
    "#fecha1=fecha.str.replace('/','')\n",
    "#fechax=pd.to_datetime(fecha,format='%d%m%Y')\n",
    "fecha_año=pd.DatetimeIndex(fecha).year\n",
    "fecha_mes=pd.DatetimeIndex(fecha).month\n",
    "fecha_dia=pd.DatetimeIndex(fecha).day\n",
    "fechaxx=fecha_año.astype(str).str.zfill(4)+\"-\"+fecha_mes.astype(str).str.zfill(2)+\"-\"+fecha_dia.astype(str).str.zfill(2)\n",
    "df1 = pd.read_excel(carpeta_ases_pers+\"/\"+aseoria_personalizada+\".xlsx\", sheet_name='Asesorias personalizadas')\n",
    "\n",
    "print(fechaxx)\n"
   ]
  },
  {
   "cell_type": "code",
   "execution_count": null,
   "metadata": {},
   "outputs": [
    {
     "name": "stdout",
     "output_type": "stream",
     "text": [
      "APOYAME A RECIBIR MIS CLASES, NO QUIERO QUEDARME SIN ESTUDIAR\n"
     ]
    }
   ],
   "source": [
    "try:\n",
    "    con = connection.connect(host=host, database =database,user=user, passwd=passwd,use_pure=True)\n",
    "    cur=con.cursor()\n",
    "    query = \"select * from difoca.cop_banco_iniciativas where cod_ini = '\"+ini+\"'\"\n",
    "    cur.execute(query)\n",
    "    banco=cur.fetchall()\n",
    "    for d in banco:\n",
    "        print(d[1])\n",
    "    #banco['nombre_ini']=banco['nombre_ini'].astype(str)\n",
    "    #print(banco[0])\n",
    "    con.commit()\n",
    "    con.close()\n",
    "except Exception as e:\n",
    "    con.close()\n",
    "    print(str(e))\n",
    "  "
   ]
  },
  {
   "cell_type": "code",
   "execution_count": null,
   "metadata": {},
   "outputs": [
    {
     "name": "stdout",
     "output_type": "stream",
     "text": [
      "1525 (HY000): Incorrect DATE value: '17/11/2022'\n"
     ]
    }
   ],
   "source": [
    "try:\n",
    "    con = connection.connect(host=host, database =database,user=user, passwd=passwd,use_pure=True)\n",
    "    cur=con.cursor()\n",
    "    #query = \"delete from cop_banco_iniciativas_estadio where año = '\"+año+\"' and periodo = '\"+periodo+\"'\"\n",
    "    query = \"select * from difoca.cop_cronograma_actividades where ACTIVIDAD = '\"+d[1]+\"' and FECHA = '\"+fecha+\"'\"\n",
    "    cur.execute(query)\n",
    "    con.commit()\n",
    "    con.close()\n",
    "except Exception as e:\n",
    "    con.close()\n",
    "    print(str(e))"
   ]
  }
 ],
 "metadata": {
  "kernelspec": {
   "display_name": "Python 3.10.7 64-bit",
   "language": "python",
   "name": "python3"
  },
  "language_info": {
   "codemirror_mode": {
    "name": "ipython",
    "version": 3
   },
   "file_extension": ".py",
   "mimetype": "text/x-python",
   "name": "python",
   "nbconvert_exporter": "python",
   "pygments_lexer": "ipython3",
   "version": "3.10.7"
  },
  "orig_nbformat": 4,
  "vscode": {
   "interpreter": {
    "hash": "a75cba287430c04df4429d9879428dc35a189f246dd6e5de7437299dc4974f3d"
   }
  }
 },
 "nbformat": 4,
 "nbformat_minor": 2
}
