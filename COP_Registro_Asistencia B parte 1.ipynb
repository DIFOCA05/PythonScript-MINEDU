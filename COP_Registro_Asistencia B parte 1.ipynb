{
 "cells": [
  {
   "cell_type": "markdown",
   "metadata": {},
   "source": [
    "**REGISTRO DE ASISTENCIA B parte 1 - WEBINAR + INTERCAMBIO + TALLER**\n",
    "\n",
    "1. Indicar archivo Excel y Hoja"
   ]
  },
  {
   "cell_type": "code",
   "execution_count": 2,
   "metadata": {},
   "outputs": [],
   "source": [
    "excel = \"C:/Users\\difoca05/OneDrive - Ministerio de Educación/CoP - Registro de Asistencia/REGISTRO ASISTENCIA VC 2022 11 03 16H INTERCAMBIO COP (respuestas).xlsx\"\n",
    "hoja =  \"Respuestas de formulario 1\""
   ]
  },
  {
   "cell_type": "code",
   "execution_count": 3,
   "metadata": {},
   "outputs": [],
   "source": [
    "#Extracción de Data\n",
    "\n",
    "import pandas as pd\n",
    "import numpy as np\n",
    "\n",
    "df = pd.read_excel(excel, hoja)\n",
    "df = df.fillna(\"\")\n",
    "df[\"DNI\"]= df['DNI'].astype(str).str.zfill(8)\n",
    "df= df.drop_duplicates(\"DNI\")"
   ]
  },
  {
   "cell_type": "code",
   "execution_count": 19,
   "metadata": {},
   "outputs": [],
   "source": [
    "#Parametros para modificar\n",
    "\n",
    "iniciativas = \"si\" #(si/no)\n",
    "cod_evento = '54'\n",
    "\n",
    "#Lista de Asistencia es excel o link de googel sheet:\n",
    "lista_asistencia = \"link\" #excel/link\n",
    "excel = \"C:/Users/difoca05/OneDrive - Ministerio de Educación/COP Y BP/eventos y aseosrias/sept/REGISTRO ASISTENCIA VC 2022 09 20 16H ASESORÍA COP 8 (respuestas).xlsx\"\n",
    "link = \"https://docs.google.com/spreadsheets/d/1NyWq9WWoVFCEp4Gd888PZGnESBTzeNg2D4YA3uxxSR4/edit#gid=918770966\"\n",
    "\n",
    "hoja = \"Respuestas de formulario 1\"\n",
    "excel_nuevos = \"C:/Users/difoca05/OneDrive - Ministerio de Educación/COP Y BP/matricula CoP/Lista para Matricula CoP - \"+cod_evento+\".xlsx\"\n",
    "\n",
    "subir_sql = \"si\"\n",
    "crear_excel_nuevos = \"no\"\n",
    "\n",
    "#dni para retirar de la df\n",
    "list_dni = ['72040983','04081272','31641433','72893546','41648997','41052797','04415996', '08721906', '80187608', '29650068', '42197655','28236035', '317510060794', '01324887', '40599299', '40695497','46599276', '40053932', '09425205', '45358790', '49236504','43161467','07247874', ]\n",
    "\n",
    "\n",
    "#Base de datos\n",
    "host=\"localhost\"\n",
    "database ='difoca'  \n",
    "user=\"root\"\n",
    "passwd=\"root1\""
   ]
  },
  {
   "cell_type": "code",
   "execution_count": 20,
   "metadata": {},
   "outputs": [],
   "source": [
    "# import pandas as pd\n",
    "# import mysql.connector as connection\n",
    "# import numpy as np\n",
    "# import openpyxl\n",
    "\n",
    "# if lista_asistencia == \"excel\":\n",
    "#     df = pd.read_excel(excel, hoja)\n",
    "# else:\n",
    "#     url_1 = link.replace('/edit#gid=', '/export?format=csv&gid=')\n",
    "#     df = pd.read_csv(url_1)\n",
    "\n",
    "\n",
    "# df = df.fillna(\"\")\n",
    "# df[\"DNI\"]= df['DNI'].astype(str).str.zfill(8)\n",
    "# df= df.drop_duplicates(\"DNI\")"
   ]
  },
  {
   "cell_type": "code",
   "execution_count": 21,
   "metadata": {},
   "outputs": [],
   "source": []
  },
  {
   "cell_type": "code",
   "execution_count": 22,
   "metadata": {},
   "outputs": [
    {
     "name": "stderr",
     "output_type": "stream",
     "text": [
      "C:\\Users\\difoca05\\AppData\\Local\\Temp\\ipykernel_21900\\1728061844.py:27: SettingWithCopyWarning: \n",
      "A value is trying to be set on a copy of a slice from a DataFrame.\n",
      "Try using .loc[row_indexer,col_indexer] = value instead\n",
      "\n",
      "See the caveats in the documentation: https://pandas.pydata.org/pandas-docs/stable/user_guide/indexing.html#returning-a-view-versus-a-copy\n",
      "  df1[\"iniciativax\"]=np.where(df1[\"iniciativa\"].str.find(\"INI.\")> 1, df1[\"iniciativa\"].str[-7:], \"\")\n",
      "C:\\Users\\difoca05\\AppData\\Local\\Temp\\ipykernel_21900\\1728061844.py:28: SettingWithCopyWarning: \n",
      "A value is trying to be set on a copy of a slice from a DataFrame.\n",
      "Try using .loc[row_indexer,col_indexer] = value instead\n",
      "\n",
      "See the caveats in the documentation: https://pandas.pydata.org/pandas-docs/stable/user_guide/indexing.html#returning-a-view-versus-a-copy\n",
      "  df1[\"fecha_x\"] = pd.to_datetime(df1[\"Marca temporal\"]).dt.date\n",
      "C:\\Users\\difoca05\\AppData\\Local\\Temp\\ipykernel_21900\\1728061844.py:29: SettingWithCopyWarning: \n",
      "A value is trying to be set on a copy of a slice from a DataFrame.\n",
      "Try using .loc[row_indexer,col_indexer] = value instead\n",
      "\n",
      "See the caveats in the documentation: https://pandas.pydata.org/pandas-docs/stable/user_guide/indexing.html#returning-a-view-versus-a-copy\n",
      "  df1['fecha_x'] = df1['fecha_x'].astype(str)\n"
     ]
    }
   ],
   "source": [
    "if iniciativas == 'si':\n",
    "        df[\"nivel_puesto\"]=df[\"Nivel del Puesto\"].map(str)+df[\"Nivel del Puesto.1\"].map(str)\n",
    "        df[\"nombre_puesto\"]=df[\"Nombre del Puesto (Analista)\"].map(str)+df[\"Nombre del Puesto (Asesor)\"].map(str)+df[\"Nombre del Puesto (Auxiliar/Asistente)\"].map(str)+df[\"Nombre del Puesto (Coordinador)\"].map(str)+df[\"Nombre del Puesto (Directivo)\"].map(str)+df[\"Nombre del Puesto (Especialista)\"].map(str)+df[\"Nombre de Puesto (Secretaría)\"].map(str)+df[\"Nombre de Puesto (Técnico)\"].map(str)+df[\"Nombre del Puesto\"].map(str)+df[\"Nombre del Puesto.1\"].map(str)+df[\"Nombre del puesto\"].map(str)+df[\"Nombre del Puesto.2\"].map(str)+df[\"Nombre del Puesto.3\"].map(str)+df[\"Nombre del puesto.1\"].map(str)+df[\"Nombre del Puesto.4\"].map(str)+df[\"Nombre del Puesto.5\"].map(str)+df[\"Si seleccionó OTRO cargo, ingrese su cargo\"].map(str)\n",
    "        df[\"ugel\"]=df[\"Seleccione la UGEL\"].map(str)+df[\"Seleccione la UGEL.1\"].map(str)+df[\"Seleccione la UGEL.2\"].map(str)+df[\"Seleccione la UGEL.3\"].map(str)+df[\"Seleccione la UGEL.4\"].map(str)+df[\"Seleccione la UGEL.5\"].map(str)+df[\"Seleccione la UGEL.6\"].map(str)+df[\"Seleccione la UGEL.7\"].map(str)+df[\"Seleccione la UGEL.8\"].map(str)+df[\"Seleccione la UGEL.9\"].map(str)+df[\"Seleccione la UGEL.10\"].map(str)+df[\"Seleccione la UGEL.11\"].map(str)+df[\"Seleccione la UGEL.12\"].map(str)+df[\"Seleccione la UGEL.13\"].map(str)+df[\"Seleccione la UGEL.14\"].map(str)+df[\"Seleccione la UGEL.15\"].map(str)+df[\"Seleccione la UGEL.16\"].map(str)+df[\"Seleccione la UGEL.17\"].map(str)+df[\"Seleccione la UGEL.18\"].map(str)+df[\"Seleccione la UGEL.19\"].map(str)+df[\"Seleccione la UGEL.20\"].map(str)+df[\"Seleccione la UGEL.21\"].map(str)+df[\"Seleccione la UGEL.22\"].map(str)+df[\"Seleccione la UGEL.23\"].map(str)+df[\"Seleccione la UGEL.24\"].map(str)+df[\"Seleccione la UGEL.25\"].map(str)\n",
    "        \n",
    "        df[\"iniciativa\"]=df[\"Seleccione la iniciativa o práctica a la que pertenece. \"].map(str)+df[\"Seleccione la iniciativa o práctica a la que pertenece. .1\"].map(str)+df[\"Seleccione la iniciativa o práctica a la que pertenece. .2\"].map(str)+df[\"Seleccione la iniciativa o práctica a la que pertenece. .3\"].map(str)+df[\"Seleccione la iniciativa o práctica a la que pertenece. .4\"].map(str)+df[\"Seleccione la iniciativa o práctica a la que pertenece. .5\"].map(str)+df[\"Seleccione la iniciativa o práctica a la que pertenece. .6\"].map(str)+df[\"Seleccione la iniciativa o práctica a la que pertenece. .7\"].map(str)+df[\"Seleccione la iniciativa o práctica a la que pertenece. .8\"].map(str)+df[\"Seleccione la iniciativa o práctica a la que pertenece. .9\"].map(str)+df[\"Seleccione la iniciativa o práctica a la que pertenece. .11\"].map(str)+df[\"Seleccione la iniciativa o práctica a la que pertenece. .10\"].map(str)+df[\"Seleccione la iniciativa o práctica a la que pertenece. .12\"].map(str)+df[\"Seleccione la iniciativa o práctica a la que pertenece. .13\"].map(str)+df[\"Seleccione la iniciativa o práctica a la que pertenece. .14\"].map(str)+df[\"Seleccione la iniciativa o práctica a la que pertenece. .15\"].map(str)+df[\"Seleccione la iniciativa o práctica a la que pertenece. .16\"].map(str)+df[\"Seleccione la iniciativa o práctica a la que pertenece. .17\"].map(str)+df[\"Seleccione la iniciativa o práctica a la que pertenece. .18\"].map(str)+df[\"Seleccione la iniciativa o práctica a la que pertenece. .19\"].map(str)+df[\"Seleccione la iniciativa o práctica a la que pertenece. .20\"].map(str)+df[\"Seleccione la iniciativa o práctica a la que pertenece. .21\"].map(str)+df[\"Seleccione la iniciativa o práctica a la que pertenece. .22\"].map(str)+df[\"Seleccione la iniciativa o práctica a la que pertenece. .23\"].map(str)+df[\"Seleccione la iniciativa o práctica a la que pertenece. .24\"].map(str)+df[\"Seleccione la iniciativa o práctica a la que pertenece. .25\"].map(str)\n",
    "        df[\"region\"]=df[\"REGIÓN\"].map(str)+df[\"Región\"].map(str)+df[\"Región.1\"].map(str)\n",
    "        col = [\"Marca temporal\", \"DNI\", \"Nombres y Apellidos\", \"Teléfono\", \"Correo electrónico\",\"Régimen Laboral\", \"REGIÓN\", \"Tipo de institución en la que labora\", \"nivel_puesto\",\"nombre_puesto\",\"ugel\",\"Si seleccionó OTRO cargo, ingrese su cargo\",\"iniciativa\"]\n",
    "        \n",
    "        df1 = df[col]\n",
    "        \n",
    "\n",
    "# df[\"nivel_puesto\"]=df[\"Nivel del Puesto\"].map(str)+df[\"Nivel del Puesto.1\"].map(str)\n",
    "# df[\"nombre_puesto\"]=df[\"Nombre del Puesto (Analista)\"].map(str)+df[\"Nombre del Puesto (Asesor)\"].map(str)+df[\"Nombre del Puesto (Auxiliar/Asistente)\"].map(str)+df[\"Nombre del Puesto (Coordinador)\"].map(str)+df[\"Nombre del Puesto (Directivo)\"].map(str)+df[\"Nombre del Puesto (Especialista)\"].map(str)+df[\"Nombre de Puesto (Secretaría)\"].map(str)+df[\"Nombre de Puesto (Técnico)\"].map(str)+df[\"Nombre de Puesto (Otros)\"].map(str)+df[\"Nombre del Puesto\"].map(str)+df[\"Nombre del puesto\"].map(str)+df[\"Nombre del Puesto.2\"].map(str)+df[\"Nombre del Puesto.3\"].map(str)+df[\"Nombre del puesto.1\"].map(str)+df[\"Nombre del Puesto.4\"].map(str)+df[\"Nombre del Puesto.5\"].map(str)\n",
    "# df[\"ugel\"]=df[\"Seleccione la UGEL\"].map(str)+df[\"Seleccione la UGEL.1\"].map(str)+df[\"Seleccione la UGEL.2\"].map(str)+df[\"Seleccione la UGEL.3\"].map(str)+df[\"Seleccione la UGEL.4\"].map(str)+df[\"Seleccione la UGEL.5\"].map(str)+df[\"Seleccione la UGEL.6\"].map(str)+df[\"Seleccione la UGEL.7\"].map(str)+df[\"Seleccione la UGEL.8\"].map(str)+df[\"Seleccione la UGEL.9\"].map(str)+df[\"Seleccione la UGEL.10\"].map(str)+df[\"Seleccione la UGEL.11\"].map(str)+df[\"Seleccione la UGEL.12\"].map(str)+df[\"Seleccione la UGEL.13\"].map(str)+df[\"Seleccione la UGEL.14\"].map(str)+df[\"Seleccione la UGEL.15\"].map(str)+df[\"Seleccione la UGEL.16\"].map(str)+df[\"Seleccione la UGEL.17\"].map(str)+df[\"Seleccione la UGEL.18\"].map(str)+df[\"Seleccione la UGEL.19\"].map(str)+df[\"Seleccione la UGEL.20\"].map(str)+df[\"Seleccione la UGEL.21\"].map(str)+df[\"Seleccione la UGEL.22\"].map(str)+df[\"Seleccione la UGEL.23\"].map(str)+df[\"Seleccione la UGEL.24\"].map(str)+df[\"Seleccione la UGEL.25\"].map(str)\n",
    "\n",
    "# #listas con iniciativas\n",
    "# col = [\"Marca temporal\", \"DNI\", \"Nombres y Apellidos\", \"Teléfono\", \"Correo electrónico\",\"Régimen Laboral\", \"REGIÓN\", \"Tipo de institución en la que labora\", \n",
    "# \"nivel_puesto\",\"nombre_puesto\",\"ugel\",\"Si seleccionó OTRO cargo, ingrese su cargo\",\"iniciativa\"]\n",
    "\n",
    "#listas sin iniciativas\n",
    "# df[\"region\"]=df[\"REGIÓN\"].map(str)+df[\"Región\"].map(str)\n",
    "# col = [\"Marca temporal\", \"DNI\", \"Nombres y Apellidos\", \"Teléfono\", \"Correo electrónico\",\"Régimen Laboral\", \"region\", \"Tipo de institución en la que labora\", \n",
    "# \"nivel_puesto\",\"nombre_puesto\",\"ugel\",\"Si seleccionó OTRO cargo, ingrese su cargo\"]\n",
    "\n",
    "\n",
    "df1[\"iniciativax\"]=np.where(df1[\"iniciativa\"].str.find(\"INI.\")> 1, df1[\"iniciativa\"].str[-7:], \"\")\n",
    "df1[\"fecha_x\"] = pd.to_datetime(df1[\"Marca temporal\"]).dt.date\n",
    "df1['fecha_x'] = df1['fecha_x'].astype(str)\n"
   ]
  },
  {
   "cell_type": "code",
   "execution_count": 23,
   "metadata": {},
   "outputs": [
    {
     "name": "stderr",
     "output_type": "stream",
     "text": [
      "c:\\Users\\difoca05\\AppData\\Local\\Programs\\Python\\Python310\\lib\\site-packages\\pandas\\io\\sql.py:762: UserWarning: pandas only support SQLAlchemy connectable(engine/connection) ordatabase string URI or sqlite3 DBAPI2 connectionother DBAPI2 objects are not tested, please consider using SQLAlchemy\n",
      "  warnings.warn(\n"
     ]
    },
    {
     "name": "stdout",
     "output_type": "stream",
     "text": [
      "DNI nuevos: 12\n"
     ]
    },
    {
     "name": "stderr",
     "output_type": "stream",
     "text": [
      "C:\\Users\\difoca05\\AppData\\Local\\Temp\\ipykernel_21900\\3321917839.py:18: SettingWithCopyWarning: \n",
      "A value is trying to be set on a copy of a slice from a DataFrame.\n",
      "Try using .loc[row_indexer,col_indexer] = value instead\n",
      "\n",
      "See the caveats in the documentation: https://pandas.pydata.org/pandas-docs/stable/user_guide/indexing.html#returning-a-view-versus-a-copy\n",
      "  df_matric[\"llave1\"]=df_matric[\"REGIÓN\"].astype(str)+df_matric[\"ugel\"].astype(str)\n"
     ]
    }
   ],
   "source": [
    "try:\n",
    "    con = connection.connect(host=host, database =database,user=user, passwd=passwd,use_pure=True)\n",
    "    query = \"select * from ma_usuarios_cop\"\n",
    "    df2 = pd.read_sql(query,con)\n",
    "    con.close() #close the connection\n",
    "except Exception as e:\n",
    "    con.close()\n",
    "    print(str(e))\n",
    "\n",
    "df2[\"DNI\"]=df2[\"nro_doc\"]\n",
    "df2[\"DNI\"]= df2['DNI'].astype(str).str.zfill(8)\n",
    "df5=df2[[\"DNI\", \"nro_doc\"]]\n",
    "\n",
    "df6 = df1.merge(df5, on=\"DNI\", how=\"left\")\n",
    "df6=df6.fillna(\"\")\n",
    "\n",
    "df_matric = df6[df6[\"nro_doc\"]==\"\"]\n",
    "df_matric[\"llave1\"]=df_matric[\"REGIÓN\"].astype(str)+df_matric[\"ugel\"].astype(str)\n",
    "\n",
    "print(\"DNI nuevos:\",len(df_matric.index))"
   ]
  },
  {
   "cell_type": "code",
   "execution_count": 24,
   "metadata": {},
   "outputs": [],
   "source": [
    "df_iged = pd.read_excel(\"C:/Users/difoca05/OneDrive - Ministerio de Educación/Documentos/Maestros/cod_iged2.xlsx\", \"Hoja1\")\n",
    "\n",
    "df_matric2 = df_matric.merge(df_iged, on=\"llave1\", how=\"left\")\n",
    "\n",
    "df_matric2[\"Teléfono\"]= df_matric2['Teléfono'].astype(str)\n",
    "df_matric2[\"CODIGO\"]= df_matric2['CODIGO'].astype(int)\n",
    "df_matric2[\"CODIGO\"]= df_matric2['CODIGO'].astype(str).str.zfill(6)\n",
    "df_matric2[\"genero\"]=\"0\"\n",
    "df_matric2[\"nombres\"]=\"0\"\n",
    "df_matric2[\"apell_pat\"]=\"0\"\n",
    "df_matric2[\"apell_mat\"]=\"0\"\n",
    "df_matric2[\"fecha_nac\"]=\"0\"\n",
    "df_matric2[\"tipo_puest\"]=\"0\"\n",
    "\n",
    "\n",
    "if crear_excel_nuevos == 'si':\n",
    "    df_matric2.to_excel(excel_nuevos, index=False, sheet_name='base_datos')"
   ]
  },
  {
   "cell_type": "code",
   "execution_count": 25,
   "metadata": {},
   "outputs": [],
   "source": [
    "df_sql_nuevos = pd.read_excel(excel_nuevos)\n",
    "df_sql_nuevos[\"DNI\"]= df_sql_nuevos['DNI'].astype(str).str.zfill(8)\n",
    "df_sql_nuevos[\"Teléfono\"]= df_sql_nuevos['Teléfono'].astype(str)\n",
    "\n",
    "df_sql_nuevos[\"CODIGO\"]= df_sql_nuevos['CODIGO'].astype(int)\n",
    "df_sql_nuevos[\"CODIGO\"]= df_sql_nuevos['CODIGO'].astype(str).str.zfill(6)\n",
    "\n",
    "df_sql_nuevos[\"fecha_nac\"] = pd.to_datetime(df_sql_nuevos[\"fecha_nac\"]).dt.date\n",
    "df_sql_nuevos['fecha_nac'] = df_sql_nuevos['fecha_nac'].astype(str)"
   ]
  },
  {
   "cell_type": "code",
   "execution_count": 26,
   "metadata": {},
   "outputs": [
    {
     "name": "stderr",
     "output_type": "stream",
     "text": [
      "C:\\Users\\difoca05\\AppData\\Local\\Temp\\ipykernel_21900\\2716926702.py:2: SettingWithCopyWarning: \n",
      "A value is trying to be set on a copy of a slice from a DataFrame.\n",
      "Try using .loc[row_indexer,col_indexer] = value instead\n",
      "\n",
      "See the caveats in the documentation: https://pandas.pydata.org/pandas-docs/stable/user_guide/indexing.html#returning-a-view-versus-a-copy\n",
      "  df1[\"fecha_x\"] = pd.to_datetime(df1[\"Marca temporal\"]).dt.date\n",
      "C:\\Users\\difoca05\\AppData\\Local\\Temp\\ipykernel_21900\\2716926702.py:3: SettingWithCopyWarning: \n",
      "A value is trying to be set on a copy of a slice from a DataFrame.\n",
      "Try using .loc[row_indexer,col_indexer] = value instead\n",
      "\n",
      "See the caveats in the documentation: https://pandas.pydata.org/pandas-docs/stable/user_guide/indexing.html#returning-a-view-versus-a-copy\n",
      "  df1['fecha_x'] = df1['fecha_x'].astype(str)\n"
     ]
    }
   ],
   "source": [
    "df1[\"Marca temporal\"]\n",
    "df1[\"fecha_x\"] = pd.to_datetime(df1[\"Marca temporal\"]).dt.date\n",
    "df1['fecha_x'] = df1['fecha_x'].astype(str)"
   ]
  },
  {
   "cell_type": "code",
   "execution_count": 27,
   "metadata": {},
   "outputs": [
    {
     "name": "stderr",
     "output_type": "stream",
     "text": [
      "C:\\Users\\difoca05\\AppData\\Local\\Temp\\ipykernel_21900\\1254026178.py:1: SettingWithCopyWarning: \n",
      "A value is trying to be set on a copy of a slice from a DataFrame.\n",
      "Try using .loc[row_indexer,col_indexer] = value instead\n",
      "\n",
      "See the caveats in the documentation: https://pandas.pydata.org/pandas-docs/stable/user_guide/indexing.html#returning-a-view-versus-a-copy\n",
      "  df1[\"fecha1\"] = pd.to_datetime(df1[\"Marca temporal\"]).dt.date\n",
      "C:\\Users\\difoca05\\AppData\\Local\\Temp\\ipykernel_21900\\1254026178.py:2: SettingWithCopyWarning: \n",
      "A value is trying to be set on a copy of a slice from a DataFrame.\n",
      "Try using .loc[row_indexer,col_indexer] = value instead\n",
      "\n",
      "See the caveats in the documentation: https://pandas.pydata.org/pandas-docs/stable/user_guide/indexing.html#returning-a-view-versus-a-copy\n",
      "  df1['fecha1'] = df1['fecha1'].astype(str)\n"
     ]
    }
   ],
   "source": [
    "df1[\"fecha1\"] = pd.to_datetime(df1[\"Marca temporal\"]).dt.date\n",
    "df1['fecha1'] = df1['fecha1'].astype(str)\n",
    "\n",
    "if subir_sql == 'si':\n",
    "    try:\n",
    "        con = connection.connect(host=host, database =database,user=user, passwd=passwd,use_pure=True)\n",
    "        cur=con.cursor()\n",
    "\n",
    "        for (rows,rs) in df1.iterrows():\n",
    "            x1 = cod_evento\n",
    "            x2 = rs[14]\n",
    "            x3 = rs[1]\n",
    "            x4 = \"\"\n",
    "            x5 = \"\"\n",
    "            x6 = \"\"\n",
    "            x7 = \"\"\n",
    "            query = \"insert into cop_evento_asistencia (ID_ACTIVIDAD, FECHA_ASIST, DNI, ESTADO_DESAFIO, NRO_DESAFIO, COMPARTE_MURO, COMENTA_MURO) VALUES ('\"+x1+\"', '\"+x2+\"', '\"+x3+\"', '\"+x4+\"', '\"+x5+\"', '\"+x6+\"', '\"+x7+\"')\"\n",
    "            cur.execute(query)\n",
    "        con.commit()\n",
    "        con.close()\n",
    "    except Exception as e:\n",
    "        con.close()\n",
    "        print(str(e))"
   ]
  },
  {
   "cell_type": "code",
   "execution_count": 28,
   "metadata": {},
   "outputs": [
    {
     "name": "stdout",
     "output_type": "stream",
     "text": [
      "can only concatenate str (not \"int\") to str\n"
     ]
    }
   ],
   "source": [
    "if subir_sql == \"si\":\n",
    "    try:\n",
    "        con = connection.connect(host=host, database =database,user=user, passwd=passwd,use_pure=True)\n",
    "        cur=con.cursor()\n",
    "\n",
    "        for (rows,rs) in df_sql_nuevos.iterrows():\n",
    "            x1 = '1'\n",
    "            x2 = rs[1]\n",
    "            x3 = rs[4]\n",
    "            x4 = rs[19]\n",
    "            x5 = rs[21]\n",
    "            x6 = rs[22]\n",
    "            x7 = rs[20]\n",
    "            x8 = rs[23]\n",
    "            x9 = rs[3]\n",
    "            x10 = rs[8]\n",
    "            x11 = rs[9]\n",
    "            x12 = rs[24]\n",
    "            x13 = rs[5]\n",
    "            x14 = rs[15]\n",
    "            query = \"insert into ma_usuarios_cop (tipo_doc, nro_doc, email, genero, apellido_paterno, apellido_materno, nombres,fecha_nac,celular,nivel_puesto,desc_puesto,tipo_puesto,regimen_laboral,cod_iged) VALUES ('\"+x1+\"', '\"+x2+\"', '\"+x3+\"', '\"+x4+\"', '\"+x5+\"', '\"+x6+\"', '\"+x7+\"', '\"+x8+\"', '\"+x9+\"', '\"+x10+\"', '\"+x11+\"', '\"+x12+\"', '\"+x13+\"', '\"+x14+\"')\"\n",
    "            cur.execute(query)\n",
    "        con.commit()\n",
    "        con.close()\n",
    "    except Exception as e:\n",
    "        con.close()\n",
    "        print(str(e))\n",
    "    \n"
   ]
  },
  {
   "cell_type": "code",
   "execution_count": 29,
   "metadata": {},
   "outputs": [],
   "source": [
    "if subir_sql == \"si\":\n",
    "    try:\n",
    "        con = connection.connect(host=host, database =database,user=user, passwd=passwd,use_pure=True)\n",
    "        cur=con.cursor()\n",
    "\n",
    "        for (rows,rs) in df1.iterrows():\n",
    "            x1 = rs[1]\n",
    "            x2 = rs[13]\n",
    "            x3 = rs[14]\n",
    "            x4 = cod_evento\n",
    "            query = \"insert into cop_asesorias_iniciativas (dni, cod_ini, fecha, id_actividad) VALUES ('\"+x1+\"', '\"+x2+\"', '\"+x3+\"', '\"+x4+\"')\"\n",
    "            cur.execute(query)\n",
    "        con.commit()\n",
    "        con.close()\n",
    "    except Exception as e:\n",
    "        con.close()\n",
    "        print(str(e))"
   ]
  },
  {
   "cell_type": "code",
   "execution_count": 30,
   "metadata": {},
   "outputs": [],
   "source": [
    "if subir_sql == \"si\":\n",
    "    try:\n",
    "        con = connection.connect(host=host, database =database,user=user, passwd=passwd,use_pure=True)\n",
    "        cur=con.cursor()\n",
    "        query = \"delete from cop_asesorias_iniciativas where cod_ini = ''\"\n",
    "        cur.execute(query)\n",
    "        con.commit()\n",
    "        con.close()\n",
    "    except Exception as e:\n",
    "        con.close()\n",
    "        print(str(e))"
   ]
  }
 ],
 "metadata": {
  "kernelspec": {
   "display_name": "Python 3.10.7 64-bit",
   "language": "python",
   "name": "python3"
  },
  "language_info": {
   "codemirror_mode": {
    "name": "ipython",
    "version": 3
   },
   "file_extension": ".py",
   "mimetype": "text/x-python",
   "name": "python",
   "nbconvert_exporter": "python",
   "pygments_lexer": "ipython3",
   "version": "3.10.7"
  },
  "orig_nbformat": 4,
  "vscode": {
   "interpreter": {
    "hash": "a75cba287430c04df4429d9879428dc35a189f246dd6e5de7437299dc4974f3d"
   }
  }
 },
 "nbformat": 4,
 "nbformat_minor": 2
}
