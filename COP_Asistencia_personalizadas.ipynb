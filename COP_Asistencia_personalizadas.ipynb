{
 "cells": [
  {
   "cell_type": "code",
   "execution_count": 2,
   "metadata": {},
   "outputs": [],
   "source": [
    "#Parametros para modificar\n",
    "\n",
    "iniciativas = \"NO\" #(si/no)\n",
    "cod_evento = '55'\n",
    "\n",
    "#Lista de Asistencia es excel o link de googel sheet:\n",
    "lista_asistencia = \"link\" #excel/link\n",
    "excel = \"C:/Users/difoca05/OneDrive - Ministerio de Educación/COP Y BP/eventos y aseosrias/sept/REGISTRO ASISTENCIA VC 2022 09 20 16H ASESORÍA COP 8 (respuestas).xlsx\"\n",
    "link = \"https://docs.google.com/spreadsheets/d/1i8kwd4df4WqQmpr5p_d9tbuuEY06GwDp/edit#gid=1316702131\"\n",
    "\n",
    "hoja = \"Respuestas de formulario 1\"\n",
    "excel_nuevos = \"C:/Users/difoca05/OneDrive - Ministerio de Educación/COP Y BP/matricula CoP/Lista para Matricula CoP Asesoría Personalizada - \"+cod_evento+\".xlsx\"\n",
    "\n",
    "subir_sql = \"no\"\n",
    "crear_excel_nuevos = \"si\"\n",
    "\n",
    "#dni para retirar de la df\n",
    "list_dni = ['317510060794']\n",
    "\n",
    "#Base de datos\n",
    "host=\"localhost\"\n",
    "database ='difoca'\n",
    "user=\"root\"\n",
    "passwd=\"root1\""
   ]
  },
  {
   "cell_type": "code",
   "execution_count": 3,
   "metadata": {},
   "outputs": [
    {
     "data": {
      "text/html": [
       "<div>\n",
       "<style scoped>\n",
       "    .dataframe tbody tr th:only-of-type {\n",
       "        vertical-align: middle;\n",
       "    }\n",
       "\n",
       "    .dataframe tbody tr th {\n",
       "        vertical-align: top;\n",
       "    }\n",
       "\n",
       "    .dataframe thead th {\n",
       "        text-align: right;\n",
       "    }\n",
       "</style>\n",
       "<table border=\"1\" class=\"dataframe\">\n",
       "  <thead>\n",
       "    <tr style=\"text-align: right;\">\n",
       "      <th></th>\n",
       "      <th>Marca temporal</th>\n",
       "      <th>Apellidos</th>\n",
       "      <th>Nombres</th>\n",
       "      <th>DNI</th>\n",
       "      <th>Teléfono / Celular</th>\n",
       "      <th>Correo electrónico</th>\n",
       "      <th>Nombre de la DRE/GRE</th>\n",
       "      <th>Nombre de la UGEL</th>\n",
       "      <th>Cargo que desempeña</th>\n",
       "    </tr>\n",
       "  </thead>\n",
       "  <tbody>\n",
       "    <tr>\n",
       "      <th>0</th>\n",
       "      <td>9/7/2022 16:32:50</td>\n",
       "      <td>Vilca Ramos</td>\n",
       "      <td>Mario Jaime</td>\n",
       "      <td>02438165</td>\n",
       "      <td>951842550</td>\n",
       "      <td>mariovilca1@gmail.com</td>\n",
       "      <td>Puno</td>\n",
       "      <td>Lampa</td>\n",
       "      <td>Especialista</td>\n",
       "    </tr>\n",
       "    <tr>\n",
       "      <th>1</th>\n",
       "      <td>9/7/2022 17:01:54</td>\n",
       "      <td>Figueroa Quispe</td>\n",
       "      <td>Edwin Leonet</td>\n",
       "      <td>01296539</td>\n",
       "      <td>951527881</td>\n",
       "      <td>efigueroa@ugellampa.edu.pe</td>\n",
       "      <td>Puno</td>\n",
       "      <td>Lampa</td>\n",
       "      <td>Jefe AGP</td>\n",
       "    </tr>\n",
       "    <tr>\n",
       "      <th>2</th>\n",
       "      <td>9/7/2022 17:11:10</td>\n",
       "      <td>MAMANI QUISPE</td>\n",
       "      <td>GODOFREDO</td>\n",
       "      <td>29560307</td>\n",
       "      <td>979677503</td>\n",
       "      <td>godusmamani@gmail.com</td>\n",
       "      <td>Puno</td>\n",
       "      <td>Lampa</td>\n",
       "      <td>ESPECIALISTA</td>\n",
       "    </tr>\n",
       "  </tbody>\n",
       "</table>\n",
       "</div>"
      ],
      "text/plain": [
       "      Marca temporal         Apellidos        Nombres       DNI  \\\n",
       "0  9/7/2022 16:32:50       Vilca Ramos    Mario Jaime  02438165   \n",
       "1  9/7/2022 17:01:54  Figueroa Quispe   Edwin Leonet   01296539   \n",
       "2  9/7/2022 17:11:10     MAMANI QUISPE      GODOFREDO  29560307   \n",
       "\n",
       "   Teléfono / Celular          Correo electrónico Nombre de la DRE/GRE  \\\n",
       "0           951842550       mariovilca1@gmail.com                 Puno   \n",
       "1           951527881  efigueroa@ugellampa.edu.pe                 Puno   \n",
       "2           979677503       godusmamani@gmail.com                 Puno   \n",
       "\n",
       "  Nombre de la UGEL Cargo que desempeña  \n",
       "0             Lampa        Especialista  \n",
       "1             Lampa            Jefe AGP  \n",
       "2             Lampa        ESPECIALISTA  "
      ]
     },
     "execution_count": 3,
     "metadata": {},
     "output_type": "execute_result"
    }
   ],
   "source": [
    "import pandas as pd\n",
    "import mysql.connector as connection\n",
    "import numpy as np\n",
    "import openpyxl\n",
    "\n",
    "if lista_asistencia == \"excel\":\n",
    "    df = pd.read_excel(excel, hoja)\n",
    "else:\n",
    "    url_1 = link.replace('/edit#gid=', '/export?format=csv&gid=')\n",
    "    df = pd.read_csv(url_1)\n",
    "\n",
    "\n",
    "\n",
    "df = df.fillna(\"\")\n",
    "df[\"DNI\"]= df['DNI'].astype(str).str.zfill(8)\n",
    "df= df.drop_duplicates(\"DNI\")\n",
    "df"
   ]
  },
  {
   "cell_type": "code",
   "execution_count": 4,
   "metadata": {},
   "outputs": [],
   "source": [
    "#Eliminar participantes \"dni para retirar de la df\"\n",
    "for i in list_dni:\n",
    "    df.drop(df[df[\"DNI\"]==i].index , inplace=True)"
   ]
  },
  {
   "cell_type": "code",
   "execution_count": 6,
   "metadata": {},
   "outputs": [
    {
     "ename": "KeyError",
     "evalue": "'Nivel del Puesto'",
     "output_type": "error",
     "traceback": [
      "\u001b[1;31m---------------------------------------------------------------------------\u001b[0m",
      "\u001b[1;31mKeyError\u001b[0m                                  Traceback (most recent call last)",
      "File \u001b[1;32mc:\\Users\\difoca05\\AppData\\Local\\Programs\\Python\\Python310\\lib\\site-packages\\pandas\\core\\indexes\\base.py:3629\u001b[0m, in \u001b[0;36mIndex.get_loc\u001b[1;34m(self, key, method, tolerance)\u001b[0m\n\u001b[0;32m   3628\u001b[0m \u001b[39mtry\u001b[39;00m:\n\u001b[1;32m-> 3629\u001b[0m     \u001b[39mreturn\u001b[39;00m \u001b[39mself\u001b[39;49m\u001b[39m.\u001b[39;49m_engine\u001b[39m.\u001b[39;49mget_loc(casted_key)\n\u001b[0;32m   3630\u001b[0m \u001b[39mexcept\u001b[39;00m \u001b[39mKeyError\u001b[39;00m \u001b[39mas\u001b[39;00m err:\n",
      "File \u001b[1;32mc:\\Users\\difoca05\\AppData\\Local\\Programs\\Python\\Python310\\lib\\site-packages\\pandas\\_libs\\index.pyx:136\u001b[0m, in \u001b[0;36mpandas._libs.index.IndexEngine.get_loc\u001b[1;34m()\u001b[0m\n",
      "File \u001b[1;32mc:\\Users\\difoca05\\AppData\\Local\\Programs\\Python\\Python310\\lib\\site-packages\\pandas\\_libs\\index.pyx:163\u001b[0m, in \u001b[0;36mpandas._libs.index.IndexEngine.get_loc\u001b[1;34m()\u001b[0m\n",
      "File \u001b[1;32mpandas\\_libs\\hashtable_class_helper.pxi:5198\u001b[0m, in \u001b[0;36mpandas._libs.hashtable.PyObjectHashTable.get_item\u001b[1;34m()\u001b[0m\n",
      "File \u001b[1;32mpandas\\_libs\\hashtable_class_helper.pxi:5206\u001b[0m, in \u001b[0;36mpandas._libs.hashtable.PyObjectHashTable.get_item\u001b[1;34m()\u001b[0m\n",
      "\u001b[1;31mKeyError\u001b[0m: 'Nivel del Puesto'",
      "\nThe above exception was the direct cause of the following exception:\n",
      "\u001b[1;31mKeyError\u001b[0m                                  Traceback (most recent call last)",
      "Cell \u001b[1;32mIn [6], line 12\u001b[0m\n\u001b[0;32m     10\u001b[0m         df1 \u001b[39m=\u001b[39m df[col]\n\u001b[0;32m     11\u001b[0m \u001b[39melse\u001b[39;00m:\n\u001b[1;32m---> 12\u001b[0m         df[\u001b[39m\"\u001b[39m\u001b[39mnivel_puesto\u001b[39m\u001b[39m\"\u001b[39m]\u001b[39m=\u001b[39mdf[\u001b[39m\"\u001b[39;49m\u001b[39mNivel del Puesto\u001b[39;49m\u001b[39m\"\u001b[39;49m]\u001b[39m.\u001b[39mmap(\u001b[39mstr\u001b[39m)\u001b[39m+\u001b[39mdf[\u001b[39m\"\u001b[39m\u001b[39mNivel del Puesto.1\u001b[39m\u001b[39m\"\u001b[39m]\u001b[39m.\u001b[39mmap(\u001b[39mstr\u001b[39m)\n\u001b[0;32m     13\u001b[0m         df[\u001b[39m\"\u001b[39m\u001b[39mnombre_puesto\u001b[39m\u001b[39m\"\u001b[39m]\u001b[39m=\u001b[39mdf[\u001b[39m\"\u001b[39m\u001b[39mNombre del Puesto (Analista)\u001b[39m\u001b[39m\"\u001b[39m]\u001b[39m.\u001b[39mmap(\u001b[39mstr\u001b[39m)\u001b[39m+\u001b[39mdf[\u001b[39m\"\u001b[39m\u001b[39mNombre del Puesto (Asesor)\u001b[39m\u001b[39m\"\u001b[39m]\u001b[39m.\u001b[39mmap(\u001b[39mstr\u001b[39m)\u001b[39m+\u001b[39mdf[\u001b[39m\"\u001b[39m\u001b[39mNombre del Puesto (Auxiliar/Asistente)\u001b[39m\u001b[39m\"\u001b[39m]\u001b[39m.\u001b[39mmap(\u001b[39mstr\u001b[39m)\u001b[39m+\u001b[39mdf[\u001b[39m\"\u001b[39m\u001b[39mNombre del Puesto (Coordinador)\u001b[39m\u001b[39m\"\u001b[39m]\u001b[39m.\u001b[39mmap(\u001b[39mstr\u001b[39m)\u001b[39m+\u001b[39mdf[\u001b[39m\"\u001b[39m\u001b[39mNombre del Puesto (Directivo)\u001b[39m\u001b[39m\"\u001b[39m]\u001b[39m.\u001b[39mmap(\u001b[39mstr\u001b[39m)\u001b[39m+\u001b[39mdf[\u001b[39m\"\u001b[39m\u001b[39mNombre del Puesto (Especialista)\u001b[39m\u001b[39m\"\u001b[39m]\u001b[39m.\u001b[39mmap(\u001b[39mstr\u001b[39m)\u001b[39m+\u001b[39mdf[\u001b[39m\"\u001b[39m\u001b[39mNombre de Puesto (Secretaría)\u001b[39m\u001b[39m\"\u001b[39m]\u001b[39m.\u001b[39mmap(\u001b[39mstr\u001b[39m)\u001b[39m+\u001b[39mdf[\u001b[39m\"\u001b[39m\u001b[39mNombre de Puesto (Técnico)\u001b[39m\u001b[39m\"\u001b[39m]\u001b[39m.\u001b[39mmap(\u001b[39mstr\u001b[39m)\u001b[39m+\u001b[39mdf[\u001b[39m\"\u001b[39m\u001b[39mNombre del Puesto\u001b[39m\u001b[39m\"\u001b[39m]\u001b[39m.\u001b[39mmap(\u001b[39mstr\u001b[39m)\u001b[39m+\u001b[39mdf[\u001b[39m\"\u001b[39m\u001b[39mNombre del Puesto.1\u001b[39m\u001b[39m\"\u001b[39m]\u001b[39m.\u001b[39mmap(\u001b[39mstr\u001b[39m)\u001b[39m+\u001b[39mdf[\u001b[39m\"\u001b[39m\u001b[39mNombre del puesto\u001b[39m\u001b[39m\"\u001b[39m]\u001b[39m.\u001b[39mmap(\u001b[39mstr\u001b[39m)\u001b[39m+\u001b[39mdf[\u001b[39m\"\u001b[39m\u001b[39mNombre del Puesto.2\u001b[39m\u001b[39m\"\u001b[39m]\u001b[39m.\u001b[39mmap(\u001b[39mstr\u001b[39m)\u001b[39m+\u001b[39mdf[\u001b[39m\"\u001b[39m\u001b[39mNombre del Puesto.3\u001b[39m\u001b[39m\"\u001b[39m]\u001b[39m.\u001b[39mmap(\u001b[39mstr\u001b[39m)\u001b[39m+\u001b[39mdf[\u001b[39m\"\u001b[39m\u001b[39mNombre del puesto.1\u001b[39m\u001b[39m\"\u001b[39m]\u001b[39m.\u001b[39mmap(\u001b[39mstr\u001b[39m)\u001b[39m+\u001b[39mdf[\u001b[39m\"\u001b[39m\u001b[39mNombre del Puesto.4\u001b[39m\u001b[39m\"\u001b[39m]\u001b[39m.\u001b[39mmap(\u001b[39mstr\u001b[39m)\u001b[39m+\u001b[39mdf[\u001b[39m\"\u001b[39m\u001b[39mNombre del Puesto.5\u001b[39m\u001b[39m\"\u001b[39m]\u001b[39m.\u001b[39mmap(\u001b[39mstr\u001b[39m)\u001b[39m+\u001b[39mdf[\u001b[39m\"\u001b[39m\u001b[39mSi seleccionó OTRO cargo, ingrese su cargo\u001b[39m\u001b[39m\"\u001b[39m]\u001b[39m.\u001b[39mmap(\u001b[39mstr\u001b[39m)\n\u001b[0;32m     14\u001b[0m         df[\u001b[39m\"\u001b[39m\u001b[39mugel\u001b[39m\u001b[39m\"\u001b[39m]\u001b[39m=\u001b[39mdf[\u001b[39m\"\u001b[39m\u001b[39mSeleccione la UGEL\u001b[39m\u001b[39m\"\u001b[39m]\u001b[39m.\u001b[39mmap(\u001b[39mstr\u001b[39m)\u001b[39m+\u001b[39mdf[\u001b[39m\"\u001b[39m\u001b[39mSeleccione la UGEL.1\u001b[39m\u001b[39m\"\u001b[39m]\u001b[39m.\u001b[39mmap(\u001b[39mstr\u001b[39m)\u001b[39m+\u001b[39mdf[\u001b[39m\"\u001b[39m\u001b[39mSeleccione la UGEL.2\u001b[39m\u001b[39m\"\u001b[39m]\u001b[39m.\u001b[39mmap(\u001b[39mstr\u001b[39m)\u001b[39m+\u001b[39mdf[\u001b[39m\"\u001b[39m\u001b[39mSeleccione la UGEL.3\u001b[39m\u001b[39m\"\u001b[39m]\u001b[39m.\u001b[39mmap(\u001b[39mstr\u001b[39m)\u001b[39m+\u001b[39mdf[\u001b[39m\"\u001b[39m\u001b[39mSeleccione la UGEL.4\u001b[39m\u001b[39m\"\u001b[39m]\u001b[39m.\u001b[39mmap(\u001b[39mstr\u001b[39m)\u001b[39m+\u001b[39mdf[\u001b[39m\"\u001b[39m\u001b[39mSeleccione la UGEL.5\u001b[39m\u001b[39m\"\u001b[39m]\u001b[39m.\u001b[39mmap(\u001b[39mstr\u001b[39m)\u001b[39m+\u001b[39mdf[\u001b[39m\"\u001b[39m\u001b[39mSeleccione la UGEL.6\u001b[39m\u001b[39m\"\u001b[39m]\u001b[39m.\u001b[39mmap(\u001b[39mstr\u001b[39m)\u001b[39m+\u001b[39mdf[\u001b[39m\"\u001b[39m\u001b[39mSeleccione la UGEL.7\u001b[39m\u001b[39m\"\u001b[39m]\u001b[39m.\u001b[39mmap(\u001b[39mstr\u001b[39m)\u001b[39m+\u001b[39mdf[\u001b[39m\"\u001b[39m\u001b[39mSeleccione la UGEL.8\u001b[39m\u001b[39m\"\u001b[39m]\u001b[39m.\u001b[39mmap(\u001b[39mstr\u001b[39m)\u001b[39m+\u001b[39mdf[\u001b[39m\"\u001b[39m\u001b[39mSeleccione la UGEL.9\u001b[39m\u001b[39m\"\u001b[39m]\u001b[39m.\u001b[39mmap(\u001b[39mstr\u001b[39m)\u001b[39m+\u001b[39mdf[\u001b[39m\"\u001b[39m\u001b[39mSeleccione la UGEL.10\u001b[39m\u001b[39m\"\u001b[39m]\u001b[39m.\u001b[39mmap(\u001b[39mstr\u001b[39m)\u001b[39m+\u001b[39mdf[\u001b[39m\"\u001b[39m\u001b[39mSeleccione la UGEL.11\u001b[39m\u001b[39m\"\u001b[39m]\u001b[39m.\u001b[39mmap(\u001b[39mstr\u001b[39m)\u001b[39m+\u001b[39mdf[\u001b[39m\"\u001b[39m\u001b[39mSeleccione la UGEL.12\u001b[39m\u001b[39m\"\u001b[39m]\u001b[39m.\u001b[39mmap(\u001b[39mstr\u001b[39m)\u001b[39m+\u001b[39mdf[\u001b[39m\"\u001b[39m\u001b[39mSeleccione la UGEL.13\u001b[39m\u001b[39m\"\u001b[39m]\u001b[39m.\u001b[39mmap(\u001b[39mstr\u001b[39m)\u001b[39m+\u001b[39mdf[\u001b[39m\"\u001b[39m\u001b[39mSeleccione la UGEL.14\u001b[39m\u001b[39m\"\u001b[39m]\u001b[39m.\u001b[39mmap(\u001b[39mstr\u001b[39m)\u001b[39m+\u001b[39mdf[\u001b[39m\"\u001b[39m\u001b[39mSeleccione la UGEL.15\u001b[39m\u001b[39m\"\u001b[39m]\u001b[39m.\u001b[39mmap(\u001b[39mstr\u001b[39m)\u001b[39m+\u001b[39mdf[\u001b[39m\"\u001b[39m\u001b[39mSeleccione la UGEL.16\u001b[39m\u001b[39m\"\u001b[39m]\u001b[39m.\u001b[39mmap(\u001b[39mstr\u001b[39m)\u001b[39m+\u001b[39mdf[\u001b[39m\"\u001b[39m\u001b[39mSeleccione la UGEL.17\u001b[39m\u001b[39m\"\u001b[39m]\u001b[39m.\u001b[39mmap(\u001b[39mstr\u001b[39m)\u001b[39m+\u001b[39mdf[\u001b[39m\"\u001b[39m\u001b[39mSeleccione la UGEL.18\u001b[39m\u001b[39m\"\u001b[39m]\u001b[39m.\u001b[39mmap(\u001b[39mstr\u001b[39m)\u001b[39m+\u001b[39mdf[\u001b[39m\"\u001b[39m\u001b[39mSeleccione la UGEL.19\u001b[39m\u001b[39m\"\u001b[39m]\u001b[39m.\u001b[39mmap(\u001b[39mstr\u001b[39m)\u001b[39m+\u001b[39mdf[\u001b[39m\"\u001b[39m\u001b[39mSeleccione la UGEL.20\u001b[39m\u001b[39m\"\u001b[39m]\u001b[39m.\u001b[39mmap(\u001b[39mstr\u001b[39m)\u001b[39m+\u001b[39mdf[\u001b[39m\"\u001b[39m\u001b[39mSeleccione la UGEL.21\u001b[39m\u001b[39m\"\u001b[39m]\u001b[39m.\u001b[39mmap(\u001b[39mstr\u001b[39m)\u001b[39m+\u001b[39mdf[\u001b[39m\"\u001b[39m\u001b[39mSeleccione la UGEL.22\u001b[39m\u001b[39m\"\u001b[39m]\u001b[39m.\u001b[39mmap(\u001b[39mstr\u001b[39m)\u001b[39m+\u001b[39mdf[\u001b[39m\"\u001b[39m\u001b[39mSeleccione la UGEL.23\u001b[39m\u001b[39m\"\u001b[39m]\u001b[39m.\u001b[39mmap(\u001b[39mstr\u001b[39m)\u001b[39m+\u001b[39mdf[\u001b[39m\"\u001b[39m\u001b[39mSeleccione la UGEL.24\u001b[39m\u001b[39m\"\u001b[39m]\u001b[39m.\u001b[39mmap(\u001b[39mstr\u001b[39m)\u001b[39m+\u001b[39mdf[\u001b[39m\"\u001b[39m\u001b[39mSeleccione la UGEL.25\u001b[39m\u001b[39m\"\u001b[39m]\u001b[39m.\u001b[39mmap(\u001b[39mstr\u001b[39m)\n",
      "File \u001b[1;32mc:\\Users\\difoca05\\AppData\\Local\\Programs\\Python\\Python310\\lib\\site-packages\\pandas\\core\\frame.py:3505\u001b[0m, in \u001b[0;36mDataFrame.__getitem__\u001b[1;34m(self, key)\u001b[0m\n\u001b[0;32m   3503\u001b[0m \u001b[39mif\u001b[39;00m \u001b[39mself\u001b[39m\u001b[39m.\u001b[39mcolumns\u001b[39m.\u001b[39mnlevels \u001b[39m>\u001b[39m \u001b[39m1\u001b[39m:\n\u001b[0;32m   3504\u001b[0m     \u001b[39mreturn\u001b[39;00m \u001b[39mself\u001b[39m\u001b[39m.\u001b[39m_getitem_multilevel(key)\n\u001b[1;32m-> 3505\u001b[0m indexer \u001b[39m=\u001b[39m \u001b[39mself\u001b[39;49m\u001b[39m.\u001b[39;49mcolumns\u001b[39m.\u001b[39;49mget_loc(key)\n\u001b[0;32m   3506\u001b[0m \u001b[39mif\u001b[39;00m is_integer(indexer):\n\u001b[0;32m   3507\u001b[0m     indexer \u001b[39m=\u001b[39m [indexer]\n",
      "File \u001b[1;32mc:\\Users\\difoca05\\AppData\\Local\\Programs\\Python\\Python310\\lib\\site-packages\\pandas\\core\\indexes\\base.py:3631\u001b[0m, in \u001b[0;36mIndex.get_loc\u001b[1;34m(self, key, method, tolerance)\u001b[0m\n\u001b[0;32m   3629\u001b[0m     \u001b[39mreturn\u001b[39;00m \u001b[39mself\u001b[39m\u001b[39m.\u001b[39m_engine\u001b[39m.\u001b[39mget_loc(casted_key)\n\u001b[0;32m   3630\u001b[0m \u001b[39mexcept\u001b[39;00m \u001b[39mKeyError\u001b[39;00m \u001b[39mas\u001b[39;00m err:\n\u001b[1;32m-> 3631\u001b[0m     \u001b[39mraise\u001b[39;00m \u001b[39mKeyError\u001b[39;00m(key) \u001b[39mfrom\u001b[39;00m \u001b[39merr\u001b[39;00m\n\u001b[0;32m   3632\u001b[0m \u001b[39mexcept\u001b[39;00m \u001b[39mTypeError\u001b[39;00m:\n\u001b[0;32m   3633\u001b[0m     \u001b[39m# If we have a listlike key, _check_indexing_error will raise\u001b[39;00m\n\u001b[0;32m   3634\u001b[0m     \u001b[39m#  InvalidIndexError. Otherwise we fall through and re-raise\u001b[39;00m\n\u001b[0;32m   3635\u001b[0m     \u001b[39m#  the TypeError.\u001b[39;00m\n\u001b[0;32m   3636\u001b[0m     \u001b[39mself\u001b[39m\u001b[39m.\u001b[39m_check_indexing_error(key)\n",
      "\u001b[1;31mKeyError\u001b[0m: 'Nivel del Puesto'"
     ]
    }
   ],
   "source": [
    "if iniciativas == 'si':\n",
    "        df[\"nivel_puesto\"]=df[\"Nivel del Puesto\"].map(str)+df[\"Nivel del Puesto.1\"].map(str)\n",
    "        df[\"nombre_puesto\"]=df[\"Nombre del Puesto (Analista)\"].map(str)+df[\"Nombre del Puesto (Asesor)\"].map(str)+df[\"Nombre del Puesto (Auxiliar/Asistente)\"].map(str)+df[\"Nombre del Puesto (Coordinador)\"].map(str)+df[\"Nombre del Puesto (Directivo)\"].map(str)+df[\"Nombre del Puesto (Especialista)\"].map(str)+df[\"Nombre de Puesto (Secretaría)\"].map(str)+df[\"Nombre de Puesto (Técnico)\"].map(str)+df[\"Nombre del Puesto\"].map(str)+df[\"Nombre del Puesto.1\"].map(str)+df[\"Nombre del puesto\"].map(str)+df[\"Nombre del Puesto.2\"].map(str)+df[\"Nombre del Puesto.3\"].map(str)+df[\"Nombre del puesto.1\"].map(str)+df[\"Nombre del Puesto.4\"].map(str)+df[\"Nombre del Puesto.5\"].map(str)+df[\"Si seleccionó OTRO cargo, ingrese su cargo\"].map(str)\n",
    "        df[\"ugel\"]=df[\"Seleccione la UGEL\"].map(str)+df[\"Seleccione la UGEL.1\"].map(str)+df[\"Seleccione la UGEL.2\"].map(str)+df[\"Seleccione la UGEL.3\"].map(str)+df[\"Seleccione la UGEL.4\"].map(str)+df[\"Seleccione la UGEL.5\"].map(str)+df[\"Seleccione la UGEL.6\"].map(str)+df[\"Seleccione la UGEL.7\"].map(str)+df[\"Seleccione la UGEL.8\"].map(str)+df[\"Seleccione la UGEL.9\"].map(str)+df[\"Seleccione la UGEL.10\"].map(str)+df[\"Seleccione la UGEL.11\"].map(str)+df[\"Seleccione la UGEL.12\"].map(str)+df[\"Seleccione la UGEL.13\"].map(str)+df[\"Seleccione la UGEL.14\"].map(str)+df[\"Seleccione la UGEL.15\"].map(str)+df[\"Seleccione la UGEL.16\"].map(str)+df[\"Seleccione la UGEL.17\"].map(str)+df[\"Seleccione la UGEL.18\"].map(str)+df[\"Seleccione la UGEL.19\"].map(str)+df[\"Seleccione la UGEL.20\"].map(str)+df[\"Seleccione la UGEL.21\"].map(str)+df[\"Seleccione la UGEL.22\"].map(str)+df[\"Seleccione la UGEL.23\"].map(str)+df[\"Seleccione la UGEL.24\"].map(str)+df[\"Seleccione la UGEL.25\"].map(str)\n",
    "        \n",
    "        df[\"iniciativa\"]=df[\"Seleccione la iniciativa o práctica a la que pertenece. \"].map(str)+df[\"Seleccione la iniciativa o práctica a la que pertenece. .1\"].map(str)+df[\"Seleccione la iniciativa o práctica a la que pertenece. .2\"].map(str)+df[\"Seleccione la iniciativa o práctica a la que pertenece. .3\"].map(str)+df[\"Seleccione la iniciativa o práctica a la que pertenece. .4\"].map(str)+df[\"Seleccione la iniciativa o práctica a la que pertenece. .5\"].map(str)+df[\"Seleccione la iniciativa o práctica a la que pertenece. .6\"].map(str)+df[\"Seleccione la iniciativa o práctica a la que pertenece. .7\"].map(str)+df[\"Seleccione la iniciativa o práctica a la que pertenece. .8\"].map(str)+df[\"Seleccione la iniciativa o práctica a la que pertenece. .9\"].map(str)+df[\"Seleccione la iniciativa o práctica a la que pertenece. .11\"].map(str)+df[\"Seleccione la iniciativa o práctica a la que pertenece. .10\"].map(str)+df[\"Seleccione la iniciativa o práctica a la que pertenece. .12\"].map(str)+df[\"Seleccione la iniciativa o práctica a la que pertenece. .13\"].map(str)+df[\"Seleccione la iniciativa o práctica a la que pertenece. .14\"].map(str)+df[\"Seleccione la iniciativa o práctica a la que pertenece. .15\"].map(str)+df[\"Seleccione la iniciativa o práctica a la que pertenece. .16\"].map(str)+df[\"Seleccione la iniciativa o práctica a la que pertenece. .17\"].map(str)+df[\"Seleccione la iniciativa o práctica a la que pertenece. .18\"].map(str)+df[\"Seleccione la iniciativa o práctica a la que pertenece. .19\"].map(str)+df[\"Seleccione la iniciativa o práctica a la que pertenece. .20\"].map(str)+df[\"Seleccione la iniciativa o práctica a la que pertenece. .21\"].map(str)+df[\"Seleccione la iniciativa o práctica a la que pertenece. .22\"].map(str)+df[\"Seleccione la iniciativa o práctica a la que pertenece. .23\"].map(str)+df[\"Seleccione la iniciativa o práctica a la que pertenece. .24\"].map(str)+df[\"Seleccione la iniciativa o práctica a la que pertenece. .25\"].map(str)\n",
    "        df[\"region\"]=df[\"REGIÓN\"].map(str)+df[\"Región\"].map(str)+df[\"Región.1\"].map(str)\n",
    "        col = [\"Marca temporal\", \"DNI\", \"Nombres y Apellidos\", \"Teléfono\", \"Correo electrónico\",\"Régimen Laboral\", \"REGIÓN\", \"Tipo de institución en la que labora\", \"nivel_puesto\",\"nombre_puesto\",\"ugel\",\"Si seleccionó OTRO cargo, ingrese su cargo\",\"iniciativa\"]\n",
    "        \n",
    "        df1 = df[col]\n",
    "else:\n",
    "        df[\"nivel_puesto\"]=df[\"Nivel del Puesto\"].map(str)+df[\"Nivel del Puesto.1\"].map(str)\n",
    "        df[\"nombre_puesto\"]=df[\"Nombre del Puesto (Analista)\"].map(str)+df[\"Nombre del Puesto (Asesor)\"].map(str)+df[\"Nombre del Puesto (Auxiliar/Asistente)\"].map(str)+df[\"Nombre del Puesto (Coordinador)\"].map(str)+df[\"Nombre del Puesto (Directivo)\"].map(str)+df[\"Nombre del Puesto (Especialista)\"].map(str)+df[\"Nombre de Puesto (Secretaría)\"].map(str)+df[\"Nombre de Puesto (Técnico)\"].map(str)+df[\"Nombre del Puesto\"].map(str)+df[\"Nombre del Puesto.1\"].map(str)+df[\"Nombre del puesto\"].map(str)+df[\"Nombre del Puesto.2\"].map(str)+df[\"Nombre del Puesto.3\"].map(str)+df[\"Nombre del puesto.1\"].map(str)+df[\"Nombre del Puesto.4\"].map(str)+df[\"Nombre del Puesto.5\"].map(str)+df[\"Si seleccionó OTRO cargo, ingrese su cargo\"].map(str)\n",
    "        df[\"ugel\"]=df[\"Seleccione la UGEL\"].map(str)+df[\"Seleccione la UGEL.1\"].map(str)+df[\"Seleccione la UGEL.2\"].map(str)+df[\"Seleccione la UGEL.3\"].map(str)+df[\"Seleccione la UGEL.4\"].map(str)+df[\"Seleccione la UGEL.5\"].map(str)+df[\"Seleccione la UGEL.6\"].map(str)+df[\"Seleccione la UGEL.7\"].map(str)+df[\"Seleccione la UGEL.8\"].map(str)+df[\"Seleccione la UGEL.9\"].map(str)+df[\"Seleccione la UGEL.10\"].map(str)+df[\"Seleccione la UGEL.11\"].map(str)+df[\"Seleccione la UGEL.12\"].map(str)+df[\"Seleccione la UGEL.13\"].map(str)+df[\"Seleccione la UGEL.14\"].map(str)+df[\"Seleccione la UGEL.15\"].map(str)+df[\"Seleccione la UGEL.16\"].map(str)+df[\"Seleccione la UGEL.17\"].map(str)+df[\"Seleccione la UGEL.18\"].map(str)+df[\"Seleccione la UGEL.19\"].map(str)+df[\"Seleccione la UGEL.20\"].map(str)+df[\"Seleccione la UGEL.21\"].map(str)+df[\"Seleccione la UGEL.22\"].map(str)+df[\"Seleccione la UGEL.23\"].map(str)+df[\"Seleccione la UGEL.24\"].map(str)+df[\"Seleccione la UGEL.25\"].map(str)\n",
    "        df[\"region\"]=df[\"REGIÓN\"].map(str)+df[\"Región\"].map(str)+df[\"Región.1\"].map(str)\n",
    "        col = [\"Marca temporal\", \"DNI\", \"Nombres y Apellidos\", \"Teléfono\", \"Correo electrónico\",\"Régimen Laboral\", \"REGIÓN\", \"Tipo de institución en la que labora\", \"nivel_puesto\",\"nombre_puesto\",\"ugel\",\"Si seleccionó OTRO cargo, ingrese su cargo\",\"iniciativa\"]\n",
    "        \n",
    "        df1 = df[col]\n",
    "        \n",
    "\n",
    "# df[\"nivel_puesto\"]=df[\"Nivel del Puesto\"].map(str)+df[\"Nivel del Puesto.1\"].map(str)\n",
    "# df[\"nombre_puesto\"]=df[\"Nombre del Puesto (Analista)\"].map(str)+df[\"Nombre del Puesto (Asesor)\"].map(str)+df[\"Nombre del Puesto (Auxiliar/Asistente)\"].map(str)+df[\"Nombre del Puesto (Coordinador)\"].map(str)+df[\"Nombre del Puesto (Directivo)\"].map(str)+df[\"Nombre del Puesto (Especialista)\"].map(str)+df[\"Nombre de Puesto (Secretaría)\"].map(str)+df[\"Nombre de Puesto (Técnico)\"].map(str)+df[\"Nombre de Puesto (Otros)\"].map(str)+df[\"Nombre del Puesto\"].map(str)+df[\"Nombre del puesto\"].map(str)+df[\"Nombre del Puesto.2\"].map(str)+df[\"Nombre del Puesto.3\"].map(str)+df[\"Nombre del puesto.1\"].map(str)+df[\"Nombre del Puesto.4\"].map(str)+df[\"Nombre del Puesto.5\"].map(str)\n",
    "# df[\"ugel\"]=df[\"Seleccione la UGEL\"].map(str)+df[\"Seleccione la UGEL.1\"].map(str)+df[\"Seleccione la UGEL.2\"].map(str)+df[\"Seleccione la UGEL.3\"].map(str)+df[\"Seleccione la UGEL.4\"].map(str)+df[\"Seleccione la UGEL.5\"].map(str)+df[\"Seleccione la UGEL.6\"].map(str)+df[\"Seleccione la UGEL.7\"].map(str)+df[\"Seleccione la UGEL.8\"].map(str)+df[\"Seleccione la UGEL.9\"].map(str)+df[\"Seleccione la UGEL.10\"].map(str)+df[\"Seleccione la UGEL.11\"].map(str)+df[\"Seleccione la UGEL.12\"].map(str)+df[\"Seleccione la UGEL.13\"].map(str)+df[\"Seleccione la UGEL.14\"].map(str)+df[\"Seleccione la UGEL.15\"].map(str)+df[\"Seleccione la UGEL.16\"].map(str)+df[\"Seleccione la UGEL.17\"].map(str)+df[\"Seleccione la UGEL.18\"].map(str)+df[\"Seleccione la UGEL.19\"].map(str)+df[\"Seleccione la UGEL.20\"].map(str)+df[\"Seleccione la UGEL.21\"].map(str)+df[\"Seleccione la UGEL.22\"].map(str)+df[\"Seleccione la UGEL.23\"].map(str)+df[\"Seleccione la UGEL.24\"].map(str)+df[\"Seleccione la UGEL.25\"].map(str)\n",
    "\n",
    "# #listas con iniciativas\n",
    "# col = [\"Marca temporal\", \"DNI\", \"Nombres y Apellidos\", \"Teléfono\", \"Correo electrónico\",\"Régimen Laboral\", \"REGIÓN\", \"Tipo de institución en la que labora\", \n",
    "# \"nivel_puesto\",\"nombre_puesto\",\"ugel\",\"Si seleccionó OTRO cargo, ingrese su cargo\",\"iniciativa\"]\n",
    "\n",
    "#listas sin iniciativas\n",
    "# df[\"region\"]=df[\"REGIÓN\"].map(str)+df[\"Región\"].map(str)\n",
    "# col = [\"Marca temporal\", \"DNI\", \"Nombres y Apellidos\", \"Teléfono\", \"Correo electrónico\",\"Régimen Laboral\", \"region\", \"Tipo de institución en la que labora\", \n",
    "# \"nivel_puesto\",\"nombre_puesto\",\"ugel\",\"Si seleccionó OTRO cargo, ingrese su cargo\"]\n",
    "\n",
    "\n",
    "df1[\"iniciativax\"]=np.where(df1[\"iniciativa\"].str.find(\"INI.\")> 1, df1[\"iniciativa\"].str[-7:], \"\")\n",
    "df1[\"fecha_x\"] = pd.to_datetime(df1[\"Marca temporal\"]).dt.date\n",
    "df1['fecha_x'] = df1['fecha_x'].astype(str)\n"
   ]
  },
  {
   "cell_type": "code",
   "execution_count": null,
   "metadata": {},
   "outputs": [
    {
     "name": "stdout",
     "output_type": "stream",
     "text": [
      "DNI nuevos: 11\n"
     ]
    },
    {
     "name": "stderr",
     "output_type": "stream",
     "text": [
      "c:\\Users\\difoca05\\AppData\\Local\\Programs\\Python\\Python310\\lib\\site-packages\\pandas\\io\\sql.py:762: UserWarning: pandas only support SQLAlchemy connectable(engine/connection) ordatabase string URI or sqlite3 DBAPI2 connectionother DBAPI2 objects are not tested, please consider using SQLAlchemy\n",
      "  warnings.warn(\n",
      "C:\\Users\\difoca05\\AppData\\Local\\Temp\\ipykernel_22864\\3321917839.py:18: SettingWithCopyWarning: \n",
      "A value is trying to be set on a copy of a slice from a DataFrame.\n",
      "Try using .loc[row_indexer,col_indexer] = value instead\n",
      "\n",
      "See the caveats in the documentation: https://pandas.pydata.org/pandas-docs/stable/user_guide/indexing.html#returning-a-view-versus-a-copy\n",
      "  df_matric[\"llave1\"]=df_matric[\"REGIÓN\"].astype(str)+df_matric[\"ugel\"].astype(str)\n"
     ]
    }
   ],
   "source": [
    "try:\n",
    "    con = connection.connect(host=host, database =database,user=user, passwd=passwd,use_pure=True)\n",
    "    query = \"select * from ma_usuarios_cop\"\n",
    "    df2 = pd.read_sql(query,con)\n",
    "    con.close() #close the connection\n",
    "except Exception as e:\n",
    "    con.close()\n",
    "    print(str(e))\n",
    "\n",
    "df2[\"DNI\"]=df2[\"nro_doc\"]\n",
    "df2[\"DNI\"]= df2['DNI'].astype(str).str.zfill(8)\n",
    "df5=df2[[\"DNI\", \"nro_doc\"]]\n",
    "\n",
    "df6 = df1.merge(df5, on=\"DNI\", how=\"left\")\n",
    "df6=df6.fillna(\"\")\n",
    "\n",
    "df_matric = df6[df6[\"nro_doc\"]==\"\"]\n",
    "df_matric[\"llave1\"]=df_matric[\"REGIÓN\"].astype(str)+df_matric[\"ugel\"].astype(str)\n",
    "\n",
    "print(\"DNI nuevos:\",len(df_matric.index))"
   ]
  },
  {
   "cell_type": "code",
   "execution_count": null,
   "metadata": {},
   "outputs": [],
   "source": [
    "df_iged = pd.read_excel(\"C:/Users/difoca05/Documents/Maestros/cod_iged2.xlsx\", \"Hoja1\")\n",
    "\n",
    "df_matric2 = df_matric.merge(df_iged, on=\"llave1\", how=\"left\")\n",
    "\n",
    "df_matric2[\"Teléfono\"]= df_matric2['Teléfono'].astype(str)\n",
    "df_matric2[\"CODIGO\"]= df_matric2['CODIGO'].astype(int)\n",
    "df_matric2[\"CODIGO\"]= df_matric2['CODIGO'].astype(str).str.zfill(6)\n",
    "df_matric2[\"genero\"]=\"0\"\n",
    "df_matric2[\"nombres\"]=\"0\"\n",
    "df_matric2[\"apell_pat\"]=\"0\"\n",
    "df_matric2[\"apell_mat\"]=\"0\"\n",
    "df_matric2[\"fecha_nac\"]=\"0\"\n",
    "df_matric2[\"tipo_puest\"]=\"0\"\n",
    "\n",
    "\n",
    "if crear_excel_nuevos == 'si':\n",
    "    df_matric2.to_excel(excel_nuevos, index=False, sheet_name='base_datos')"
   ]
  },
  {
   "cell_type": "code",
   "execution_count": null,
   "metadata": {},
   "outputs": [],
   "source": [
    "df_sql_nuevos = pd.read_excel(excel_nuevos)\n",
    "df_sql_nuevos[\"DNI\"]= df_sql_nuevos['DNI'].astype(str).str.zfill(8)\n",
    "df_sql_nuevos[\"Teléfono\"]= df_sql_nuevos['Teléfono'].astype(str)\n",
    "\n",
    "df_sql_nuevos[\"CODIGO\"]= df_sql_nuevos['CODIGO'].astype(int)\n",
    "df_sql_nuevos[\"CODIGO\"]= df_sql_nuevos['CODIGO'].astype(str).str.zfill(6)\n",
    "\n",
    "df_sql_nuevos[\"fecha_nac\"] = pd.to_datetime(df_sql_nuevos[\"fecha_nac\"]).dt.date\n",
    "df_sql_nuevos['fecha_nac'] = df_sql_nuevos['fecha_nac'].astype(str)"
   ]
  },
  {
   "cell_type": "code",
   "execution_count": null,
   "metadata": {},
   "outputs": [
    {
     "name": "stderr",
     "output_type": "stream",
     "text": [
      "C:\\Users\\difoca05\\AppData\\Local\\Temp\\ipykernel_22864\\2716926702.py:2: SettingWithCopyWarning: \n",
      "A value is trying to be set on a copy of a slice from a DataFrame.\n",
      "Try using .loc[row_indexer,col_indexer] = value instead\n",
      "\n",
      "See the caveats in the documentation: https://pandas.pydata.org/pandas-docs/stable/user_guide/indexing.html#returning-a-view-versus-a-copy\n",
      "  df1[\"fecha_x\"] = pd.to_datetime(df1[\"Marca temporal\"]).dt.date\n",
      "C:\\Users\\difoca05\\AppData\\Local\\Temp\\ipykernel_22864\\2716926702.py:3: SettingWithCopyWarning: \n",
      "A value is trying to be set on a copy of a slice from a DataFrame.\n",
      "Try using .loc[row_indexer,col_indexer] = value instead\n",
      "\n",
      "See the caveats in the documentation: https://pandas.pydata.org/pandas-docs/stable/user_guide/indexing.html#returning-a-view-versus-a-copy\n",
      "  df1['fecha_x'] = df1['fecha_x'].astype(str)\n"
     ]
    }
   ],
   "source": [
    "df1[\"Marca temporal\"]\n",
    "df1[\"fecha_x\"] = pd.to_datetime(df1[\"Marca temporal\"]).dt.date\n",
    "df1['fecha_x'] = df1['fecha_x'].astype(str)"
   ]
  },
  {
   "cell_type": "code",
   "execution_count": null,
   "metadata": {},
   "outputs": [
    {
     "name": "stderr",
     "output_type": "stream",
     "text": [
      "C:\\Users\\difoca05\\AppData\\Local\\Temp\\ipykernel_22864\\1254026178.py:1: SettingWithCopyWarning: \n",
      "A value is trying to be set on a copy of a slice from a DataFrame.\n",
      "Try using .loc[row_indexer,col_indexer] = value instead\n",
      "\n",
      "See the caveats in the documentation: https://pandas.pydata.org/pandas-docs/stable/user_guide/indexing.html#returning-a-view-versus-a-copy\n",
      "  df1[\"fecha1\"] = pd.to_datetime(df1[\"Marca temporal\"]).dt.date\n",
      "C:\\Users\\difoca05\\AppData\\Local\\Temp\\ipykernel_22864\\1254026178.py:2: SettingWithCopyWarning: \n",
      "A value is trying to be set on a copy of a slice from a DataFrame.\n",
      "Try using .loc[row_indexer,col_indexer] = value instead\n",
      "\n",
      "See the caveats in the documentation: https://pandas.pydata.org/pandas-docs/stable/user_guide/indexing.html#returning-a-view-versus-a-copy\n",
      "  df1['fecha1'] = df1['fecha1'].astype(str)\n"
     ]
    }
   ],
   "source": [
    "df1[\"fecha1\"] = pd.to_datetime(df1[\"Marca temporal\"]).dt.date\n",
    "df1['fecha1'] = df1['fecha1'].astype(str)\n",
    "\n",
    "if subir_sql == 'si':\n",
    "    try:\n",
    "        con = connection.connect(host=host, database =database,user=user, passwd=passwd,use_pure=True)\n",
    "        cur=con.cursor()\n",
    "\n",
    "        for (rows,rs) in df1.iterrows():\n",
    "            x1 = cod_evento\n",
    "            x2 = rs[14]\n",
    "            x3 = rs[1]\n",
    "            x4 = \"\"\n",
    "            x5 = \"\"\n",
    "            x6 = \"\"\n",
    "            x7 = \"\"\n",
    "            query = \"insert into cop_evento_asistencia (ID_ACTIVIDAD, FECHA_ASIST, DNI, ESTADO_DESAFIO, NRO_DESAFIO, COMPARTE_MURO, COMENTA_MURO) VALUES ('\"+x1+\"', '\"+x2+\"', '\"+x3+\"', '\"+x4+\"', '\"+x5+\"', '\"+x6+\"', '\"+x7+\"')\"\n",
    "            cur.execute(query)\n",
    "        con.commit()\n",
    "        con.close()\n",
    "    except Exception as e:\n",
    "        con.close()\n",
    "        print(str(e))"
   ]
  },
  {
   "cell_type": "code",
   "execution_count": null,
   "metadata": {},
   "outputs": [
    {
     "name": "stdout",
     "output_type": "stream",
     "text": [
      "can only concatenate str (not \"int\") to str\n"
     ]
    }
   ],
   "source": [
    "if subir_sql == \"si\":\n",
    "    try:\n",
    "        con = connection.connect(host=host, database =database,user=user, passwd=passwd,use_pure=True)\n",
    "        cur=con.cursor()\n",
    "\n",
    "        for (rows,rs) in df_sql_nuevos.iterrows():\n",
    "            x1 = '1'\n",
    "            x2 = rs[1]\n",
    "            x3 = rs[4]\n",
    "            x4 = rs[19]\n",
    "            x5 = rs[21]\n",
    "            x6 = rs[22]\n",
    "            x7 = rs[20]\n",
    "            x8 = rs[23]\n",
    "            x9 = rs[3]\n",
    "            x10 = rs[8]\n",
    "            x11 = rs[9]\n",
    "            x12 = rs[24]\n",
    "            x13 = rs[5]\n",
    "            x14 = rs[15]\n",
    "            query = \"insert into ma_usuarios_cop (tipo_doc, nro_doc, email, genero, apellido_paterno, apellido_materno, nombres,fecha_nac,celular,nivel_puesto,desc_puesto,tipo_puesto,regimen_laboral,cod_iged) VALUES ('\"+x1+\"', '\"+x2+\"', '\"+x3+\"', '\"+x4+\"', '\"+x5+\"', '\"+x6+\"', '\"+x7+\"', '\"+x8+\"', '\"+x9+\"', '\"+x10+\"', '\"+x11+\"', '\"+x12+\"', '\"+x13+\"', '\"+x14+\"')\"\n",
    "            cur.execute(query)\n",
    "        con.commit()\n",
    "        con.close()\n",
    "    except Exception as e:\n",
    "        con.close()\n",
    "        print(str(e))\n",
    "    \n"
   ]
  },
  {
   "cell_type": "code",
   "execution_count": null,
   "metadata": {},
   "outputs": [],
   "source": [
    "if subir_sql == \"si\":\n",
    "    try:\n",
    "        con = connection.connect(host=host, database =database,user=user, passwd=passwd,use_pure=True)\n",
    "        cur=con.cursor()\n",
    "\n",
    "        for (rows,rs) in df1.iterrows():\n",
    "            x1 = rs[1]\n",
    "            x2 = rs[13]\n",
    "            x3 = rs[14]\n",
    "            x4 = cod_evento\n",
    "            query = \"insert into cop_asesorias_iniciativas (dni, cod_ini, fecha, id_actividad) VALUES ('\"+x1+\"', '\"+x2+\"', '\"+x3+\"', '\"+x4+\"')\"\n",
    "            cur.execute(query)\n",
    "        con.commit()\n",
    "        con.close()\n",
    "    except Exception as e:\n",
    "        con.close()\n",
    "        print(str(e))"
   ]
  },
  {
   "cell_type": "code",
   "execution_count": null,
   "metadata": {},
   "outputs": [],
   "source": [
    "if subir_sql == \"si\":\n",
    "    try:\n",
    "        con = connection.connect(host=host, database =database,user=user, passwd=passwd,use_pure=True)\n",
    "        cur=con.cursor()\n",
    "        query = \"delete from cop_asesorias_iniciativas where cod_ini = ''\"\n",
    "        cur.execute(query)\n",
    "        con.commit()\n",
    "        con.close()\n",
    "    except Exception as e:\n",
    "        con.close()\n",
    "        print(str(e))"
   ]
  }
 ],
 "metadata": {
  "kernelspec": {
   "display_name": "Python 3.10.7 64-bit",
   "language": "python",
   "name": "python3"
  },
  "language_info": {
   "codemirror_mode": {
    "name": "ipython",
    "version": 3
   },
   "file_extension": ".py",
   "mimetype": "text/x-python",
   "name": "python",
   "nbconvert_exporter": "python",
   "pygments_lexer": "ipython3",
   "version": "3.10.7 (tags/v3.10.7:6cc6b13, Sep  5 2022, 14:08:36) [MSC v.1933 64 bit (AMD64)]"
  },
  "orig_nbformat": 4,
  "vscode": {
   "interpreter": {
    "hash": "a75cba287430c04df4429d9879428dc35a189f246dd6e5de7437299dc4974f3d"
   }
  }
 },
 "nbformat": 4,
 "nbformat_minor": 2
}
