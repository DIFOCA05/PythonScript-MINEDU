{
 "cells": [
  {
   "cell_type": "code",
   "execution_count": 16,
   "metadata": {},
   "outputs": [],
   "source": [
    "import pandas as pd\n",
    "import numpy as np\n",
    "import mysql.connector as connection\n",
    "\n",
    "host=\"localhost\"\n",
    "database ='difoca'\n",
    "user=\"root\"\n",
    "passwd=\"root1\"\n",
    "\n",
    "ata = \"ATA23.002\"\n",
    "año = \"2023\"\n",
    "carpeta_ata = \"C:/Users/difoca05/OneDrive - Ministerio de Educación/ASISTENCIA TECNICA (ATA)/\"+año+\"/\"+ata\n",
    "\n",
    "df1 = pd.read_excel(carpeta_ata+\"/\"+ata+\".xlsx\", sheet_name='base_datos')\n",
    "df2 = pd.read_excel(carpeta_ata+\"/\"+ata+\".xlsx\", sheet_name='iged_convocados')\n",
    "\n",
    "df1[\"Celular\"].fillna('0', inplace=True)\n",
    "df1[\"iged_cod\"].fillna('0', inplace=True)\n",
    "\n",
    "df1[\"DNI\"]= df1['DNI'].astype(str).str.zfill(8)\n",
    "df1[\"Celular\"]=df1[\"Celular\"].astype(int)\n",
    "df1[\"Celular\"]= df1['Celular'].astype(str)\n",
    "\n",
    "df1[\"iged_cod\"]=df1[\"iged_cod\"].astype(int)\n",
    "df1[\"iged_cod\"]= df1['iged_cod'].astype(str).str.zfill(6)\n",
    "df1[\"iged_cod\"] = np.where(df1[\"iged_cod\"] == \"000000\" , \"\", df1[\"iged_cod\"])\n",
    "\n",
    "df1[\"Celular\"] = np.where(df1[\"Celular\"] == \"0\" , \"\", df1[\"Celular\"])\n",
    "\n",
    "df1[\"fecha\"] = pd.to_datetime(df1[\"fecha\"]).dt.date\n",
    "df1['fecha'] = df1['fecha'].astype(str)\n",
    "\n",
    "df1['pobj'] = df1['pobj'].astype(str)\n",
    "df1['otro_cargo'] = df1['otro_cargo'].astype(str)\n",
    "df1['inst'] = df1['inst'].astype(str)\n",
    "df1['categoria'] = df1['categoria'].astype(str)\n",
    "df1['cargo'] = df1['cargo'].astype(str)\n",
    "df1['Correo electrónico'] = df1['Correo electrónico'].astype(str)\n",
    "df1['nombre'] = df1['nombre'].astype(str)\n",
    "\n",
    "df1.fillna('', inplace=True)\n",
    "df1['nombre']=df1['nombre'].str.replace(\"'\", \"\")\n",
    "df1[\"inst\"]=df1[\"inst\"].str.replace(\"'\", \"\")\n",
    "\n",
    "df2[\"COD_IGED\"]= df2['COD_IGED'].astype(str).str.zfill(6)\n",
    "df2.fillna('', inplace=True)\n",
    "df2['KPI'] = df2['KPI'].astype(str)"
   ]
  },
  {
   "cell_type": "code",
   "execution_count": 17,
   "metadata": {},
   "outputs": [],
   "source": [
    "try:\n",
    "    con = connection.connect(host=host, database =database,user=user, passwd=passwd,use_pure=True)\n",
    "    cur=con.cursor()\n",
    "    query = \"delete from ata_implementacion where cod_ata = '\"+ata+\"'\"\n",
    "    cur.execute(query)\n",
    "    con.commit()\n",
    "    con.close()\n",
    "except Exception as e:\n",
    "    con.close()\n",
    "    print(str(e))"
   ]
  },
  {
   "cell_type": "code",
   "execution_count": 18,
   "metadata": {},
   "outputs": [],
   "source": [
    "try:\n",
    "    con = connection.connect(host=host, database =database,user=user, passwd=passwd,use_pure=True)\n",
    "    cur=con.cursor()\n",
    "    query = \"delete from ata_planificador_iged where cod_ata = '\"+ata+\"'\"\n",
    "    cur.execute(query)\n",
    "    con.commit()\n",
    "    con.close()\n",
    "except Exception as e:\n",
    "    con.close()\n",
    "    print(str(e))"
   ]
  },
  {
   "cell_type": "code",
   "execution_count": 19,
   "metadata": {},
   "outputs": [],
   "source": [
    "con = connection.connect(host=host, database =database,user=user, passwd=passwd,use_pure=True)\n",
    "cur=con.cursor()\n",
    "\n",
    "for (rows,rs) in df1.iterrows():\n",
    "        x1 = ata #codAata\n",
    "        x2 = rs[19] #sesion\n",
    "        x3 = rs[0] #fecha\n",
    "        x4 = rs[1] #dni\n",
    "        x5 = rs[2] #nombre\n",
    "        x6 = rs[3] #correo\n",
    "        x7 = rs[4] #celular\n",
    "        x8 = rs[5] #tipo inst\n",
    "        x9 = rs[11] # inst\n",
    "        x10 = rs[13] # cod iged\n",
    "        x11 = rs[9] # region\n",
    "        x12 = rs[7] # area\n",
    "        x13 = rs[8] # cargo\n",
    "        x14 = rs[10] # otro cargo\n",
    "        x15 = rs[20] # categoria\n",
    "        x16 = rs[22] #subcategoria\n",
    "        x17 = rs[21] # pub obj\n",
    "        x18 = rs[14] # p1\n",
    "        x19 = rs[15]#p2\n",
    "        x20 = rs[16] #p3\n",
    "        x21 = rs[17] #p4\n",
    "        x22 = rs[18] #p5\n",
    "        query = \"insert into ata_implementacion (cod_ata, sesion, fecha, dni, nombres, email, celular, tipo_inst, otra_inst, cod_iged, region_otra_inst, area, perfil, otro_cargo, categoria, subcategoria, po, p01, p02, p03, p04, p05) VALUES  ('\"+x1+\"', '\"+x2+\"', '\"+x3+\"', '\"+x4+\"', '\"+x5+\"', '\"+x6+\"', '\"+x7+\"', '\"+x8+\"', '\"+x9+\"', '\"+x10+\"', '\"+x11+\"', '\"+x12+\"', '\"+x13+\"', '\"+x14+\"', '\"+x15+\"', '\"+x16+\"', '\"+x17+\"', '\"+x18+\"', '\"+x19+\"', '\"+x20+\"', '\"+x21+\"', '\"+x21+\"')\"\n",
    "        cur.execute(query)\n",
    "con.commit()\n",
    "con.close()"
   ]
  },
  {
   "cell_type": "code",
   "execution_count": 20,
   "metadata": {},
   "outputs": [],
   "source": [
    "try:\n",
    "    con = connection.connect(host=host, database =database,user=user, passwd=passwd,use_pure=True)\n",
    "    cur=con.cursor()\n",
    "\n",
    "    for (rows,rs) in df2.iterrows():\n",
    "        x1 = ata\n",
    "        x2 = rs[0]\n",
    "        x3 = rs[5]\n",
    "        query = \"insert into ata_planificador_iged (cod_ata, cod_iged, kpi) VALUES ('\"+x1+\"', '\"+x2+\"', '\"+x3+\"')\"\n",
    "        cur.execute(query)\n",
    "    con.commit()\n",
    "    con.close()\n",
    "except Exception as e:\n",
    "    con.close()\n",
    "    print(str(e))"
   ]
  }
 ],
 "metadata": {
  "kernelspec": {
   "display_name": "Python 3.10.7 64-bit",
   "language": "python",
   "name": "python3"
  },
  "language_info": {
   "codemirror_mode": {
    "name": "ipython",
    "version": 3
   },
   "file_extension": ".py",
   "mimetype": "text/x-python",
   "name": "python",
   "nbconvert_exporter": "python",
   "pygments_lexer": "ipython3",
   "version": "3.10.7"
  },
  "orig_nbformat": 4,
  "vscode": {
   "interpreter": {
    "hash": "a75cba287430c04df4429d9879428dc35a189f246dd6e5de7437299dc4974f3d"
   }
  }
 },
 "nbformat": 4,
 "nbformat_minor": 2
}
