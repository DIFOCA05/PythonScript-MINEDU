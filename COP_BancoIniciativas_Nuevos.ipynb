{
 "cells": [
  {
   "cell_type": "markdown",
   "metadata": {},
   "source": [
    "**BANCO DE INICIATIVAS - AGREGAR NUEVA INICIATIVA**"
   ]
  },
  {
   "cell_type": "markdown",
   "metadata": {},
   "source": [
    "1. Indicar el Excel, la Hoja, el código de la Iniciativa"
   ]
  },
  {
   "cell_type": "code",
   "execution_count": 141,
   "metadata": {},
   "outputs": [],
   "source": [
    "excel = \"C:/Users/difoca05/OneDrive - Ministerio de Educación/CoP - Banco de Iniciativas/insumos/INICIATIVAS NUEVAS - OCT_281022.xlsx\"\n",
    "hoja = \"INI.456\"\n",
    "\n",
    "codigo_iniciativa = \"INI.456\"\n",
    "año = '2022'\n",
    "periodo = '10. OCT'"
   ]
  },
  {
   "cell_type": "code",
   "execution_count": 146,
   "metadata": {},
   "outputs": [],
   "source": [
    "# Acceso a Librerias y DataFrame\n",
    "import pandas as pd\n",
    "import mysql.connector as connection\n",
    "import warnings\n",
    "warnings.filterwarnings('ignore')\n",
    "\n",
    "df=pd.read_excel(excel, sheet_name=hoja, header=None)\n",
    "df[1] = df[1].astype(str)\n",
    "server = {\"h\":\"localhost\",\"d\":'difoca',\"u\":\"root\",\"p\":\"root1\"}"
   ]
  },
  {
   "cell_type": "code",
   "execution_count": 143,
   "metadata": {},
   "outputs": [],
   "source": [
    "# Definición de Variables de la tabla\n",
    "x2=df.iloc[0][1]\n",
    "x3=df.iloc[1][1]\n",
    "x4=df.iloc[2][1]\n",
    "x5=df.iloc[3][1]\n",
    "x6=df.iloc[4][1]\n",
    "x7=df.iloc[5][1]\n",
    "x8=df.iloc[6][1]\n",
    "x9=df.iloc[7][1]\n",
    "x10=df.iloc[8][1]\n",
    "\n",
    "x11=df.iloc[9][1]\n",
    "x12=df.iloc[10][1]\n",
    "\n",
    "xyz=df.iloc[11][1]\n",
    "codigo_iged = list(xyz.split(\",\"))\n",
    "codigo_iged = list(map(lambda x: x.replace(' ', ''), codigo_iged))"
   ]
  },
  {
   "cell_type": "code",
   "execution_count": 144,
   "metadata": {},
   "outputs": [],
   "source": [
    "# Acceso a la Base de Datos: Insert\n",
    "con = connection.connect(host=server[\"h\"], database =server[\"d\"],user=server[\"u\"], passwd=server[\"p\"],use_pure=True)\n",
    "cur=con.cursor()\n",
    "query1 = \"insert into cop_banco_iniciativas (cod_ini, nombre_ini, des_linea_tematica, des_eje_tematico, des_tipo_modalidad, des_modalidad, resumen_ini, tema_ini, fuente, año_implementacion) VALUES  ('\"+codigo_iniciativa+\"', '\"+x2+\"', '\"+x3+\"', '\"+x4+\"', '\"+x5+\"', '\"+x6+\"', '\"+x7+\"', '\"+x8+\"', '\"+x9+\"', '\"+x10+\"');\"\n",
    "query2 = \"insert into cop_banco_iniciativas_estadio (cod_ini, año, periodo, estadio, vigencia) values ('\" + codigo_iniciativa + \"', '\"+ año + \"', '\" + periodo + \"', '\" + x11 + \"', '\" + x12 + \"');\"\n",
    "cur.execute(query1)\n",
    "cur.execute(query2)\n",
    "con.commit()\n",
    "con.close()"
   ]
  },
  {
   "cell_type": "code",
   "execution_count": 145,
   "metadata": {},
   "outputs": [],
   "source": [
    "# Acceso a la Base de Datos: Insert2\n",
    "query3 = ''\n",
    "for x in codigo_iged:\n",
    "    b=\"('\" + codigo_iniciativa + \"', '\" + x + \"'),\"\n",
    "    query3=query3+b\n",
    "query3 = query3[:-1]\n",
    "query3=\"insert into cop_banco_iniciativas_iged (cod_ini, cod_iged) values \"+query3\n",
    "\n",
    "con = connection.connect(host=server[\"h\"], database =server[\"d\"],user=server[\"u\"], passwd=server[\"p\"],use_pure=True)\n",
    "cur=con.cursor()\n",
    "cur.execute(query3)\n",
    "con.commit()\n",
    "con.close()"
   ]
  }
 ],
 "metadata": {
  "kernelspec": {
   "display_name": "Python 3.10.7 64-bit",
   "language": "python",
   "name": "python3"
  },
  "language_info": {
   "codemirror_mode": {
    "name": "ipython",
    "version": 3
   },
   "file_extension": ".py",
   "mimetype": "text/x-python",
   "name": "python",
   "nbconvert_exporter": "python",
   "pygments_lexer": "ipython3",
   "version": "3.10.7 (tags/v3.10.7:6cc6b13, Sep  5 2022, 14:08:36) [MSC v.1933 64 bit (AMD64)]"
  },
  "orig_nbformat": 4,
  "vscode": {
   "interpreter": {
    "hash": "a75cba287430c04df4429d9879428dc35a189f246dd6e5de7437299dc4974f3d"
   }
  }
 },
 "nbformat": 4,
 "nbformat_minor": 2
}
