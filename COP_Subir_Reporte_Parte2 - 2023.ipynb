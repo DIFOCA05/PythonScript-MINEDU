{
 "cells": [
  {
   "cell_type": "code",
   "execution_count": 9,
   "metadata": {},
   "outputs": [],
   "source": [
    "import pandas as pd\n",
    "import numpy as np\n",
    "import mysql.connector as connection\n",
    "\n",
    "host=\"localhost\"\n",
    "database ='difoca'\n",
    "user=\"root\"\n",
    "passwd=\"root1\"\n",
    "\n",
    "cop = \"BANCO_DE_INICIATIVAS\"\n",
    "año = '2023'\n",
    "periodo =\"02. FEB\"\n",
    "carpeta_cop = \"C:/Users/difoca05/OneDrive - Ministerio de Educación/COMUNIDAD DE PRACTICA (COP)/\"+año+\"/BANCO\"\n",
    "#              C:\\Users\\difoca05\\OneDrive - Ministerio de Educación\\COMUNIDAD DE PRACTICA (COP)\\2023\\BANCO\n",
    "df2 = pd.read_excel(carpeta_cop+\"/\"+cop+\"_\"+año+\"_\"+periodo+\".xlsx\", sheet_name='cop_banco_iniciativas_estadio')\n",
    "df3 = pd.read_excel(carpeta_cop+\"/\"+cop+\"_\"+año+\"_\"+periodo+\".xlsx\", sheet_name='cop_banco_iniciativas_iged')\n",
    "df4 = pd.read_excel(carpeta_cop+\"/\"+cop+\"_\"+año+\"_\"+periodo+\".xlsx\", sheet_name='cop_ruta_fortalecimiento')\n",
    "\n",
    "df2.fillna('', inplace=True)\n",
    "\n",
    "df2[\"id\"]=df2[\"id\"].astype(int)\n",
    "df2[\"cod_ini\"]= df2['cod_ini'].astype(str)\n",
    "\n",
    "df2[\"año\"]= df2[\"año\"].astype(int)\n",
    "df2[\"año\"]= df2['año'].astype(str)\n",
    "\n",
    "df2[\"estadio\"]= df2['estadio'].astype(str)\n",
    "df2[\"vigencia\"]= df2['vigencia'].astype(str)\n",
    "df2[\"observacion\"]= df2['observacion'].astype(str)\n",
    "\n",
    "df3.fillna('', inplace=True)\n",
    "\n",
    "df3[\"id\"]= df3[\"id\"].astype(int)\n",
    "df3[\"cod_ini\"]= df3['cod_ini'].astype(str)\n",
    "\n",
    "df3[\"cod_iged\"] = df3[\"cod_iged\"].astype(int)\n",
    "df3[\"cod_iged\"] = df3['cod_iged'].astype(str).str.zfill(6)\n",
    "df3[\"cod_iged\"] = np.where(df3[\"cod_iged\"] == \"000000\" , \"\", df3[\"cod_iged\"])\n",
    "\n",
    "df4[\"cod_ini\"]= df4['cod_ini'].astype(str)\n",
    "df4[\"año\"]= df4[\"año\"].astype(int)\n",
    "df4[\"año\"]= df4['año'].astype(str)\n",
    "df4[\"periodo\"]= df4['periodo'].astype(str)\n"
   ]
  },
  {
   "cell_type": "code",
   "execution_count": 10,
   "metadata": {},
   "outputs": [],
   "source": [
    "try:\n",
    "    con = connection.connect(host=host, database =database,user=user, passwd=passwd,use_pure=True)\n",
    "    cur=con.cursor()\n",
    "    query = \"delete from cop_banco_iniciativas_estadio where año = '\"+año+\"' and periodo = '\"+periodo+\"'\"\n",
    "    #query = \"delete from cop_banco_iniciativas_estadio where año = '2022' and periodo = '12. DIC'\"\n",
    "    cur.execute(query)\n",
    "    con.commit()\n",
    "    con.close()\n",
    "except Exception as e:\n",
    "    con.close()\n",
    "    print(str(e))"
   ]
  },
  {
   "cell_type": "code",
   "execution_count": 11,
   "metadata": {},
   "outputs": [],
   "source": [
    "try:\n",
    "    con = connection.connect(host=host, database =database,user=user, passwd=passwd,use_pure=True)\n",
    "    cur=con.cursor()\n",
    "\n",
    "    for (rows,rs) in df2.iterrows():\n",
    "        x1 = rs[0]\n",
    "        x2 = rs[1]\n",
    "        x3 = año\n",
    "        x4 = periodo\n",
    "        x5 = rs[4]\n",
    "        x6 = rs[5]\n",
    "        x7 = rs[6]\n",
    "        query = \"insert into cop_banco_iniciativas_estadio (cod_ini, año, periodo, estadio, vigencia, observacion) VALUES ('\"+x2+\"', '\"+x3+\"', '\"+x4+\"', '\"+x5+\"', '\"+x6+\"', '\"+x7+\"')\"\n",
    "        cur.execute(query)\n",
    "    con.commit()\n",
    "    con.close()\n",
    "except Exception as e:\n",
    "    con.close()\n",
    "    print(str(e))"
   ]
  },
  {
   "cell_type": "code",
   "execution_count": 12,
   "metadata": {},
   "outputs": [],
   "source": [
    "try:\n",
    "    con = connection.connect(host=host, database =database,user=user, passwd=passwd,use_pure=True)\n",
    "    cur=con.cursor()\n",
    "    query = \"delete from cop_banco_iniciativas_iged where año = '\"+año+\"' and periodo = '\"+periodo+\"'\"\n",
    "    cur.execute(query)\n",
    "    con.commit()\n",
    "    con.close()\n",
    "except Exception as e:\n",
    "    con.close()\n",
    "    print(str(e))"
   ]
  },
  {
   "cell_type": "code",
   "execution_count": 13,
   "metadata": {},
   "outputs": [],
   "source": [
    "try:\n",
    "    con = connection.connect(host=host, database =database,user=user, passwd=passwd,use_pure=True)\n",
    "    cur=con.cursor()\n",
    "\n",
    "    for (rows,rs) in df3.iterrows():\n",
    "        x1 = rs[1]\n",
    "        x2 = rs[2]\n",
    "        x3 = año\n",
    "        x4 = periodo\n",
    "        query = \"insert into cop_banco_iniciativas_iged (cod_ini, cod_iged, año, periodo) VALUES ('\"+x1+\"', '\"+x2+\"', '\"+x3+\"', '\"+x4+\"')\"\n",
    "        cur.execute(query)\n",
    "    con.commit()\n",
    "    con.close()\n",
    "except Exception as e:\n",
    "    con.close()\n",
    "    print(str(e))"
   ]
  },
  {
   "cell_type": "code",
   "execution_count": 14,
   "metadata": {},
   "outputs": [],
   "source": [
    "try:\n",
    "    con = connection.connect(host=host, database =database,user=user, passwd=passwd,use_pure=True)\n",
    "    cur=con.cursor()\n",
    "    query = \"delete from cop_ruta_fortalecimiento where año = '\"+año+\"' and periodo = '\"+periodo+\"'\"\n",
    "    cur.execute(query)\n",
    "    con.commit()\n",
    "    con.close()\n",
    "except Exception as e:\n",
    "    con.close()\n",
    "    print(str(e))"
   ]
  },
  {
   "cell_type": "code",
   "execution_count": 15,
   "metadata": {},
   "outputs": [],
   "source": [
    "try:\n",
    "    con = connection.connect(host=host, database =database,user=user, passwd=passwd,use_pure=True)\n",
    "    cur=con.cursor()\n",
    "\n",
    "    for (rows,rs) in df4.iterrows():\n",
    "        x1 = rs[0]\n",
    "        x2 = año\n",
    "        x3 = periodo\n",
    "        query = \"insert into cop_ruta_fortalecimiento (cod_ini, año, periodo) VALUES ('\"+x1+\"', '\"+x2+\"', '\"+x3+\"')\"\n",
    "        cur.execute(query)\n",
    "    con.commit()\n",
    "    con.close()\n",
    "except Exception as e:\n",
    "    con.close()\n",
    "    print(str(e))"
   ]
  }
 ],
 "metadata": {
  "kernelspec": {
   "display_name": "Python 3.10.7 64-bit",
   "language": "python",
   "name": "python3"
  },
  "language_info": {
   "codemirror_mode": {
    "name": "ipython",
    "version": 3
   },
   "file_extension": ".py",
   "mimetype": "text/x-python",
   "name": "python",
   "nbconvert_exporter": "python",
   "pygments_lexer": "ipython3",
   "version": "3.10.7"
  },
  "orig_nbformat": 4,
  "vscode": {
   "interpreter": {
    "hash": "a75cba287430c04df4429d9879428dc35a189f246dd6e5de7437299dc4974f3d"
   }
  }
 },
 "nbformat": 4,
 "nbformat_minor": 2
}
