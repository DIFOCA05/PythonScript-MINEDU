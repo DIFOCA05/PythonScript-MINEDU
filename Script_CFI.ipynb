{
 "cells": [
  {
   "cell_type": "code",
   "execution_count": 1,
   "metadata": {},
   "outputs": [],
   "source": [
    "import matplotlib.pyplot as plt\n",
    "import pandas as pd\n",
    "import openpyxl\n",
    "import numpy as np\n",
    "from datetime import datetime\n",
    "\n",
    "df = pd.read_excel(\"bd/bd_165_cfi.xlsx\")\n",
    "df1 = pd.read_excel(\"informes/informe CFI.xlsx\")\n",
    "excel = \"reporte_cfi.xlsx\"\n",
    "excel2 = \"reporte_m_cfi.xlsm\"\n",
    "correo = \"enrique.paredes05@gmail.com; eparedes.quimarc@outlook.com\"\n",
    "asunto = \"GESTIÓN DEL CICLO DE FORMACIÓN INTERNA Y COMUNIDADES PROFESIONALES DE APRENDIZAJE - \" + datetime.now().strftime(\"%m/%d/%Y\")\n",
    "\n",
    "#histograma\n",
    "entrada = \"M1_ENTRADA\"\n",
    "salida = \"M1_SALIDA\"\n",
    "col1 = [entrada, salida]\n",
    "\n",
    "for column in df.columns:\n",
    "    df[column] = df[column].fillna(0)\n",
    "\n",
    "col_notas = ['M1_SALIDA', 'M2_SALIDA']\n",
    "len(col_notas)\n",
    "\n",
    "df[\"avance_curso\"]=(np.where(df['M1_SALIDA'] == 0, 0,1)+np.where(df['M2_SALIDA'] == 0, 0,1))/len(col_notas)"
   ]
  },
  {
   "cell_type": "code",
   "execution_count": 2,
   "metadata": {},
   "outputs": [],
   "source": [
    "#retirados\n",
    "df[\"retirados\"]=np.where((df['dni'] == 45963671) + (df['dni'] == 33591651) + (df['dni'] == 40698185), 1,0)"
   ]
  },
  {
   "cell_type": "code",
   "execution_count": 3,
   "metadata": {},
   "outputs": [
    {
     "name": "stderr",
     "output_type": "stream",
     "text": [
      "C:\\Users\\difoca05\\AppData\\Local\\Temp\\ipykernel_19004\\2467836343.py:13: FutureWarning: The pandas.datetime class is deprecated and will be removed from pandas in a future version. Import from datetime module instead.\n",
      "  hoy = pd.datetime.now()\n"
     ]
    }
   ],
   "source": [
    "#nota final\n",
    "df['promedio_final'] = df[col_notas].sum(axis=1)/len(col_notas)\n",
    "df[\"promedio_final_condicion\"] = np.where(df[\"promedio_final\"] >= 13.5 , \"aprobado\", \"desaprobado\")\n",
    "df[\"publico_objetivo\"]=1\n",
    "\n",
    "df1= df1.rename(columns={'Último acceso al curso':'fecha'})\n",
    "df1= df1.rename(columns={'Código oficial':'dni'})\n",
    "df1= df1.rename(columns={'Tiempo en el curso':'tiempo'})\n",
    "\n",
    "df = pd.merge(df,df1[['fecha', 'dni']])\n",
    "df['fecha_ultimo_ingreso_plataforma']=df[\"fecha\"]\n",
    "df=df.drop(['fecha'], axis=1)\n",
    "hoy = pd.datetime.now()\n",
    "df[\"dias_ausencia\"] = (hoy - df[\"fecha_ultimo_ingreso_plataforma\"]).dt.days\n",
    "\n",
    "\n",
    "df = pd.merge(df,df1[['tiempo', 'dni']])\n",
    "df[\"ingreso_curso\"] = np.where(df[\"tiempo\"] == \"00:00:00\" , \"NO\", \"SI\")\n",
    "df=df.drop(['tiempo'], axis=1)\n",
    "\n",
    "df[\"tipo_documento\"]=df[\"tipo_documento\"].astype(int)\n",
    "df[\"tipo_documento\"]=np.where(df['tipo_documento'] == 1, \"DNI\",\"OTROS\")\n",
    "\n",
    "df[\"estado_participante\"] = np.where(df[\"avance_curso\"] > 0 , \"Activo\", \"No Activo\")\n",
    "\n",
    "df[\"situacion_final\"] = np.where((df[\"promedio_final_condicion\"] == \"aprobado\") & (df[\"avance_curso\"] == 1) & (df[\"compromiso\"] == 20) , \"Certificado\", np.where((df[\"promedio_final_condicion\"] == \"desaprobado\") & (df[\"compromiso\"] == 20),\"Desaprobado\",\"Abandono\"))\n",
    "df[\"activos_curso\"] = np.where(df[\"estado_participante\"] ==\"Activo\" , 1, 0)\n",
    "df[\"aprobados_certificados\"] = np.where(df[\"situacion_final\"] ==\"Certificado\" , 1, 0)\n",
    "df[\"desaprobados\"] = np.where(df[\"situacion_final\"] ==\"Desaprobado\" , 1, 0)\n",
    "df[\"abandonos\"] = np.where(df[\"situacion_final\"] ==\"Abandono\" , 1, 0)\n"
   ]
  },
  {
   "cell_type": "code",
   "execution_count": 4,
   "metadata": {},
   "outputs": [
    {
     "data": {
      "image/png": "[encoded data removed]",
      "text/plain": [
       "<Figure size 432x288 with 1 Axes>"
      ]
     },
     "metadata": {
      "needs_background": "light"
     },
     "output_type": "display_data"
    }
   ],
   "source": [
    "\n",
    "m_entrada = df[entrada][df[entrada]!=0]\n",
    "m_salida = df[salida][df[salida]!=0]\n",
    "plt.hist(m_entrada, bins=15, color=\"g\",alpha = 0.6, label='entrada')\n",
    "plt.hist(m_salida, bins=15, color=\"b\",alpha = 0.6, label='salida')\n",
    "plt.title('Análisis de Notas entrada y salida')\n",
    "plt.xlabel('Notas')\n",
    "plt.ylabel('Cantidad Participantes')\n",
    "plt.legend(loc='upper left')\n",
    "plt.savefig('histograma.png')\n",
    "plt.show()"
   ]
  },
  {
   "cell_type": "code",
   "execution_count": 5,
   "metadata": {},
   "outputs": [],
   "source": [
    "df1 = df['region'].unique()\n",
    "df2=df[\"region\"].value_counts()\n",
    "\n",
    "\n",
    "df3 = df[df.tipo_iged=='UGEL'].groupby(by='region', as_index=False).agg({'iged': pd.Series.nunique})\n",
    "df3= df3.rename(columns={'iged':'UGEL'})\n",
    "#df3=df[df.tipo_iged=='UGEL'].groupby('region').iged.nunique()\n",
    "df4 = df[df.tipo_iged=='DRE / GRE'].groupby(by='region', as_index=False).agg({'iged': pd.Series.nunique})\n",
    "df4= df4.rename(columns={'iged':'DRE/GRE'})\n",
    "\n",
    "df5 = pd.merge(df4,df3, how = 'outer')\n",
    "for column in df5.columns:\n",
    "    df5[column] = df5[column].fillna(0)\n",
    "    \n"
   ]
  },
  {
   "cell_type": "code",
   "execution_count": 6,
   "metadata": {},
   "outputs": [
    {
     "data": {
      "text/plain": [
       "region\n",
       "AMAZONAS              11\n",
       "ANCASH                20\n",
       "APURIMAC              14\n",
       "AREQUIPA               4\n",
       "AYACUCHO              13\n",
       "CAJAMARCA             19\n",
       "CALLAO                 4\n",
       "CUSCO                  8\n",
       "HUANCAVELICA           6\n",
       "HUÁNUCO               10\n",
       "ICA                   11\n",
       "JUNÍN                 23\n",
       "LA LIBERTAD           17\n",
       "LAMBAYEQUE             8\n",
       "LIMA METROPOLITANA    21\n",
       "LIMA PROVINCIA        10\n",
       "LORETO                 9\n",
       "MADRE DE DIOS          4\n",
       "MOQUEGUA               7\n",
       "PASCO                  4\n",
       "PIURA                 19\n",
       "PUNO                  13\n",
       "SAN MARTIN            11\n",
       "TACNA                  4\n",
       "TUMBES                 8\n",
       "UCAYALI                6\n",
       "Name: dni, dtype: int64"
      ]
     },
     "execution_count": 6,
     "metadata": {},
     "output_type": "execute_result"
    }
   ],
   "source": [
    "df10 = df.groupby(['region'])['dni'].count()\n",
    "\n",
    "# df11 = df.query('compromiso == 20')\n",
    "# col11 = ['region', 'compromiso']\n",
    "# df12 = df11[col11]\n",
    "# df13 = df12.groupby(['region'])['compromiso'].count()\n",
    "\n",
    "# df14 = pd.merge(df10, df13, how='outer')\n",
    "df10\n"
   ]
  },
  {
   "cell_type": "code",
   "execution_count": 7,
   "metadata": {},
   "outputs": [
    {
     "data": {
      "text/html": [
       "<div>\n",
       "<style scoped>\n",
       "    .dataframe tbody tr th:only-of-type {\n",
       "        vertical-align: middle;\n",
       "    }\n",
       "\n",
       "    .dataframe tbody tr th {\n",
       "        vertical-align: top;\n",
       "    }\n",
       "\n",
       "    .dataframe thead th {\n",
       "        text-align: right;\n",
       "    }\n",
       "</style>\n",
       "<table border=\"1\" class=\"dataframe\">\n",
       "  <thead>\n",
       "    <tr style=\"text-align: right;\">\n",
       "      <th></th>\n",
       "      <th>M1_ENTRADA</th>\n",
       "      <th>M1_SALIDA</th>\n",
       "    </tr>\n",
       "  </thead>\n",
       "  <tbody>\n",
       "    <tr>\n",
       "      <th>count</th>\n",
       "      <td>174.000000</td>\n",
       "      <td>174.000000</td>\n",
       "    </tr>\n",
       "    <tr>\n",
       "      <th>mean</th>\n",
       "      <td>12.528736</td>\n",
       "      <td>18.666667</td>\n",
       "    </tr>\n",
       "    <tr>\n",
       "      <th>std</th>\n",
       "      <td>2.761582</td>\n",
       "      <td>1.927391</td>\n",
       "    </tr>\n",
       "    <tr>\n",
       "      <th>min</th>\n",
       "      <td>4.000000</td>\n",
       "      <td>8.000000</td>\n",
       "    </tr>\n",
       "    <tr>\n",
       "      <th>25%</th>\n",
       "      <td>10.000000</td>\n",
       "      <td>18.000000</td>\n",
       "    </tr>\n",
       "    <tr>\n",
       "      <th>50%</th>\n",
       "      <td>12.000000</td>\n",
       "      <td>20.000000</td>\n",
       "    </tr>\n",
       "    <tr>\n",
       "      <th>75%</th>\n",
       "      <td>14.000000</td>\n",
       "      <td>20.000000</td>\n",
       "    </tr>\n",
       "    <tr>\n",
       "      <th>max</th>\n",
       "      <td>20.000000</td>\n",
       "      <td>20.000000</td>\n",
       "    </tr>\n",
       "  </tbody>\n",
       "</table>\n",
       "</div>"
      ],
      "text/plain": [
       "       M1_ENTRADA   M1_SALIDA\n",
       "count  174.000000  174.000000\n",
       "mean    12.528736   18.666667\n",
       "std      2.761582    1.927391\n",
       "min      4.000000    8.000000\n",
       "25%     10.000000   18.000000\n",
       "50%     12.000000   20.000000\n",
       "75%     14.000000   20.000000\n",
       "max     20.000000   20.000000"
      ]
     },
     "execution_count": 7,
     "metadata": {},
     "output_type": "execute_result"
    }
   ],
   "source": [
    "df7 = df[col1][(df[entrada] !=0) & (df[salida] !=0)].describe()\n",
    "df7"
   ]
  },
  {
   "cell_type": "code",
   "execution_count": 8,
   "metadata": {},
   "outputs": [],
   "source": [
    "with pd.ExcelWriter(excel2, mode=\"a\",engine=\"openpyxl\",if_sheet_exists=\"overlay\", engine_kwargs={\"keep_vba\": True}) as writer:\n",
    "    df.to_excel(writer, sheet_name='base_datos' ,index=False)\n",
    "    df7.to_excel(writer,sheet_name=\"estadistica\", startrow=2 , startcol= 7, index=False, header=True)\n",
    "    df5.to_excel(writer,sheet_name=\"estadistica\", startrow=2 , startcol= 0, index=False, header=True)\n",
    "    \n",
    "#\n",
    "    \n",
    "wb = openpyxl.load_workbook(excel2, read_only=False, keep_vba=True)\n",
    "ws=wb[\"estadistica\"]\n",
    "img = openpyxl.drawing.image.Image('histograma.png')\n",
    "ws.add_image(img,\"H13\")\n",
    "\n",
    "ws['H1'] = \"COMPARATIVO COMPRUEBA ENTRADA Y SALIDA\"\n",
    "ws['A1'] = \"IGED PARTICIPANTES\"\n",
    "ws['E4'] = \"TOTAL DRE/GRE\"\n",
    "ws['E5'] = \"TOTAL UGEL\"\n",
    "ws['F4'] = df4['DRE/GRE'].sum()\n",
    "ws['F5'] = df3['UGEL'].sum()\n",
    "\n",
    "wb.save(excel2)    "
   ]
  },
  {
   "cell_type": "code",
   "execution_count": null,
   "metadata": {},
   "outputs": [],
   "source": [
    "import smtplib\n",
    "from email.mime.multipart import MIMEMultipart\n",
    "from email.mime.text import MIMEText\n",
    "from email.mime.base import MIMEBase\n",
    "from email import encoders\n",
    "\n",
    "username = \"difoca05@minedu.gob.pe\"\n",
    "password = \"Minedu2022+\"\n",
    "mail_from = \"difoca05@minedu.gob.pe\"\n",
    "mail_to = correo\n",
    "mail_subject = asunto\n",
    "mail_body = \"Buen día, adjunto reporte a la fecha \" + datetime.now().strftime(\"%m/%d/%Y\") + \". Saludos, Enrique Paredes\"\n",
    "mail_attachment= excel\n",
    "\n",
    "# mail_attachment_name= mail_attachment\n",
    "\n",
    "# mimemsg = MIMEMultipart()\n",
    "# mimemsg['From']=mail_from\n",
    "# mimemsg['To']=mail_to\n",
    "# mimemsg['Subject']=mail_subject\n",
    "# mimemsg.attach(MIMEText(mail_body, 'plain'))\n",
    "\n",
    "# with open(mail_attachment, \"rb\") as attachment:\n",
    "#     mimefile = MIMEBase('application', 'octet-stream')\n",
    "#     mimefile.set_payload((attachment).read())\n",
    "#     encoders.encode_base64(mimefile)\n",
    "#     mimefile.add_header('Content-Disposition', \"attachment; filename= %s\" % mail_attachment_name)\n",
    "#     mimemsg.attach(mimefile)\n",
    "#     connection = smtplib.SMTP(host='smtp.office365.com', port=587)\n",
    "#     connection.starttls()\n",
    "#     connection.login(username,password)\n",
    "#     connection.send_message(mimemsg)\n",
    "#     connection.quit()"
   ]
  }
 ],
 "metadata": {
  "kernelspec": {
   "display_name": "Python 3.10.7 64-bit",
   "language": "python",
   "name": "python3"
  },
  "language_info": {
   "codemirror_mode": {
    "name": "ipython",
    "version": 3
   },
   "file_extension": ".py",
   "mimetype": "text/x-python",
   "name": "python",
   "nbconvert_exporter": "python",
   "pygments_lexer": "ipython3",
   "version": "3.10.7"
  },
  "orig_nbformat": 4,
  "vscode": {
   "interpreter": {
    "hash": "a75cba287430c04df4429d9879428dc35a189f246dd6e5de7437299dc4974f3d"
   }
  }
 },
 "nbformat": 4,
 "nbformat_minor": 2
}
