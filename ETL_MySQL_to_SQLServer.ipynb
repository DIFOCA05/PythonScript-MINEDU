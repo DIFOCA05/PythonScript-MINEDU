{
 "cells": [
  {
   "cell_type": "code",
   "execution_count": 89,
   "metadata": {},
   "outputs": [],
   "source": [
    "#Librerias\n",
    "import pandas as pd\n",
    "import mysql.connector as connection\n",
    "import pyodbc\n",
    "import warnings\n",
    "\n",
    "warnings.filterwarnings('ignore')"
   ]
  },
  {
   "cell_type": "code",
   "execution_count": 90,
   "metadata": {},
   "outputs": [],
   "source": [
    "#Accesos MySQL\n",
    "host=\"10.1.1.198\"\n",
    "database =\"db_sidifoca\"\n",
    "user=\"jcoronado\"\n",
    "passwd=\"#Minedu2021#\"\n",
    "\n",
    "#Accesos a SQLServer\n",
    "host1=\"10.200.9.11\"\n",
    "database1 ='db_sysdifoca'\n",
    "user1=\"user_sysdifoca\"\n",
    "passwd1=\"user_sysdifoca\""
   ]
  },
  {
   "cell_type": "code",
   "execution_count": 91,
   "metadata": {},
   "outputs": [],
   "source": [
    "def sql_update_table(tabla, llave):\n",
    "    #traer tabla MySQL (origen)\n",
    "    try:\n",
    "        con = connection.connect(host=host, database =database,user=user, passwd=passwd)\n",
    "        query = \"select * from \"+tabla\n",
    "        dfx = pd.read_sql(query,con)\n",
    "        con.close() #close the connection\n",
    "    except Exception as e:\n",
    "        con.close()\n",
    "        print(str(e))\n",
    "    \n",
    "    dfx=dfx.replace(\"'\", \"\", regex=True)\n",
    "        \n",
    "    #traer tabla SQLServer (destino)\n",
    "    try:\n",
    "        con = pyodbc.connect('DRIVER={SQL Server};SERVER='+host1+';DATABASE='+database1+';UID='+user1+';PWD='+passwd1)\n",
    "        query = \"select * from \"+tabla\n",
    "        dfy = pd.read_sql(query,con)\n",
    "        con.close()\n",
    "    except Exception as e:\n",
    "        con.close()\n",
    "        print(str(e))\n",
    "    \n",
    "    #buscar nuevos valores\n",
    "    df = pd.concat([dfy, dfx]) \n",
    "    df = df.reset_index(drop=True)\n",
    "    df[\"cant\"]=1\n",
    "   \n",
    "    df1=df.groupby(llave)[\"cant\"].count()\n",
    "    df2 = pd.DataFrame(df1)\n",
    "    df2.reset_index(inplace=True)\n",
    "\n",
    "    df3 = df.merge(df2, on=llave, how=\"left\")\n",
    "    df4=df3[df3[\"cant_y\"]==1]\n",
    "    df4.pop(\"cant_x\")\n",
    "    df4.pop(\"cant_y\")\n",
    "    df4 = df4.astype (str)\n",
    "    \n",
    "    df4.reset_index(inplace=True)\n",
    "    df4.pop(\"index\")\n",
    "    \n",
    "    cols = \",\".join([str(i) for i in df4.columns.tolist()])\n",
    "    con = pyodbc.connect('DRIVER={SQL Server};SERVER='+host1+';DATABASE='+database1+';UID='+user1+';PWD='+passwd1)\n",
    "    cur=con.cursor()\n",
    "    for (index,rs) in df4.iterrows():\n",
    "        vals = \"','\".join([str(xi) for xi in df4.values.tolist()[index]])\n",
    "        sql = \"INSERT INTO \"+tabla+\" (\" +cols + \") VALUES ('\" + vals + \"')\"\n",
    "        cur.execute(sql)\n",
    "    con.commit()\n",
    "    con.close()      "
   ]
  },
  {
   "cell_type": "code",
   "execution_count": 92,
   "metadata": {},
   "outputs": [],
   "source": [
    "def sql_create_table (tabla_sql):\n",
    "    #traer tabla\n",
    "    try:\n",
    "        con = connection.connect(host=host, database =database,user=user, passwd=passwd)\n",
    "        query = \"select * from \"+tabla_sql\n",
    "        dfx = pd.read_sql(query,con)\n",
    "        con.close() #close the connection\n",
    "    except Exception as e:\n",
    "        con.close()\n",
    "        print(str(e))\n",
    "    \n",
    "    columnName = list(dfx.columns.values)\n",
    "    dataList = []\n",
    "    for x in dfx.dtypes:\n",
    "        if(x == 'int64'):\n",
    "            dataList.append('int')\n",
    "        elif (x == 'float64'):\n",
    "            dataList.append('float')\n",
    "        elif (x == 'bool'):\n",
    "            dataList.append('boolean')\n",
    "        else:\n",
    "            dataList.append('text')\n",
    "    \n",
    "    #crear script de crear tabla\n",
    "    createTable = 'CREATE TABLE '+tabla_sql+' ('\n",
    "    for i in range(len(dataList)):\n",
    "        createTable = createTable + columnName[i] + ' ' + dataList[i] + ','\n",
    "    createTable = createTable[:-1] + ' );'\n",
    "   \n",
    "    con = pyodbc.connect('DRIVER={SQL Server};SERVER='+host1+';DATABASE='+database1+';UID='+user1+';PWD='+passwd1)\n",
    "    cur=con.cursor()\n",
    "    cur.execute(createTable)\n",
    "    con.commit()\n",
    "    con.close()"
   ]
  },
  {
   "cell_type": "code",
   "execution_count": 95,
   "metadata": {},
   "outputs": [],
   "source": [
    "#Aplicar funcion crear tablas (tabla_sql)\n",
    "sql_create_table(\"T_GENM_USUARIO\")"
   ]
  },
  {
   "cell_type": "code",
   "execution_count": 96,
   "metadata": {},
   "outputs": [],
   "source": [
    "#Aplicar funcion (tabla_sql, columna_llave)\n",
    "sql_update_table(\"T_GENM_USUARIO\",\"id_usuario\")\n",
    "\n"
   ]
  }
 ],
 "metadata": {
  "kernelspec": {
   "display_name": "Python 3.10.7 64-bit",
   "language": "python",
   "name": "python3"
  },
  "language_info": {
   "codemirror_mode": {
    "name": "ipython",
    "version": 3
   },
   "file_extension": ".py",
   "mimetype": "text/x-python",
   "name": "python",
   "nbconvert_exporter": "python",
   "pygments_lexer": "ipython3",
   "version": "3.10.7"
  },
  "orig_nbformat": 4,
  "vscode": {
   "interpreter": {
    "hash": "a75cba287430c04df4429d9879428dc35a189f246dd6e5de7437299dc4974f3d"
   }
  }
 },
 "nbformat": 4,
 "nbformat_minor": 2
}
